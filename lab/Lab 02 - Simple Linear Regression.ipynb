{
 "cells": [
  {
   "cell_type": "markdown",
   "metadata": {
    "collapsed": true,
    "pycharm": {
     "name": "#%% md\n"
    }
   },
   "source": [
    "# Lab 02 - Simple Linear Regression\n",
    "\n",
    "Regressions are any learning problem that aim to describe the relation between a set of explanatory \n",
    "variables (i.e. features) and a continuous response (or a set of responses). Therefore our dataset is of the form:\n",
    "\n",
    "$$S=\\left\\{\\left(\\mathbf{x}_i, y_i\\right)\\right\\}^m_{i=1} \\quad s.t. \\quad \\mathbf{x}_i\\in\\mathbb{R^d},\\,\\,y_i\\in\\mathbb{R}$$\n",
    "\n",
    "In the case of Linear Regression the relation learned is a linear one. That is, we search for a linear function to map \n",
    "$\\mathcal{X}$ to $\\mathcal{Y}$. So the hypothesis class of linear regression is:\n",
    "\n",
    "$$ \\mathcal{H}_{reg} = \\left\\{h:h\\left(x_1,\\ldots,x_d\\right)=w_0 + \\sum w_i x_i\\right\\} $$\n",
    "\n",
    "Note that the linear function is linear in the parameters $w_0,w_1,\\ldots,w_d$. Let us simulate a dataset fitting the case of a simple linear regression: \n",
    "\n",
    "$$ y_i = w_1 x_i + w_0 \\quad i=1,\\ldots,m $$\n",
    "\n",
    "So each hypothesis in the class $\\mathcal{H}_{reg}$ is defined by two parameters $w_0,w_1$ - the intercept and slope of\n",
    "the line. Suppose the data is generated from the following line: $Y=2X+1$. So $w_0=1$ and $w_2=2$. Let us draw and plot \n",
    "samples from this function."
   ]
  },
  {
   "cell_type": "code",
   "execution_count": 15,
   "metadata": {
    "pycharm": {
     "is_executing": false
    }
   },
   "outputs": [],
   "source": [
    "import sys\n",
    "sys.path.append(\"../\")\n",
    "from utils import *"
   ]
  },
  {
   "cell_type": "markdown",
   "metadata": {},
   "source": [
    "## Linear Regression"
   ]
  },
  {
   "cell_type": "code",
   "execution_count": 16,
   "metadata": {
    "pycharm": {
     "is_executing": false,
     "name": "#%%\n"
    }
   },
   "outputs": [],
   "source": [
    "w0, w1 = 1, 2    \n",
    "\n",
    "x = np.linspace(0, 100, 10)\n",
    "y = w1*x + w0"
   ]
  },
  {
   "cell_type": "code",
   "execution_count": 17,
   "metadata": {
    "pycharm": {
     "is_executing": false,
     "name": "#%%\n"
    }
   },
   "outputs": [
    {
     "data": {
      "application/vnd.plotly.v1+json": {
       "config": {
        "plotlyServerURL": "https://plot.ly"
       },
       "data": [
        {
         "line": {
          "color": "black",
          "dash": "dash",
          "width": 1
         },
         "marker": {
          "color": "black",
          "opacity": 0.7
         },
         "name": "Real Model",
         "showlegend": true,
         "type": "scatter",
         "x": [
          0,
          11.11111111111111,
          22.22222222222222,
          33.33333333333333,
          44.44444444444444,
          55.55555555555556,
          66.66666666666666,
          77.77777777777777,
          88.88888888888889,
          100
         ],
         "y": [
          1,
          23.22222222222222,
          45.44444444444444,
          67.66666666666666,
          89.88888888888889,
          112.11111111111111,
          134.33333333333331,
          156.55555555555554,
          178.77777777777777,
          201
         ]
        }
       ],
       "layout": {
        "height": 400,
        "template": {
         "data": {
          "bar": [
           {
            "error_x": {
             "color": "rgb(36,36,36)"
            },
            "error_y": {
             "color": "rgb(36,36,36)"
            },
            "marker": {
             "line": {
              "color": "white",
              "width": 0.5
             },
             "pattern": {
              "fillmode": "overlay",
              "size": 10,
              "solidity": 0.2
             }
            },
            "type": "bar"
           }
          ],
          "barpolar": [
           {
            "marker": {
             "line": {
              "color": "white",
              "width": 0.5
             },
             "pattern": {
              "fillmode": "overlay",
              "size": 10,
              "solidity": 0.2
             }
            },
            "type": "barpolar"
           }
          ],
          "carpet": [
           {
            "aaxis": {
             "endlinecolor": "rgb(36,36,36)",
             "gridcolor": "white",
             "linecolor": "white",
             "minorgridcolor": "white",
             "startlinecolor": "rgb(36,36,36)"
            },
            "baxis": {
             "endlinecolor": "rgb(36,36,36)",
             "gridcolor": "white",
             "linecolor": "white",
             "minorgridcolor": "white",
             "startlinecolor": "rgb(36,36,36)"
            },
            "type": "carpet"
           }
          ],
          "choropleth": [
           {
            "colorbar": {
             "outlinewidth": 1,
             "tickcolor": "rgb(36,36,36)",
             "ticks": "outside"
            },
            "type": "choropleth"
           }
          ],
          "contour": [
           {
            "colorbar": {
             "outlinewidth": 1,
             "tickcolor": "rgb(36,36,36)",
             "ticks": "outside"
            },
            "colorscale": [
             [
              0,
              "#440154"
             ],
             [
              0.1111111111111111,
              "#482878"
             ],
             [
              0.2222222222222222,
              "#3e4989"
             ],
             [
              0.3333333333333333,
              "#31688e"
             ],
             [
              0.4444444444444444,
              "#26828e"
             ],
             [
              0.5555555555555556,
              "#1f9e89"
             ],
             [
              0.6666666666666666,
              "#35b779"
             ],
             [
              0.7777777777777778,
              "#6ece58"
             ],
             [
              0.8888888888888888,
              "#b5de2b"
             ],
             [
              1,
              "#fde725"
             ]
            ],
            "type": "contour"
           }
          ],
          "contourcarpet": [
           {
            "colorbar": {
             "outlinewidth": 1,
             "tickcolor": "rgb(36,36,36)",
             "ticks": "outside"
            },
            "type": "contourcarpet"
           }
          ],
          "heatmap": [
           {
            "colorbar": {
             "outlinewidth": 1,
             "tickcolor": "rgb(36,36,36)",
             "ticks": "outside"
            },
            "colorscale": [
             [
              0,
              "#440154"
             ],
             [
              0.1111111111111111,
              "#482878"
             ],
             [
              0.2222222222222222,
              "#3e4989"
             ],
             [
              0.3333333333333333,
              "#31688e"
             ],
             [
              0.4444444444444444,
              "#26828e"
             ],
             [
              0.5555555555555556,
              "#1f9e89"
             ],
             [
              0.6666666666666666,
              "#35b779"
             ],
             [
              0.7777777777777778,
              "#6ece58"
             ],
             [
              0.8888888888888888,
              "#b5de2b"
             ],
             [
              1,
              "#fde725"
             ]
            ],
            "type": "heatmap"
           }
          ],
          "heatmapgl": [
           {
            "colorbar": {
             "outlinewidth": 1,
             "tickcolor": "rgb(36,36,36)",
             "ticks": "outside"
            },
            "colorscale": [
             [
              0,
              "#440154"
             ],
             [
              0.1111111111111111,
              "#482878"
             ],
             [
              0.2222222222222222,
              "#3e4989"
             ],
             [
              0.3333333333333333,
              "#31688e"
             ],
             [
              0.4444444444444444,
              "#26828e"
             ],
             [
              0.5555555555555556,
              "#1f9e89"
             ],
             [
              0.6666666666666666,
              "#35b779"
             ],
             [
              0.7777777777777778,
              "#6ece58"
             ],
             [
              0.8888888888888888,
              "#b5de2b"
             ],
             [
              1,
              "#fde725"
             ]
            ],
            "type": "heatmapgl"
           }
          ],
          "histogram": [
           {
            "marker": {
             "line": {
              "color": "white",
              "width": 0.6
             }
            },
            "type": "histogram"
           }
          ],
          "histogram2d": [
           {
            "colorbar": {
             "outlinewidth": 1,
             "tickcolor": "rgb(36,36,36)",
             "ticks": "outside"
            },
            "colorscale": [
             [
              0,
              "#440154"
             ],
             [
              0.1111111111111111,
              "#482878"
             ],
             [
              0.2222222222222222,
              "#3e4989"
             ],
             [
              0.3333333333333333,
              "#31688e"
             ],
             [
              0.4444444444444444,
              "#26828e"
             ],
             [
              0.5555555555555556,
              "#1f9e89"
             ],
             [
              0.6666666666666666,
              "#35b779"
             ],
             [
              0.7777777777777778,
              "#6ece58"
             ],
             [
              0.8888888888888888,
              "#b5de2b"
             ],
             [
              1,
              "#fde725"
             ]
            ],
            "type": "histogram2d"
           }
          ],
          "histogram2dcontour": [
           {
            "colorbar": {
             "outlinewidth": 1,
             "tickcolor": "rgb(36,36,36)",
             "ticks": "outside"
            },
            "colorscale": [
             [
              0,
              "#440154"
             ],
             [
              0.1111111111111111,
              "#482878"
             ],
             [
              0.2222222222222222,
              "#3e4989"
             ],
             [
              0.3333333333333333,
              "#31688e"
             ],
             [
              0.4444444444444444,
              "#26828e"
             ],
             [
              0.5555555555555556,
              "#1f9e89"
             ],
             [
              0.6666666666666666,
              "#35b779"
             ],
             [
              0.7777777777777778,
              "#6ece58"
             ],
             [
              0.8888888888888888,
              "#b5de2b"
             ],
             [
              1,
              "#fde725"
             ]
            ],
            "type": "histogram2dcontour"
           }
          ],
          "mesh3d": [
           {
            "colorbar": {
             "outlinewidth": 1,
             "tickcolor": "rgb(36,36,36)",
             "ticks": "outside"
            },
            "type": "mesh3d"
           }
          ],
          "parcoords": [
           {
            "line": {
             "colorbar": {
              "outlinewidth": 1,
              "tickcolor": "rgb(36,36,36)",
              "ticks": "outside"
             }
            },
            "type": "parcoords"
           }
          ],
          "pie": [
           {
            "automargin": true,
            "type": "pie"
           }
          ],
          "scatter": [
           {
            "marker": {
             "colorbar": {
              "outlinewidth": 1,
              "tickcolor": "rgb(36,36,36)",
              "ticks": "outside"
             }
            },
            "type": "scatter"
           }
          ],
          "scatter3d": [
           {
            "line": {
             "colorbar": {
              "outlinewidth": 1,
              "tickcolor": "rgb(36,36,36)",
              "ticks": "outside"
             }
            },
            "marker": {
             "colorbar": {
              "outlinewidth": 1,
              "tickcolor": "rgb(36,36,36)",
              "ticks": "outside"
             }
            },
            "type": "scatter3d"
           }
          ],
          "scattercarpet": [
           {
            "marker": {
             "colorbar": {
              "outlinewidth": 1,
              "tickcolor": "rgb(36,36,36)",
              "ticks": "outside"
             }
            },
            "type": "scattercarpet"
           }
          ],
          "scattergeo": [
           {
            "marker": {
             "colorbar": {
              "outlinewidth": 1,
              "tickcolor": "rgb(36,36,36)",
              "ticks": "outside"
             }
            },
            "type": "scattergeo"
           }
          ],
          "scattergl": [
           {
            "marker": {
             "colorbar": {
              "outlinewidth": 1,
              "tickcolor": "rgb(36,36,36)",
              "ticks": "outside"
             }
            },
            "type": "scattergl"
           }
          ],
          "scattermapbox": [
           {
            "marker": {
             "colorbar": {
              "outlinewidth": 1,
              "tickcolor": "rgb(36,36,36)",
              "ticks": "outside"
             }
            },
            "type": "scattermapbox"
           }
          ],
          "scatterpolar": [
           {
            "marker": {
             "colorbar": {
              "outlinewidth": 1,
              "tickcolor": "rgb(36,36,36)",
              "ticks": "outside"
             }
            },
            "type": "scatterpolar"
           }
          ],
          "scatterpolargl": [
           {
            "marker": {
             "colorbar": {
              "outlinewidth": 1,
              "tickcolor": "rgb(36,36,36)",
              "ticks": "outside"
             }
            },
            "type": "scatterpolargl"
           }
          ],
          "scatterternary": [
           {
            "marker": {
             "colorbar": {
              "outlinewidth": 1,
              "tickcolor": "rgb(36,36,36)",
              "ticks": "outside"
             }
            },
            "type": "scatterternary"
           }
          ],
          "surface": [
           {
            "colorbar": {
             "outlinewidth": 1,
             "tickcolor": "rgb(36,36,36)",
             "ticks": "outside"
            },
            "colorscale": [
             [
              0,
              "#440154"
             ],
             [
              0.1111111111111111,
              "#482878"
             ],
             [
              0.2222222222222222,
              "#3e4989"
             ],
             [
              0.3333333333333333,
              "#31688e"
             ],
             [
              0.4444444444444444,
              "#26828e"
             ],
             [
              0.5555555555555556,
              "#1f9e89"
             ],
             [
              0.6666666666666666,
              "#35b779"
             ],
             [
              0.7777777777777778,
              "#6ece58"
             ],
             [
              0.8888888888888888,
              "#b5de2b"
             ],
             [
              1,
              "#fde725"
             ]
            ],
            "type": "surface"
           }
          ],
          "table": [
           {
            "cells": {
             "fill": {
              "color": "rgb(237,237,237)"
             },
             "line": {
              "color": "white"
             }
            },
            "header": {
             "fill": {
              "color": "rgb(217,217,217)"
             },
             "line": {
              "color": "white"
             }
            },
            "type": "table"
           }
          ]
         },
         "layout": {
          "annotationdefaults": {
           "arrowhead": 0,
           "arrowwidth": 1
          },
          "autotypenumbers": "strict",
          "coloraxis": {
           "colorbar": {
            "outlinewidth": 1,
            "tickcolor": "rgb(36,36,36)",
            "ticks": "outside"
           }
          },
          "colorscale": {
           "diverging": [
            [
             0,
             "rgb(103,0,31)"
            ],
            [
             0.1,
             "rgb(178,24,43)"
            ],
            [
             0.2,
             "rgb(214,96,77)"
            ],
            [
             0.3,
             "rgb(244,165,130)"
            ],
            [
             0.4,
             "rgb(253,219,199)"
            ],
            [
             0.5,
             "rgb(247,247,247)"
            ],
            [
             0.6,
             "rgb(209,229,240)"
            ],
            [
             0.7,
             "rgb(146,197,222)"
            ],
            [
             0.8,
             "rgb(67,147,195)"
            ],
            [
             0.9,
             "rgb(33,102,172)"
            ],
            [
             1,
             "rgb(5,48,97)"
            ]
           ],
           "sequential": [
            [
             0,
             "#440154"
            ],
            [
             0.1111111111111111,
             "#482878"
            ],
            [
             0.2222222222222222,
             "#3e4989"
            ],
            [
             0.3333333333333333,
             "#31688e"
            ],
            [
             0.4444444444444444,
             "#26828e"
            ],
            [
             0.5555555555555556,
             "#1f9e89"
            ],
            [
             0.6666666666666666,
             "#35b779"
            ],
            [
             0.7777777777777778,
             "#6ece58"
            ],
            [
             0.8888888888888888,
             "#b5de2b"
            ],
            [
             1,
             "#fde725"
            ]
           ],
           "sequentialminus": [
            [
             0,
             "#440154"
            ],
            [
             0.1111111111111111,
             "#482878"
            ],
            [
             0.2222222222222222,
             "#3e4989"
            ],
            [
             0.3333333333333333,
             "#31688e"
            ],
            [
             0.4444444444444444,
             "#26828e"
            ],
            [
             0.5555555555555556,
             "#1f9e89"
            ],
            [
             0.6666666666666666,
             "#35b779"
            ],
            [
             0.7777777777777778,
             "#6ece58"
            ],
            [
             0.8888888888888888,
             "#b5de2b"
            ],
            [
             1,
             "#fde725"
            ]
           ]
          },
          "colorway": [
           "#1F77B4",
           "#FF7F0E",
           "#2CA02C",
           "#D62728",
           "#9467BD",
           "#8C564B",
           "#E377C2",
           "#7F7F7F",
           "#BCBD22",
           "#17BECF"
          ],
          "font": {
           "color": "rgb(36,36,36)"
          },
          "geo": {
           "bgcolor": "white",
           "lakecolor": "white",
           "landcolor": "white",
           "showlakes": true,
           "showland": true,
           "subunitcolor": "white"
          },
          "hoverlabel": {
           "align": "left"
          },
          "hovermode": "closest",
          "mapbox": {
           "style": "light"
          },
          "margin": {
           "b": 0,
           "l": 20,
           "r": 20,
           "t": 40
          },
          "paper_bgcolor": "white",
          "plot_bgcolor": "white",
          "polar": {
           "angularaxis": {
            "gridcolor": "rgb(232,232,232)",
            "linecolor": "rgb(36,36,36)",
            "showgrid": false,
            "showline": true,
            "ticks": "outside"
           },
           "bgcolor": "white",
           "radialaxis": {
            "gridcolor": "rgb(232,232,232)",
            "linecolor": "rgb(36,36,36)",
            "showgrid": false,
            "showline": true,
            "ticks": "outside"
           }
          },
          "scene": {
           "xaxis": {
            "backgroundcolor": "white",
            "gridcolor": "rgb(232,232,232)",
            "gridwidth": 2,
            "linecolor": "rgb(36,36,36)",
            "showbackground": true,
            "showgrid": false,
            "showline": true,
            "ticks": "outside",
            "zeroline": false,
            "zerolinecolor": "rgb(36,36,36)"
           },
           "yaxis": {
            "backgroundcolor": "white",
            "gridcolor": "rgb(232,232,232)",
            "gridwidth": 2,
            "linecolor": "rgb(36,36,36)",
            "showbackground": true,
            "showgrid": false,
            "showline": true,
            "ticks": "outside",
            "zeroline": false,
            "zerolinecolor": "rgb(36,36,36)"
           },
           "zaxis": {
            "backgroundcolor": "white",
            "gridcolor": "rgb(232,232,232)",
            "gridwidth": 2,
            "linecolor": "rgb(36,36,36)",
            "showbackground": true,
            "showgrid": false,
            "showline": true,
            "ticks": "outside",
            "zeroline": false,
            "zerolinecolor": "rgb(36,36,36)"
           }
          },
          "shapedefaults": {
           "fillcolor": "black",
           "line": {
            "width": 0
           },
           "opacity": 0.3
          },
          "ternary": {
           "aaxis": {
            "gridcolor": "rgb(232,232,232)",
            "linecolor": "rgb(36,36,36)",
            "showgrid": false,
            "showline": true,
            "ticks": "outside"
           },
           "baxis": {
            "gridcolor": "rgb(232,232,232)",
            "linecolor": "rgb(36,36,36)",
            "showgrid": false,
            "showline": true,
            "ticks": "outside"
           },
           "bgcolor": "white",
           "caxis": {
            "gridcolor": "rgb(232,232,232)",
            "linecolor": "rgb(36,36,36)",
            "showgrid": false,
            "showline": true,
            "ticks": "outside"
           }
          },
          "title": {
           "x": 0.05
          },
          "xaxis": {
           "automargin": true,
           "gridcolor": "rgb(232,232,232)",
           "linecolor": "rgb(36,36,36)",
           "showgrid": false,
           "showline": true,
           "ticks": "outside",
           "title": {
            "standoff": 15
           },
           "zeroline": false,
           "zerolinecolor": "rgb(36,36,36)"
          },
          "yaxis": {
           "automargin": true,
           "gridcolor": "rgb(232,232,232)",
           "linecolor": "rgb(36,36,36)",
           "showgrid": false,
           "showline": true,
           "ticks": "outside",
           "title": {
            "standoff": 15
           },
           "zeroline": false,
           "zerolinecolor": "rgb(36,36,36)"
          }
         }
        },
        "title": {
         "text": "$\\text{(1) Simulated Data}$"
        },
        "xaxis": {
         "title": {
          "text": "x - Explanatory Variable"
         }
        },
        "yaxis": {
         "title": {
          "text": "y - Response"
         }
        }
       }
      },
      "text/html": [
       "<div>                            <div id=\"b08ae8fd-01fa-442f-a082-80f461c2806c\" class=\"plotly-graph-div\" style=\"height:400px; width:100%;\"></div>            <script type=\"text/javascript\">                require([\"plotly\"], function(Plotly) {                    window.PLOTLYENV=window.PLOTLYENV || {};                                    if (document.getElementById(\"b08ae8fd-01fa-442f-a082-80f461c2806c\")) {                    Plotly.newPlot(                        \"b08ae8fd-01fa-442f-a082-80f461c2806c\",                        [{\"line\":{\"color\":\"black\",\"dash\":\"dash\",\"width\":1},\"marker\":{\"color\":\"black\",\"opacity\":0.7},\"name\":\"Real Model\",\"showlegend\":true,\"x\":[0.0,11.11111111111111,22.22222222222222,33.33333333333333,44.44444444444444,55.55555555555556,66.66666666666666,77.77777777777777,88.88888888888889,100.0],\"y\":[1.0,23.22222222222222,45.44444444444444,67.66666666666666,89.88888888888889,112.11111111111111,134.33333333333331,156.55555555555554,178.77777777777777,201.0],\"type\":\"scatter\"}],                        {\"height\":400,\"title\":{\"text\":\"$\\\\text{(1) Simulated Data}$\"},\"xaxis\":{\"title\":{\"text\":\"x - Explanatory Variable\"}},\"yaxis\":{\"title\":{\"text\":\"y - Response\"}},\"template\":{\"data\":{\"barpolar\":[{\"marker\":{\"line\":{\"color\":\"white\",\"width\":0.5},\"pattern\":{\"fillmode\":\"overlay\",\"size\":10,\"solidity\":0.2}},\"type\":\"barpolar\"}],\"bar\":[{\"error_x\":{\"color\":\"rgb(36,36,36)\"},\"error_y\":{\"color\":\"rgb(36,36,36)\"},\"marker\":{\"line\":{\"color\":\"white\",\"width\":0.5},\"pattern\":{\"fillmode\":\"overlay\",\"size\":10,\"solidity\":0.2}},\"type\":\"bar\"}],\"carpet\":[{\"aaxis\":{\"endlinecolor\":\"rgb(36,36,36)\",\"gridcolor\":\"white\",\"linecolor\":\"white\",\"minorgridcolor\":\"white\",\"startlinecolor\":\"rgb(36,36,36)\"},\"baxis\":{\"endlinecolor\":\"rgb(36,36,36)\",\"gridcolor\":\"white\",\"linecolor\":\"white\",\"minorgridcolor\":\"white\",\"startlinecolor\":\"rgb(36,36,36)\"},\"type\":\"carpet\"}],\"choropleth\":[{\"colorbar\":{\"outlinewidth\":1,\"tickcolor\":\"rgb(36,36,36)\",\"ticks\":\"outside\"},\"type\":\"choropleth\"}],\"contourcarpet\":[{\"colorbar\":{\"outlinewidth\":1,\"tickcolor\":\"rgb(36,36,36)\",\"ticks\":\"outside\"},\"type\":\"contourcarpet\"}],\"contour\":[{\"colorbar\":{\"outlinewidth\":1,\"tickcolor\":\"rgb(36,36,36)\",\"ticks\":\"outside\"},\"colorscale\":[[0.0,\"#440154\"],[0.1111111111111111,\"#482878\"],[0.2222222222222222,\"#3e4989\"],[0.3333333333333333,\"#31688e\"],[0.4444444444444444,\"#26828e\"],[0.5555555555555556,\"#1f9e89\"],[0.6666666666666666,\"#35b779\"],[0.7777777777777778,\"#6ece58\"],[0.8888888888888888,\"#b5de2b\"],[1.0,\"#fde725\"]],\"type\":\"contour\"}],\"heatmapgl\":[{\"colorbar\":{\"outlinewidth\":1,\"tickcolor\":\"rgb(36,36,36)\",\"ticks\":\"outside\"},\"colorscale\":[[0.0,\"#440154\"],[0.1111111111111111,\"#482878\"],[0.2222222222222222,\"#3e4989\"],[0.3333333333333333,\"#31688e\"],[0.4444444444444444,\"#26828e\"],[0.5555555555555556,\"#1f9e89\"],[0.6666666666666666,\"#35b779\"],[0.7777777777777778,\"#6ece58\"],[0.8888888888888888,\"#b5de2b\"],[1.0,\"#fde725\"]],\"type\":\"heatmapgl\"}],\"heatmap\":[{\"colorbar\":{\"outlinewidth\":1,\"tickcolor\":\"rgb(36,36,36)\",\"ticks\":\"outside\"},\"colorscale\":[[0.0,\"#440154\"],[0.1111111111111111,\"#482878\"],[0.2222222222222222,\"#3e4989\"],[0.3333333333333333,\"#31688e\"],[0.4444444444444444,\"#26828e\"],[0.5555555555555556,\"#1f9e89\"],[0.6666666666666666,\"#35b779\"],[0.7777777777777778,\"#6ece58\"],[0.8888888888888888,\"#b5de2b\"],[1.0,\"#fde725\"]],\"type\":\"heatmap\"}],\"histogram2dcontour\":[{\"colorbar\":{\"outlinewidth\":1,\"tickcolor\":\"rgb(36,36,36)\",\"ticks\":\"outside\"},\"colorscale\":[[0.0,\"#440154\"],[0.1111111111111111,\"#482878\"],[0.2222222222222222,\"#3e4989\"],[0.3333333333333333,\"#31688e\"],[0.4444444444444444,\"#26828e\"],[0.5555555555555556,\"#1f9e89\"],[0.6666666666666666,\"#35b779\"],[0.7777777777777778,\"#6ece58\"],[0.8888888888888888,\"#b5de2b\"],[1.0,\"#fde725\"]],\"type\":\"histogram2dcontour\"}],\"histogram2d\":[{\"colorbar\":{\"outlinewidth\":1,\"tickcolor\":\"rgb(36,36,36)\",\"ticks\":\"outside\"},\"colorscale\":[[0.0,\"#440154\"],[0.1111111111111111,\"#482878\"],[0.2222222222222222,\"#3e4989\"],[0.3333333333333333,\"#31688e\"],[0.4444444444444444,\"#26828e\"],[0.5555555555555556,\"#1f9e89\"],[0.6666666666666666,\"#35b779\"],[0.7777777777777778,\"#6ece58\"],[0.8888888888888888,\"#b5de2b\"],[1.0,\"#fde725\"]],\"type\":\"histogram2d\"}],\"histogram\":[{\"marker\":{\"line\":{\"color\":\"white\",\"width\":0.6}},\"type\":\"histogram\"}],\"mesh3d\":[{\"colorbar\":{\"outlinewidth\":1,\"tickcolor\":\"rgb(36,36,36)\",\"ticks\":\"outside\"},\"type\":\"mesh3d\"}],\"parcoords\":[{\"line\":{\"colorbar\":{\"outlinewidth\":1,\"tickcolor\":\"rgb(36,36,36)\",\"ticks\":\"outside\"}},\"type\":\"parcoords\"}],\"pie\":[{\"automargin\":true,\"type\":\"pie\"}],\"scatter3d\":[{\"line\":{\"colorbar\":{\"outlinewidth\":1,\"tickcolor\":\"rgb(36,36,36)\",\"ticks\":\"outside\"}},\"marker\":{\"colorbar\":{\"outlinewidth\":1,\"tickcolor\":\"rgb(36,36,36)\",\"ticks\":\"outside\"}},\"type\":\"scatter3d\"}],\"scattercarpet\":[{\"marker\":{\"colorbar\":{\"outlinewidth\":1,\"tickcolor\":\"rgb(36,36,36)\",\"ticks\":\"outside\"}},\"type\":\"scattercarpet\"}],\"scattergeo\":[{\"marker\":{\"colorbar\":{\"outlinewidth\":1,\"tickcolor\":\"rgb(36,36,36)\",\"ticks\":\"outside\"}},\"type\":\"scattergeo\"}],\"scattergl\":[{\"marker\":{\"colorbar\":{\"outlinewidth\":1,\"tickcolor\":\"rgb(36,36,36)\",\"ticks\":\"outside\"}},\"type\":\"scattergl\"}],\"scattermapbox\":[{\"marker\":{\"colorbar\":{\"outlinewidth\":1,\"tickcolor\":\"rgb(36,36,36)\",\"ticks\":\"outside\"}},\"type\":\"scattermapbox\"}],\"scatterpolargl\":[{\"marker\":{\"colorbar\":{\"outlinewidth\":1,\"tickcolor\":\"rgb(36,36,36)\",\"ticks\":\"outside\"}},\"type\":\"scatterpolargl\"}],\"scatterpolar\":[{\"marker\":{\"colorbar\":{\"outlinewidth\":1,\"tickcolor\":\"rgb(36,36,36)\",\"ticks\":\"outside\"}},\"type\":\"scatterpolar\"}],\"scatter\":[{\"marker\":{\"colorbar\":{\"outlinewidth\":1,\"tickcolor\":\"rgb(36,36,36)\",\"ticks\":\"outside\"}},\"type\":\"scatter\"}],\"scatterternary\":[{\"marker\":{\"colorbar\":{\"outlinewidth\":1,\"tickcolor\":\"rgb(36,36,36)\",\"ticks\":\"outside\"}},\"type\":\"scatterternary\"}],\"surface\":[{\"colorbar\":{\"outlinewidth\":1,\"tickcolor\":\"rgb(36,36,36)\",\"ticks\":\"outside\"},\"colorscale\":[[0.0,\"#440154\"],[0.1111111111111111,\"#482878\"],[0.2222222222222222,\"#3e4989\"],[0.3333333333333333,\"#31688e\"],[0.4444444444444444,\"#26828e\"],[0.5555555555555556,\"#1f9e89\"],[0.6666666666666666,\"#35b779\"],[0.7777777777777778,\"#6ece58\"],[0.8888888888888888,\"#b5de2b\"],[1.0,\"#fde725\"]],\"type\":\"surface\"}],\"table\":[{\"cells\":{\"fill\":{\"color\":\"rgb(237,237,237)\"},\"line\":{\"color\":\"white\"}},\"header\":{\"fill\":{\"color\":\"rgb(217,217,217)\"},\"line\":{\"color\":\"white\"}},\"type\":\"table\"}]},\"layout\":{\"annotationdefaults\":{\"arrowhead\":0,\"arrowwidth\":1},\"autotypenumbers\":\"strict\",\"coloraxis\":{\"colorbar\":{\"outlinewidth\":1,\"tickcolor\":\"rgb(36,36,36)\",\"ticks\":\"outside\"}},\"colorscale\":{\"diverging\":[[0.0,\"rgb(103,0,31)\"],[0.1,\"rgb(178,24,43)\"],[0.2,\"rgb(214,96,77)\"],[0.3,\"rgb(244,165,130)\"],[0.4,\"rgb(253,219,199)\"],[0.5,\"rgb(247,247,247)\"],[0.6,\"rgb(209,229,240)\"],[0.7,\"rgb(146,197,222)\"],[0.8,\"rgb(67,147,195)\"],[0.9,\"rgb(33,102,172)\"],[1.0,\"rgb(5,48,97)\"]],\"sequential\":[[0.0,\"#440154\"],[0.1111111111111111,\"#482878\"],[0.2222222222222222,\"#3e4989\"],[0.3333333333333333,\"#31688e\"],[0.4444444444444444,\"#26828e\"],[0.5555555555555556,\"#1f9e89\"],[0.6666666666666666,\"#35b779\"],[0.7777777777777778,\"#6ece58\"],[0.8888888888888888,\"#b5de2b\"],[1.0,\"#fde725\"]],\"sequentialminus\":[[0.0,\"#440154\"],[0.1111111111111111,\"#482878\"],[0.2222222222222222,\"#3e4989\"],[0.3333333333333333,\"#31688e\"],[0.4444444444444444,\"#26828e\"],[0.5555555555555556,\"#1f9e89\"],[0.6666666666666666,\"#35b779\"],[0.7777777777777778,\"#6ece58\"],[0.8888888888888888,\"#b5de2b\"],[1.0,\"#fde725\"]]},\"colorway\":[\"#1F77B4\",\"#FF7F0E\",\"#2CA02C\",\"#D62728\",\"#9467BD\",\"#8C564B\",\"#E377C2\",\"#7F7F7F\",\"#BCBD22\",\"#17BECF\"],\"font\":{\"color\":\"rgb(36,36,36)\"},\"geo\":{\"bgcolor\":\"white\",\"lakecolor\":\"white\",\"landcolor\":\"white\",\"showlakes\":true,\"showland\":true,\"subunitcolor\":\"white\"},\"hoverlabel\":{\"align\":\"left\"},\"hovermode\":\"closest\",\"mapbox\":{\"style\":\"light\"},\"paper_bgcolor\":\"white\",\"plot_bgcolor\":\"white\",\"polar\":{\"angularaxis\":{\"gridcolor\":\"rgb(232,232,232)\",\"linecolor\":\"rgb(36,36,36)\",\"showgrid\":false,\"showline\":true,\"ticks\":\"outside\"},\"bgcolor\":\"white\",\"radialaxis\":{\"gridcolor\":\"rgb(232,232,232)\",\"linecolor\":\"rgb(36,36,36)\",\"showgrid\":false,\"showline\":true,\"ticks\":\"outside\"}},\"scene\":{\"xaxis\":{\"backgroundcolor\":\"white\",\"gridcolor\":\"rgb(232,232,232)\",\"gridwidth\":2,\"linecolor\":\"rgb(36,36,36)\",\"showbackground\":true,\"showgrid\":false,\"showline\":true,\"ticks\":\"outside\",\"zeroline\":false,\"zerolinecolor\":\"rgb(36,36,36)\"},\"yaxis\":{\"backgroundcolor\":\"white\",\"gridcolor\":\"rgb(232,232,232)\",\"gridwidth\":2,\"linecolor\":\"rgb(36,36,36)\",\"showbackground\":true,\"showgrid\":false,\"showline\":true,\"ticks\":\"outside\",\"zeroline\":false,\"zerolinecolor\":\"rgb(36,36,36)\"},\"zaxis\":{\"backgroundcolor\":\"white\",\"gridcolor\":\"rgb(232,232,232)\",\"gridwidth\":2,\"linecolor\":\"rgb(36,36,36)\",\"showbackground\":true,\"showgrid\":false,\"showline\":true,\"ticks\":\"outside\",\"zeroline\":false,\"zerolinecolor\":\"rgb(36,36,36)\"}},\"shapedefaults\":{\"fillcolor\":\"black\",\"line\":{\"width\":0},\"opacity\":0.3},\"ternary\":{\"aaxis\":{\"gridcolor\":\"rgb(232,232,232)\",\"linecolor\":\"rgb(36,36,36)\",\"showgrid\":false,\"showline\":true,\"ticks\":\"outside\"},\"baxis\":{\"gridcolor\":\"rgb(232,232,232)\",\"linecolor\":\"rgb(36,36,36)\",\"showgrid\":false,\"showline\":true,\"ticks\":\"outside\"},\"bgcolor\":\"white\",\"caxis\":{\"gridcolor\":\"rgb(232,232,232)\",\"linecolor\":\"rgb(36,36,36)\",\"showgrid\":false,\"showline\":true,\"ticks\":\"outside\"}},\"title\":{\"x\":0.05},\"xaxis\":{\"automargin\":true,\"gridcolor\":\"rgb(232,232,232)\",\"linecolor\":\"rgb(36,36,36)\",\"showgrid\":false,\"showline\":true,\"ticks\":\"outside\",\"title\":{\"standoff\":15},\"zeroline\":false,\"zerolinecolor\":\"rgb(36,36,36)\"},\"yaxis\":{\"automargin\":true,\"gridcolor\":\"rgb(232,232,232)\",\"linecolor\":\"rgb(36,36,36)\",\"showgrid\":false,\"showline\":true,\"ticks\":\"outside\",\"title\":{\"standoff\":15},\"zeroline\":false,\"zerolinecolor\":\"rgb(36,36,36)\"},\"margin\":{\"b\":0,\"l\":20,\"r\":20,\"t\":40}}}},                        {\"responsive\": true}                    ).then(function(){\n",
       "                            \n",
       "var gd = document.getElementById('b08ae8fd-01fa-442f-a082-80f461c2806c');\n",
       "var x = new MutationObserver(function (mutations, observer) {{\n",
       "        var display = window.getComputedStyle(gd).display;\n",
       "        if (!display || display === 'none') {{\n",
       "            console.log([gd, 'removed!']);\n",
       "            Plotly.purge(gd);\n",
       "            observer.disconnect();\n",
       "        }}\n",
       "}});\n",
       "\n",
       "// Listen for the removal of the full notebook cells\n",
       "var notebookContainer = gd.closest('#notebook-container');\n",
       "if (notebookContainer) {{\n",
       "    x.observe(notebookContainer, {childList: true});\n",
       "}}\n",
       "\n",
       "// Listen for the clearing of the current output cell\n",
       "var outputEl = gd.closest('.output');\n",
       "if (outputEl) {{\n",
       "    x.observe(outputEl, {childList: true});\n",
       "}}\n",
       "\n",
       "                        })                };                });            </script>        </div>"
      ]
     },
     "metadata": {},
     "output_type": "display_data"
    }
   ],
   "source": [
    "fig = go.Figure([go.Scatter(x=x, y=y, name=\"Real Model\", showlegend=True,\n",
    "                                 marker=dict(color=\"black\", opacity=.7), line=dict(color=\"black\", dash=\"dash\", width=1))], \n",
    "          layout=go.Layout(title=r\"$\\text{(1) Simulated Data}$\",\n",
    "                           xaxis={\"title\": \"x - Explanatory Variable\"},\n",
    "                           yaxis={\"title\": \"y - Response\"},\n",
    "                           height=400))\n",
    "fig.show()"
   ]
  },
  {
   "cell_type": "markdown",
   "metadata": {
    "pycharm": {
     "name": "#%% md\n"
    }
   },
   "source": [
    "Using this sample as a **training set**, let us compute the Ordinary Least Squares (OLS) estimators $\\hat{w_0},\\widehat{w_1}$ of the model. Then, if we are given new samples $x_j$ we can predict its response $\\hat{y}_j$:\n",
    "\n",
    "$$ \\hat{y}_j = \\hat{w_1} x_j + \\hat{w}_0 $$\n",
    "\n",
    "Over the dataset above, try and think what would you expect the output to be?"
   ]
  },
  {
   "cell_type": "code",
   "execution_count": 18,
   "metadata": {
    "pycharm": {
     "is_executing": false,
     "name": "#%%\n"
    }
   },
   "outputs": [
    {
     "name": "stdout",
     "output_type": "stream",
     "text": [
      "Estimated intercept: 0.9999999999999716\n",
      "Estimated coefficient: 2.0000000000000004\n"
     ]
    }
   ],
   "source": [
    "from sklearn.linear_model import LinearRegression\n",
    "noiseless_model = LinearRegression()\n",
    "\n",
    "noiseless_model.fit(x.reshape((-1,1)), y)\n",
    "print(\"Estimated intercept:\", noiseless_model.intercept_)\n",
    "print(\"Estimated coefficient:\", noiseless_model.coef_[0])\n"
   ]
  },
  {
   "cell_type": "markdown",
   "metadata": {
    "pycharm": {
     "name": "#%% md\n"
    }
   },
   "source": [
    "## Linear Regression With Noise\n",
    "As the dataset used to fit the model lays exactly on a straight line, the estimated coefficients are the correct \n",
    "ones (up to floating point precision). Next, let us add some Gaussian noise to the data and see how it influences our \n",
    "estimation. So: \n",
    "\n",
    "$$\\forall i \\in \\left[ m \\right]\\quad y_i=w_1\\cdot x_i + w_0 + \\varepsilon_i \\quad s.t.\\quad \n",
    "\\varepsilon\\sim\\mathcal{N}\\left(0,\\sigma^2I_m\\right)$$\n",
    "\n",
    "Namely, the noise of each sample distributes by a Gaussian with zero mean and $\\sigma^2$ variance, and is uncorrelated between samples.\n",
    "\n",
    "*Notice that from now on we mark the $y$'s generated by the noise-less model with `y_`. This is so it is clear that the \"real\"\n",
    "$y$'s observed in a given sample are noisy.*"
   ]
  },
  {
   "cell_type": "code",
   "execution_count": 20,
   "metadata": {
    "pycharm": {
     "is_executing": false,
     "name": "#%%\n"
    }
   },
   "outputs": [
    {
     "data": {
      "application/vnd.plotly.v1+json": {
       "config": {
        "plotlyServerURL": "https://plot.ly"
       },
       "data": [
        {
         "line": {
          "color": "black",
          "dash": "dash",
          "width": 1
         },
         "marker": {
          "color": "black",
          "opacity": 0.7
         },
         "name": "Real Model",
         "showlegend": true,
         "type": "scatter",
         "x": [
          0,
          11.11111111111111,
          22.22222222222222,
          33.33333333333333,
          44.44444444444444,
          55.55555555555556,
          66.66666666666666,
          77.77777777777777,
          88.88888888888889,
          100
         ],
         "y": [
          1,
          23.22222222222222,
          45.44444444444444,
          67.66666666666666,
          89.88888888888889,
          112.11111111111111,
          134.33333333333331,
          156.55555555555554,
          178.77777777777777,
          201
         ]
        },
        {
         "line": {
          "width": 1
         },
         "mode": "markers",
         "name": "Observed Points",
         "type": "scatter",
         "x": [
          0,
          11.11111111111111,
          22.22222222222222,
          33.33333333333333,
          44.44444444444444,
          55.55555555555556,
          66.66666666666666,
          77.77777777777777,
          88.88888888888889,
          100
         ],
         "y": [
          5.0204848179953,
          0.1589958590160805,
          -11.647413632243847,
          14.435936827510986,
          59.43788288161885,
          90.95475896576994,
          -96.70290227763542,
          -34.379492611112006,
          36.93424276501371,
          -8.982185579755251
         ]
        },
        {
         "line": {
          "width": 1
         },
         "mode": "markers",
         "name": "Observed Points",
         "type": "scatter",
         "x": [
          0,
          11.11111111111111,
          22.22222222222222,
          33.33333333333333,
          44.44444444444444,
          55.55555555555556,
          66.66666666666666,
          77.77777777777777,
          88.88888888888889,
          100
         ],
         "y": [
          -38.936431784409514,
          95.70961397564764,
          -17.295610191804286,
          -57.12929435521986,
          -8.728075507930292,
          62.111162715997565,
          -17.30150365424395,
          -16.093190900360298,
          -44.078139249776,
          -36.04904977592253
         ]
        }
       ],
       "layout": {
        "height": 400,
        "template": {
         "data": {
          "bar": [
           {
            "error_x": {
             "color": "rgb(36,36,36)"
            },
            "error_y": {
             "color": "rgb(36,36,36)"
            },
            "marker": {
             "line": {
              "color": "white",
              "width": 0.5
             },
             "pattern": {
              "fillmode": "overlay",
              "size": 10,
              "solidity": 0.2
             }
            },
            "type": "bar"
           }
          ],
          "barpolar": [
           {
            "marker": {
             "line": {
              "color": "white",
              "width": 0.5
             },
             "pattern": {
              "fillmode": "overlay",
              "size": 10,
              "solidity": 0.2
             }
            },
            "type": "barpolar"
           }
          ],
          "carpet": [
           {
            "aaxis": {
             "endlinecolor": "rgb(36,36,36)",
             "gridcolor": "white",
             "linecolor": "white",
             "minorgridcolor": "white",
             "startlinecolor": "rgb(36,36,36)"
            },
            "baxis": {
             "endlinecolor": "rgb(36,36,36)",
             "gridcolor": "white",
             "linecolor": "white",
             "minorgridcolor": "white",
             "startlinecolor": "rgb(36,36,36)"
            },
            "type": "carpet"
           }
          ],
          "choropleth": [
           {
            "colorbar": {
             "outlinewidth": 1,
             "tickcolor": "rgb(36,36,36)",
             "ticks": "outside"
            },
            "type": "choropleth"
           }
          ],
          "contour": [
           {
            "colorbar": {
             "outlinewidth": 1,
             "tickcolor": "rgb(36,36,36)",
             "ticks": "outside"
            },
            "colorscale": [
             [
              0,
              "#440154"
             ],
             [
              0.1111111111111111,
              "#482878"
             ],
             [
              0.2222222222222222,
              "#3e4989"
             ],
             [
              0.3333333333333333,
              "#31688e"
             ],
             [
              0.4444444444444444,
              "#26828e"
             ],
             [
              0.5555555555555556,
              "#1f9e89"
             ],
             [
              0.6666666666666666,
              "#35b779"
             ],
             [
              0.7777777777777778,
              "#6ece58"
             ],
             [
              0.8888888888888888,
              "#b5de2b"
             ],
             [
              1,
              "#fde725"
             ]
            ],
            "type": "contour"
           }
          ],
          "contourcarpet": [
           {
            "colorbar": {
             "outlinewidth": 1,
             "tickcolor": "rgb(36,36,36)",
             "ticks": "outside"
            },
            "type": "contourcarpet"
           }
          ],
          "heatmap": [
           {
            "colorbar": {
             "outlinewidth": 1,
             "tickcolor": "rgb(36,36,36)",
             "ticks": "outside"
            },
            "colorscale": [
             [
              0,
              "#440154"
             ],
             [
              0.1111111111111111,
              "#482878"
             ],
             [
              0.2222222222222222,
              "#3e4989"
             ],
             [
              0.3333333333333333,
              "#31688e"
             ],
             [
              0.4444444444444444,
              "#26828e"
             ],
             [
              0.5555555555555556,
              "#1f9e89"
             ],
             [
              0.6666666666666666,
              "#35b779"
             ],
             [
              0.7777777777777778,
              "#6ece58"
             ],
             [
              0.8888888888888888,
              "#b5de2b"
             ],
             [
              1,
              "#fde725"
             ]
            ],
            "type": "heatmap"
           }
          ],
          "heatmapgl": [
           {
            "colorbar": {
             "outlinewidth": 1,
             "tickcolor": "rgb(36,36,36)",
             "ticks": "outside"
            },
            "colorscale": [
             [
              0,
              "#440154"
             ],
             [
              0.1111111111111111,
              "#482878"
             ],
             [
              0.2222222222222222,
              "#3e4989"
             ],
             [
              0.3333333333333333,
              "#31688e"
             ],
             [
              0.4444444444444444,
              "#26828e"
             ],
             [
              0.5555555555555556,
              "#1f9e89"
             ],
             [
              0.6666666666666666,
              "#35b779"
             ],
             [
              0.7777777777777778,
              "#6ece58"
             ],
             [
              0.8888888888888888,
              "#b5de2b"
             ],
             [
              1,
              "#fde725"
             ]
            ],
            "type": "heatmapgl"
           }
          ],
          "histogram": [
           {
            "marker": {
             "line": {
              "color": "white",
              "width": 0.6
             }
            },
            "type": "histogram"
           }
          ],
          "histogram2d": [
           {
            "colorbar": {
             "outlinewidth": 1,
             "tickcolor": "rgb(36,36,36)",
             "ticks": "outside"
            },
            "colorscale": [
             [
              0,
              "#440154"
             ],
             [
              0.1111111111111111,
              "#482878"
             ],
             [
              0.2222222222222222,
              "#3e4989"
             ],
             [
              0.3333333333333333,
              "#31688e"
             ],
             [
              0.4444444444444444,
              "#26828e"
             ],
             [
              0.5555555555555556,
              "#1f9e89"
             ],
             [
              0.6666666666666666,
              "#35b779"
             ],
             [
              0.7777777777777778,
              "#6ece58"
             ],
             [
              0.8888888888888888,
              "#b5de2b"
             ],
             [
              1,
              "#fde725"
             ]
            ],
            "type": "histogram2d"
           }
          ],
          "histogram2dcontour": [
           {
            "colorbar": {
             "outlinewidth": 1,
             "tickcolor": "rgb(36,36,36)",
             "ticks": "outside"
            },
            "colorscale": [
             [
              0,
              "#440154"
             ],
             [
              0.1111111111111111,
              "#482878"
             ],
             [
              0.2222222222222222,
              "#3e4989"
             ],
             [
              0.3333333333333333,
              "#31688e"
             ],
             [
              0.4444444444444444,
              "#26828e"
             ],
             [
              0.5555555555555556,
              "#1f9e89"
             ],
             [
              0.6666666666666666,
              "#35b779"
             ],
             [
              0.7777777777777778,
              "#6ece58"
             ],
             [
              0.8888888888888888,
              "#b5de2b"
             ],
             [
              1,
              "#fde725"
             ]
            ],
            "type": "histogram2dcontour"
           }
          ],
          "mesh3d": [
           {
            "colorbar": {
             "outlinewidth": 1,
             "tickcolor": "rgb(36,36,36)",
             "ticks": "outside"
            },
            "type": "mesh3d"
           }
          ],
          "parcoords": [
           {
            "line": {
             "colorbar": {
              "outlinewidth": 1,
              "tickcolor": "rgb(36,36,36)",
              "ticks": "outside"
             }
            },
            "type": "parcoords"
           }
          ],
          "pie": [
           {
            "automargin": true,
            "type": "pie"
           }
          ],
          "scatter": [
           {
            "marker": {
             "colorbar": {
              "outlinewidth": 1,
              "tickcolor": "rgb(36,36,36)",
              "ticks": "outside"
             }
            },
            "type": "scatter"
           }
          ],
          "scatter3d": [
           {
            "line": {
             "colorbar": {
              "outlinewidth": 1,
              "tickcolor": "rgb(36,36,36)",
              "ticks": "outside"
             }
            },
            "marker": {
             "colorbar": {
              "outlinewidth": 1,
              "tickcolor": "rgb(36,36,36)",
              "ticks": "outside"
             }
            },
            "type": "scatter3d"
           }
          ],
          "scattercarpet": [
           {
            "marker": {
             "colorbar": {
              "outlinewidth": 1,
              "tickcolor": "rgb(36,36,36)",
              "ticks": "outside"
             }
            },
            "type": "scattercarpet"
           }
          ],
          "scattergeo": [
           {
            "marker": {
             "colorbar": {
              "outlinewidth": 1,
              "tickcolor": "rgb(36,36,36)",
              "ticks": "outside"
             }
            },
            "type": "scattergeo"
           }
          ],
          "scattergl": [
           {
            "marker": {
             "colorbar": {
              "outlinewidth": 1,
              "tickcolor": "rgb(36,36,36)",
              "ticks": "outside"
             }
            },
            "type": "scattergl"
           }
          ],
          "scattermapbox": [
           {
            "marker": {
             "colorbar": {
              "outlinewidth": 1,
              "tickcolor": "rgb(36,36,36)",
              "ticks": "outside"
             }
            },
            "type": "scattermapbox"
           }
          ],
          "scatterpolar": [
           {
            "marker": {
             "colorbar": {
              "outlinewidth": 1,
              "tickcolor": "rgb(36,36,36)",
              "ticks": "outside"
             }
            },
            "type": "scatterpolar"
           }
          ],
          "scatterpolargl": [
           {
            "marker": {
             "colorbar": {
              "outlinewidth": 1,
              "tickcolor": "rgb(36,36,36)",
              "ticks": "outside"
             }
            },
            "type": "scatterpolargl"
           }
          ],
          "scatterternary": [
           {
            "marker": {
             "colorbar": {
              "outlinewidth": 1,
              "tickcolor": "rgb(36,36,36)",
              "ticks": "outside"
             }
            },
            "type": "scatterternary"
           }
          ],
          "surface": [
           {
            "colorbar": {
             "outlinewidth": 1,
             "tickcolor": "rgb(36,36,36)",
             "ticks": "outside"
            },
            "colorscale": [
             [
              0,
              "#440154"
             ],
             [
              0.1111111111111111,
              "#482878"
             ],
             [
              0.2222222222222222,
              "#3e4989"
             ],
             [
              0.3333333333333333,
              "#31688e"
             ],
             [
              0.4444444444444444,
              "#26828e"
             ],
             [
              0.5555555555555556,
              "#1f9e89"
             ],
             [
              0.6666666666666666,
              "#35b779"
             ],
             [
              0.7777777777777778,
              "#6ece58"
             ],
             [
              0.8888888888888888,
              "#b5de2b"
             ],
             [
              1,
              "#fde725"
             ]
            ],
            "type": "surface"
           }
          ],
          "table": [
           {
            "cells": {
             "fill": {
              "color": "rgb(237,237,237)"
             },
             "line": {
              "color": "white"
             }
            },
            "header": {
             "fill": {
              "color": "rgb(217,217,217)"
             },
             "line": {
              "color": "white"
             }
            },
            "type": "table"
           }
          ]
         },
         "layout": {
          "annotationdefaults": {
           "arrowhead": 0,
           "arrowwidth": 1
          },
          "autotypenumbers": "strict",
          "coloraxis": {
           "colorbar": {
            "outlinewidth": 1,
            "tickcolor": "rgb(36,36,36)",
            "ticks": "outside"
           }
          },
          "colorscale": {
           "diverging": [
            [
             0,
             "rgb(103,0,31)"
            ],
            [
             0.1,
             "rgb(178,24,43)"
            ],
            [
             0.2,
             "rgb(214,96,77)"
            ],
            [
             0.3,
             "rgb(244,165,130)"
            ],
            [
             0.4,
             "rgb(253,219,199)"
            ],
            [
             0.5,
             "rgb(247,247,247)"
            ],
            [
             0.6,
             "rgb(209,229,240)"
            ],
            [
             0.7,
             "rgb(146,197,222)"
            ],
            [
             0.8,
             "rgb(67,147,195)"
            ],
            [
             0.9,
             "rgb(33,102,172)"
            ],
            [
             1,
             "rgb(5,48,97)"
            ]
           ],
           "sequential": [
            [
             0,
             "#440154"
            ],
            [
             0.1111111111111111,
             "#482878"
            ],
            [
             0.2222222222222222,
             "#3e4989"
            ],
            [
             0.3333333333333333,
             "#31688e"
            ],
            [
             0.4444444444444444,
             "#26828e"
            ],
            [
             0.5555555555555556,
             "#1f9e89"
            ],
            [
             0.6666666666666666,
             "#35b779"
            ],
            [
             0.7777777777777778,
             "#6ece58"
            ],
            [
             0.8888888888888888,
             "#b5de2b"
            ],
            [
             1,
             "#fde725"
            ]
           ],
           "sequentialminus": [
            [
             0,
             "#440154"
            ],
            [
             0.1111111111111111,
             "#482878"
            ],
            [
             0.2222222222222222,
             "#3e4989"
            ],
            [
             0.3333333333333333,
             "#31688e"
            ],
            [
             0.4444444444444444,
             "#26828e"
            ],
            [
             0.5555555555555556,
             "#1f9e89"
            ],
            [
             0.6666666666666666,
             "#35b779"
            ],
            [
             0.7777777777777778,
             "#6ece58"
            ],
            [
             0.8888888888888888,
             "#b5de2b"
            ],
            [
             1,
             "#fde725"
            ]
           ]
          },
          "colorway": [
           "#1F77B4",
           "#FF7F0E",
           "#2CA02C",
           "#D62728",
           "#9467BD",
           "#8C564B",
           "#E377C2",
           "#7F7F7F",
           "#BCBD22",
           "#17BECF"
          ],
          "font": {
           "color": "rgb(36,36,36)"
          },
          "geo": {
           "bgcolor": "white",
           "lakecolor": "white",
           "landcolor": "white",
           "showlakes": true,
           "showland": true,
           "subunitcolor": "white"
          },
          "hoverlabel": {
           "align": "left"
          },
          "hovermode": "closest",
          "mapbox": {
           "style": "light"
          },
          "margin": {
           "b": 0,
           "l": 20,
           "r": 20,
           "t": 40
          },
          "paper_bgcolor": "white",
          "plot_bgcolor": "white",
          "polar": {
           "angularaxis": {
            "gridcolor": "rgb(232,232,232)",
            "linecolor": "rgb(36,36,36)",
            "showgrid": false,
            "showline": true,
            "ticks": "outside"
           },
           "bgcolor": "white",
           "radialaxis": {
            "gridcolor": "rgb(232,232,232)",
            "linecolor": "rgb(36,36,36)",
            "showgrid": false,
            "showline": true,
            "ticks": "outside"
           }
          },
          "scene": {
           "xaxis": {
            "backgroundcolor": "white",
            "gridcolor": "rgb(232,232,232)",
            "gridwidth": 2,
            "linecolor": "rgb(36,36,36)",
            "showbackground": true,
            "showgrid": false,
            "showline": true,
            "ticks": "outside",
            "zeroline": false,
            "zerolinecolor": "rgb(36,36,36)"
           },
           "yaxis": {
            "backgroundcolor": "white",
            "gridcolor": "rgb(232,232,232)",
            "gridwidth": 2,
            "linecolor": "rgb(36,36,36)",
            "showbackground": true,
            "showgrid": false,
            "showline": true,
            "ticks": "outside",
            "zeroline": false,
            "zerolinecolor": "rgb(36,36,36)"
           },
           "zaxis": {
            "backgroundcolor": "white",
            "gridcolor": "rgb(232,232,232)",
            "gridwidth": 2,
            "linecolor": "rgb(36,36,36)",
            "showbackground": true,
            "showgrid": false,
            "showline": true,
            "ticks": "outside",
            "zeroline": false,
            "zerolinecolor": "rgb(36,36,36)"
           }
          },
          "shapedefaults": {
           "fillcolor": "black",
           "line": {
            "width": 0
           },
           "opacity": 0.3
          },
          "ternary": {
           "aaxis": {
            "gridcolor": "rgb(232,232,232)",
            "linecolor": "rgb(36,36,36)",
            "showgrid": false,
            "showline": true,
            "ticks": "outside"
           },
           "baxis": {
            "gridcolor": "rgb(232,232,232)",
            "linecolor": "rgb(36,36,36)",
            "showgrid": false,
            "showline": true,
            "ticks": "outside"
           },
           "bgcolor": "white",
           "caxis": {
            "gridcolor": "rgb(232,232,232)",
            "linecolor": "rgb(36,36,36)",
            "showgrid": false,
            "showline": true,
            "ticks": "outside"
           }
          },
          "title": {
           "x": 0.05
          },
          "xaxis": {
           "automargin": true,
           "gridcolor": "rgb(232,232,232)",
           "linecolor": "rgb(36,36,36)",
           "showgrid": false,
           "showline": true,
           "ticks": "outside",
           "title": {
            "standoff": 15
           },
           "zeroline": false,
           "zerolinecolor": "rgb(36,36,36)"
          },
          "yaxis": {
           "automargin": true,
           "gridcolor": "rgb(232,232,232)",
           "linecolor": "rgb(36,36,36)",
           "showgrid": false,
           "showline": true,
           "ticks": "outside",
           "title": {
            "standoff": 15
           },
           "zeroline": false,
           "zerolinecolor": "rgb(36,36,36)"
          }
         }
        },
        "title": {
         "text": "$\\text{(2) Simulated Data - With Noise}$"
        },
        "xaxis": {
         "title": {
          "text": "x - Explanatory Variable"
         }
        },
        "yaxis": {
         "title": {
          "text": "y - Response"
         }
        }
       }
      },
      "text/html": [
       "<div>                            <div id=\"9eb83a35-6cac-4d01-94bc-ee3675ae7cba\" class=\"plotly-graph-div\" style=\"height:400px; width:100%;\"></div>            <script type=\"text/javascript\">                require([\"plotly\"], function(Plotly) {                    window.PLOTLYENV=window.PLOTLYENV || {};                                    if (document.getElementById(\"9eb83a35-6cac-4d01-94bc-ee3675ae7cba\")) {                    Plotly.newPlot(                        \"9eb83a35-6cac-4d01-94bc-ee3675ae7cba\",                        [{\"line\":{\"color\":\"black\",\"dash\":\"dash\",\"width\":1},\"marker\":{\"color\":\"black\",\"opacity\":0.7},\"name\":\"Real Model\",\"showlegend\":true,\"x\":[0.0,11.11111111111111,22.22222222222222,33.33333333333333,44.44444444444444,55.55555555555556,66.66666666666666,77.77777777777777,88.88888888888889,100.0],\"y\":[1.0,23.22222222222222,45.44444444444444,67.66666666666666,89.88888888888889,112.11111111111111,134.33333333333331,156.55555555555554,178.77777777777777,201.0],\"type\":\"scatter\"},{\"line\":{\"width\":1},\"mode\":\"markers\",\"name\":\"Observed Points\",\"x\":[0.0,11.11111111111111,22.22222222222222,33.33333333333333,44.44444444444444,55.55555555555556,66.66666666666666,77.77777777777777,88.88888888888889,100.0],\"y\":[5.0204848179953,0.1589958590160805,-11.647413632243847,14.435936827510986,59.43788288161885,90.95475896576994,-96.70290227763542,-34.379492611112006,36.93424276501371,-8.982185579755251],\"type\":\"scatter\"},{\"line\":{\"width\":1},\"mode\":\"markers\",\"name\":\"Observed Points\",\"x\":[0.0,11.11111111111111,22.22222222222222,33.33333333333333,44.44444444444444,55.55555555555556,66.66666666666666,77.77777777777777,88.88888888888889,100.0],\"y\":[-38.936431784409514,95.70961397564764,-17.295610191804286,-57.12929435521986,-8.728075507930292,62.111162715997565,-17.30150365424395,-16.093190900360298,-44.078139249776,-36.04904977592253],\"type\":\"scatter\"}],                        {\"height\":400,\"title\":{\"text\":\"$\\\\text{(2) Simulated Data - With Noise}$\"},\"xaxis\":{\"title\":{\"text\":\"x - Explanatory Variable\"}},\"yaxis\":{\"title\":{\"text\":\"y - Response\"}},\"template\":{\"data\":{\"barpolar\":[{\"marker\":{\"line\":{\"color\":\"white\",\"width\":0.5},\"pattern\":{\"fillmode\":\"overlay\",\"size\":10,\"solidity\":0.2}},\"type\":\"barpolar\"}],\"bar\":[{\"error_x\":{\"color\":\"rgb(36,36,36)\"},\"error_y\":{\"color\":\"rgb(36,36,36)\"},\"marker\":{\"line\":{\"color\":\"white\",\"width\":0.5},\"pattern\":{\"fillmode\":\"overlay\",\"size\":10,\"solidity\":0.2}},\"type\":\"bar\"}],\"carpet\":[{\"aaxis\":{\"endlinecolor\":\"rgb(36,36,36)\",\"gridcolor\":\"white\",\"linecolor\":\"white\",\"minorgridcolor\":\"white\",\"startlinecolor\":\"rgb(36,36,36)\"},\"baxis\":{\"endlinecolor\":\"rgb(36,36,36)\",\"gridcolor\":\"white\",\"linecolor\":\"white\",\"minorgridcolor\":\"white\",\"startlinecolor\":\"rgb(36,36,36)\"},\"type\":\"carpet\"}],\"choropleth\":[{\"colorbar\":{\"outlinewidth\":1,\"tickcolor\":\"rgb(36,36,36)\",\"ticks\":\"outside\"},\"type\":\"choropleth\"}],\"contourcarpet\":[{\"colorbar\":{\"outlinewidth\":1,\"tickcolor\":\"rgb(36,36,36)\",\"ticks\":\"outside\"},\"type\":\"contourcarpet\"}],\"contour\":[{\"colorbar\":{\"outlinewidth\":1,\"tickcolor\":\"rgb(36,36,36)\",\"ticks\":\"outside\"},\"colorscale\":[[0.0,\"#440154\"],[0.1111111111111111,\"#482878\"],[0.2222222222222222,\"#3e4989\"],[0.3333333333333333,\"#31688e\"],[0.4444444444444444,\"#26828e\"],[0.5555555555555556,\"#1f9e89\"],[0.6666666666666666,\"#35b779\"],[0.7777777777777778,\"#6ece58\"],[0.8888888888888888,\"#b5de2b\"],[1.0,\"#fde725\"]],\"type\":\"contour\"}],\"heatmapgl\":[{\"colorbar\":{\"outlinewidth\":1,\"tickcolor\":\"rgb(36,36,36)\",\"ticks\":\"outside\"},\"colorscale\":[[0.0,\"#440154\"],[0.1111111111111111,\"#482878\"],[0.2222222222222222,\"#3e4989\"],[0.3333333333333333,\"#31688e\"],[0.4444444444444444,\"#26828e\"],[0.5555555555555556,\"#1f9e89\"],[0.6666666666666666,\"#35b779\"],[0.7777777777777778,\"#6ece58\"],[0.8888888888888888,\"#b5de2b\"],[1.0,\"#fde725\"]],\"type\":\"heatmapgl\"}],\"heatmap\":[{\"colorbar\":{\"outlinewidth\":1,\"tickcolor\":\"rgb(36,36,36)\",\"ticks\":\"outside\"},\"colorscale\":[[0.0,\"#440154\"],[0.1111111111111111,\"#482878\"],[0.2222222222222222,\"#3e4989\"],[0.3333333333333333,\"#31688e\"],[0.4444444444444444,\"#26828e\"],[0.5555555555555556,\"#1f9e89\"],[0.6666666666666666,\"#35b779\"],[0.7777777777777778,\"#6ece58\"],[0.8888888888888888,\"#b5de2b\"],[1.0,\"#fde725\"]],\"type\":\"heatmap\"}],\"histogram2dcontour\":[{\"colorbar\":{\"outlinewidth\":1,\"tickcolor\":\"rgb(36,36,36)\",\"ticks\":\"outside\"},\"colorscale\":[[0.0,\"#440154\"],[0.1111111111111111,\"#482878\"],[0.2222222222222222,\"#3e4989\"],[0.3333333333333333,\"#31688e\"],[0.4444444444444444,\"#26828e\"],[0.5555555555555556,\"#1f9e89\"],[0.6666666666666666,\"#35b779\"],[0.7777777777777778,\"#6ece58\"],[0.8888888888888888,\"#b5de2b\"],[1.0,\"#fde725\"]],\"type\":\"histogram2dcontour\"}],\"histogram2d\":[{\"colorbar\":{\"outlinewidth\":1,\"tickcolor\":\"rgb(36,36,36)\",\"ticks\":\"outside\"},\"colorscale\":[[0.0,\"#440154\"],[0.1111111111111111,\"#482878\"],[0.2222222222222222,\"#3e4989\"],[0.3333333333333333,\"#31688e\"],[0.4444444444444444,\"#26828e\"],[0.5555555555555556,\"#1f9e89\"],[0.6666666666666666,\"#35b779\"],[0.7777777777777778,\"#6ece58\"],[0.8888888888888888,\"#b5de2b\"],[1.0,\"#fde725\"]],\"type\":\"histogram2d\"}],\"histogram\":[{\"marker\":{\"line\":{\"color\":\"white\",\"width\":0.6}},\"type\":\"histogram\"}],\"mesh3d\":[{\"colorbar\":{\"outlinewidth\":1,\"tickcolor\":\"rgb(36,36,36)\",\"ticks\":\"outside\"},\"type\":\"mesh3d\"}],\"parcoords\":[{\"line\":{\"colorbar\":{\"outlinewidth\":1,\"tickcolor\":\"rgb(36,36,36)\",\"ticks\":\"outside\"}},\"type\":\"parcoords\"}],\"pie\":[{\"automargin\":true,\"type\":\"pie\"}],\"scatter3d\":[{\"line\":{\"colorbar\":{\"outlinewidth\":1,\"tickcolor\":\"rgb(36,36,36)\",\"ticks\":\"outside\"}},\"marker\":{\"colorbar\":{\"outlinewidth\":1,\"tickcolor\":\"rgb(36,36,36)\",\"ticks\":\"outside\"}},\"type\":\"scatter3d\"}],\"scattercarpet\":[{\"marker\":{\"colorbar\":{\"outlinewidth\":1,\"tickcolor\":\"rgb(36,36,36)\",\"ticks\":\"outside\"}},\"type\":\"scattercarpet\"}],\"scattergeo\":[{\"marker\":{\"colorbar\":{\"outlinewidth\":1,\"tickcolor\":\"rgb(36,36,36)\",\"ticks\":\"outside\"}},\"type\":\"scattergeo\"}],\"scattergl\":[{\"marker\":{\"colorbar\":{\"outlinewidth\":1,\"tickcolor\":\"rgb(36,36,36)\",\"ticks\":\"outside\"}},\"type\":\"scattergl\"}],\"scattermapbox\":[{\"marker\":{\"colorbar\":{\"outlinewidth\":1,\"tickcolor\":\"rgb(36,36,36)\",\"ticks\":\"outside\"}},\"type\":\"scattermapbox\"}],\"scatterpolargl\":[{\"marker\":{\"colorbar\":{\"outlinewidth\":1,\"tickcolor\":\"rgb(36,36,36)\",\"ticks\":\"outside\"}},\"type\":\"scatterpolargl\"}],\"scatterpolar\":[{\"marker\":{\"colorbar\":{\"outlinewidth\":1,\"tickcolor\":\"rgb(36,36,36)\",\"ticks\":\"outside\"}},\"type\":\"scatterpolar\"}],\"scatter\":[{\"marker\":{\"colorbar\":{\"outlinewidth\":1,\"tickcolor\":\"rgb(36,36,36)\",\"ticks\":\"outside\"}},\"type\":\"scatter\"}],\"scatterternary\":[{\"marker\":{\"colorbar\":{\"outlinewidth\":1,\"tickcolor\":\"rgb(36,36,36)\",\"ticks\":\"outside\"}},\"type\":\"scatterternary\"}],\"surface\":[{\"colorbar\":{\"outlinewidth\":1,\"tickcolor\":\"rgb(36,36,36)\",\"ticks\":\"outside\"},\"colorscale\":[[0.0,\"#440154\"],[0.1111111111111111,\"#482878\"],[0.2222222222222222,\"#3e4989\"],[0.3333333333333333,\"#31688e\"],[0.4444444444444444,\"#26828e\"],[0.5555555555555556,\"#1f9e89\"],[0.6666666666666666,\"#35b779\"],[0.7777777777777778,\"#6ece58\"],[0.8888888888888888,\"#b5de2b\"],[1.0,\"#fde725\"]],\"type\":\"surface\"}],\"table\":[{\"cells\":{\"fill\":{\"color\":\"rgb(237,237,237)\"},\"line\":{\"color\":\"white\"}},\"header\":{\"fill\":{\"color\":\"rgb(217,217,217)\"},\"line\":{\"color\":\"white\"}},\"type\":\"table\"}]},\"layout\":{\"annotationdefaults\":{\"arrowhead\":0,\"arrowwidth\":1},\"autotypenumbers\":\"strict\",\"coloraxis\":{\"colorbar\":{\"outlinewidth\":1,\"tickcolor\":\"rgb(36,36,36)\",\"ticks\":\"outside\"}},\"colorscale\":{\"diverging\":[[0.0,\"rgb(103,0,31)\"],[0.1,\"rgb(178,24,43)\"],[0.2,\"rgb(214,96,77)\"],[0.3,\"rgb(244,165,130)\"],[0.4,\"rgb(253,219,199)\"],[0.5,\"rgb(247,247,247)\"],[0.6,\"rgb(209,229,240)\"],[0.7,\"rgb(146,197,222)\"],[0.8,\"rgb(67,147,195)\"],[0.9,\"rgb(33,102,172)\"],[1.0,\"rgb(5,48,97)\"]],\"sequential\":[[0.0,\"#440154\"],[0.1111111111111111,\"#482878\"],[0.2222222222222222,\"#3e4989\"],[0.3333333333333333,\"#31688e\"],[0.4444444444444444,\"#26828e\"],[0.5555555555555556,\"#1f9e89\"],[0.6666666666666666,\"#35b779\"],[0.7777777777777778,\"#6ece58\"],[0.8888888888888888,\"#b5de2b\"],[1.0,\"#fde725\"]],\"sequentialminus\":[[0.0,\"#440154\"],[0.1111111111111111,\"#482878\"],[0.2222222222222222,\"#3e4989\"],[0.3333333333333333,\"#31688e\"],[0.4444444444444444,\"#26828e\"],[0.5555555555555556,\"#1f9e89\"],[0.6666666666666666,\"#35b779\"],[0.7777777777777778,\"#6ece58\"],[0.8888888888888888,\"#b5de2b\"],[1.0,\"#fde725\"]]},\"colorway\":[\"#1F77B4\",\"#FF7F0E\",\"#2CA02C\",\"#D62728\",\"#9467BD\",\"#8C564B\",\"#E377C2\",\"#7F7F7F\",\"#BCBD22\",\"#17BECF\"],\"font\":{\"color\":\"rgb(36,36,36)\"},\"geo\":{\"bgcolor\":\"white\",\"lakecolor\":\"white\",\"landcolor\":\"white\",\"showlakes\":true,\"showland\":true,\"subunitcolor\":\"white\"},\"hoverlabel\":{\"align\":\"left\"},\"hovermode\":\"closest\",\"mapbox\":{\"style\":\"light\"},\"paper_bgcolor\":\"white\",\"plot_bgcolor\":\"white\",\"polar\":{\"angularaxis\":{\"gridcolor\":\"rgb(232,232,232)\",\"linecolor\":\"rgb(36,36,36)\",\"showgrid\":false,\"showline\":true,\"ticks\":\"outside\"},\"bgcolor\":\"white\",\"radialaxis\":{\"gridcolor\":\"rgb(232,232,232)\",\"linecolor\":\"rgb(36,36,36)\",\"showgrid\":false,\"showline\":true,\"ticks\":\"outside\"}},\"scene\":{\"xaxis\":{\"backgroundcolor\":\"white\",\"gridcolor\":\"rgb(232,232,232)\",\"gridwidth\":2,\"linecolor\":\"rgb(36,36,36)\",\"showbackground\":true,\"showgrid\":false,\"showline\":true,\"ticks\":\"outside\",\"zeroline\":false,\"zerolinecolor\":\"rgb(36,36,36)\"},\"yaxis\":{\"backgroundcolor\":\"white\",\"gridcolor\":\"rgb(232,232,232)\",\"gridwidth\":2,\"linecolor\":\"rgb(36,36,36)\",\"showbackground\":true,\"showgrid\":false,\"showline\":true,\"ticks\":\"outside\",\"zeroline\":false,\"zerolinecolor\":\"rgb(36,36,36)\"},\"zaxis\":{\"backgroundcolor\":\"white\",\"gridcolor\":\"rgb(232,232,232)\",\"gridwidth\":2,\"linecolor\":\"rgb(36,36,36)\",\"showbackground\":true,\"showgrid\":false,\"showline\":true,\"ticks\":\"outside\",\"zeroline\":false,\"zerolinecolor\":\"rgb(36,36,36)\"}},\"shapedefaults\":{\"fillcolor\":\"black\",\"line\":{\"width\":0},\"opacity\":0.3},\"ternary\":{\"aaxis\":{\"gridcolor\":\"rgb(232,232,232)\",\"linecolor\":\"rgb(36,36,36)\",\"showgrid\":false,\"showline\":true,\"ticks\":\"outside\"},\"baxis\":{\"gridcolor\":\"rgb(232,232,232)\",\"linecolor\":\"rgb(36,36,36)\",\"showgrid\":false,\"showline\":true,\"ticks\":\"outside\"},\"bgcolor\":\"white\",\"caxis\":{\"gridcolor\":\"rgb(232,232,232)\",\"linecolor\":\"rgb(36,36,36)\",\"showgrid\":false,\"showline\":true,\"ticks\":\"outside\"}},\"title\":{\"x\":0.05},\"xaxis\":{\"automargin\":true,\"gridcolor\":\"rgb(232,232,232)\",\"linecolor\":\"rgb(36,36,36)\",\"showgrid\":false,\"showline\":true,\"ticks\":\"outside\",\"title\":{\"standoff\":15},\"zeroline\":false,\"zerolinecolor\":\"rgb(36,36,36)\"},\"yaxis\":{\"automargin\":true,\"gridcolor\":\"rgb(232,232,232)\",\"linecolor\":\"rgb(36,36,36)\",\"showgrid\":false,\"showline\":true,\"ticks\":\"outside\",\"title\":{\"standoff\":15},\"zeroline\":false,\"zerolinecolor\":\"rgb(36,36,36)\"},\"margin\":{\"b\":0,\"l\":20,\"r\":20,\"t\":40}}}},                        {\"responsive\": true}                    ).then(function(){\n",
       "                            \n",
       "var gd = document.getElementById('9eb83a35-6cac-4d01-94bc-ee3675ae7cba');\n",
       "var x = new MutationObserver(function (mutations, observer) {{\n",
       "        var display = window.getComputedStyle(gd).display;\n",
       "        if (!display || display === 'none') {{\n",
       "            console.log([gd, 'removed!']);\n",
       "            Plotly.purge(gd);\n",
       "            observer.disconnect();\n",
       "        }}\n",
       "}});\n",
       "\n",
       "// Listen for the removal of the full notebook cells\n",
       "var notebookContainer = gd.closest('#notebook-container');\n",
       "if (notebookContainer) {{\n",
       "    x.observe(notebookContainer, {childList: true});\n",
       "}}\n",
       "\n",
       "// Listen for the clearing of the current output cell\n",
       "var outputEl = gd.closest('.output');\n",
       "if (outputEl) {{\n",
       "    x.observe(outputEl, {childList: true});\n",
       "}}\n",
       "\n",
       "                        })                };                });            </script>        </div>"
      ]
     },
     "metadata": {},
     "output_type": "display_data"
    }
   ],
   "source": [
    "if \"y_\" not in locals(): y_ = y\n",
    "epsilon = np.random.normal(loc=0, scale=40, size=len(x))\n",
    "y = y_ + epsilon\n",
    "\n",
    "fig.add_trace(go.Scatter(x=x, y=y, name=\"Observed Points\", mode=\"markers\", line=dict(width=1)))\n",
    "fig.update_layout(title=r\"$\\text{(2) Simulated Data - With Noise}$\")\n",
    "fig.show()\n"
   ]
  },
  {
   "cell_type": "markdown",
   "metadata": {
    "pycharm": {
     "name": "#%% md\n"
    }
   },
   "source": [
    "Try and execute the block above several times. See how each time the \"Observed Points\" look different. These datasets,\n",
    "though all come from the same model, look very different. Try to think:\n",
    "\n",
    "* What would happen if we attempt fitting a model to these observations (i.e. the ones with the noise)? \n",
    "* How would it influence our estimation of the coefficients $w_0, w_1$? \n",
    "* Where will the regression line be?\n"
   ]
  },
  {
   "cell_type": "code",
   "execution_count": 21,
   "metadata": {
    "pycharm": {
     "is_executing": false,
     "name": "#%%\n"
    }
   },
   "outputs": [
    {
     "data": {
      "text/html": [
       "<div>\n",
       "<style scoped>\n",
       "    .dataframe tbody tr th:only-of-type {\n",
       "        vertical-align: middle;\n",
       "    }\n",
       "\n",
       "    .dataframe tbody tr th {\n",
       "        vertical-align: top;\n",
       "    }\n",
       "\n",
       "    .dataframe thead th {\n",
       "        text-align: right;\n",
       "    }\n",
       "</style>\n",
       "<table border=\"1\" class=\"dataframe\">\n",
       "  <thead>\n",
       "    <tr style=\"text-align: right;\">\n",
       "      <th></th>\n",
       "      <th>Model</th>\n",
       "      <th>Intercept</th>\n",
       "      <th>Slope</th>\n",
       "    </tr>\n",
       "  </thead>\n",
       "  <tbody>\n",
       "    <tr>\n",
       "      <th>0</th>\n",
       "      <td>Noise-less</td>\n",
       "      <td>1.000000</td>\n",
       "      <td>2.000000</td>\n",
       "    </tr>\n",
       "    <tr>\n",
       "      <th>1</th>\n",
       "      <td>Noisy</td>\n",
       "      <td>12.844397</td>\n",
       "      <td>-0.412469</td>\n",
       "    </tr>\n",
       "  </tbody>\n",
       "</table>\n",
       "</div>"
      ],
      "text/plain": [
       "        Model  Intercept     Slope\n",
       "0  Noise-less   1.000000  2.000000\n",
       "1       Noisy  12.844397 -0.412469"
      ]
     },
     "execution_count": 21,
     "metadata": {},
     "output_type": "execute_result"
    }
   ],
   "source": [
    "from pandas import DataFrame \n",
    "model = LinearRegression().fit(x.reshape((-1,1)), y)\n",
    "\n",
    "DataFrame({\"Model\":[\"Noise-less\",\"Noisy\"], \n",
    "           \"Intercept\": [noiseless_model.intercept_, model.intercept_],\n",
    "           \"Slope\": [noiseless_model.coef_[0], model.coef_[0]]})\n"
   ]
  },
  {
   "cell_type": "code",
   "execution_count": 7,
   "metadata": {
    "pycharm": {
     "is_executing": false,
     "name": "#%%\n"
    }
   },
   "outputs": [
    {
     "data": {
      "application/vnd.plotly.v1+json": {
       "config": {
        "plotlyServerURL": "https://plot.ly"
       },
       "data": [
        {
         "line": {
          "color": "black",
          "dash": "dash",
          "width": 1
         },
         "marker": {
          "color": "black",
          "opacity": 0.7
         },
         "name": "Real Model",
         "showlegend": true,
         "type": "scatter",
         "x": [
          0,
          11.11111111111111,
          22.22222222222222,
          33.33333333333333,
          44.44444444444444,
          55.55555555555556,
          66.66666666666666,
          77.77777777777777,
          88.88888888888889,
          100
         ],
         "y": [
          1,
          23.22222222222222,
          45.44444444444444,
          67.66666666666666,
          89.88888888888889,
          112.11111111111111,
          134.33333333333331,
          156.55555555555554,
          178.77777777777777,
          201
         ]
        },
        {
         "line": {
          "width": 1
         },
         "mode": "markers",
         "name": "Observed Points",
         "type": "scatter",
         "x": [
          0,
          11.11111111111111,
          22.22222222222222,
          33.33333333333333,
          44.44444444444444,
          55.55555555555556,
          66.66666666666666,
          77.77777777777777,
          88.88888888888889,
          100
         ],
         "y": [
          37.1946286140212,
          96.8820308171569,
          67.9193179629644,
          121.4737312958295,
          69.59590396802949,
          52.18294525991498,
          141.74930267367432,
          161.7608554656538,
          145.31875676634843,
          156.83984885097487
         ]
        },
        {
         "marker": {
          "color": "blue"
         },
         "mode": "markers",
         "name": "Predicted Responses",
         "type": "scatter",
         "x": [
          0,
          11.11111111111111,
          22.22222222222222,
          33.33333333333333,
          44.44444444444444,
          55.55555555555556,
          66.66666666666666,
          77.77777777777777,
          88.88888888888889,
          100
         ],
         "y": [
          52.49667289338975,
          64.18446384318243,
          75.8722547929751,
          87.56004574276777,
          99.24783669256044,
          110.93562764235313,
          122.62341859214578,
          134.31120954193847,
          145.99900049173115,
          157.6867914415238
         ]
        },
        {
         "line": {
          "color": "blue",
          "width": 1
         },
         "mode": "lines",
         "name": "Fitted Model",
         "type": "scatter",
         "x": [
          0,
          11.11111111111111,
          22.22222222222222,
          33.33333333333333,
          44.44444444444444,
          55.55555555555556,
          66.66666666666666,
          77.77777777777777,
          88.88888888888889,
          100
         ],
         "y": [
          52.49667289338975,
          64.18446384318243,
          75.8722547929751,
          87.56004574276777,
          99.24783669256044,
          110.93562764235313,
          122.62341859214578,
          134.31120954193847,
          145.99900049173115,
          157.6867914415238
         ]
        }
       ],
       "layout": {
        "height": 400,
        "template": {
         "data": {
          "bar": [
           {
            "error_x": {
             "color": "rgb(36,36,36)"
            },
            "error_y": {
             "color": "rgb(36,36,36)"
            },
            "marker": {
             "line": {
              "color": "white",
              "width": 0.5
             },
             "pattern": {
              "fillmode": "overlay",
              "size": 10,
              "solidity": 0.2
             }
            },
            "type": "bar"
           }
          ],
          "barpolar": [
           {
            "marker": {
             "line": {
              "color": "white",
              "width": 0.5
             },
             "pattern": {
              "fillmode": "overlay",
              "size": 10,
              "solidity": 0.2
             }
            },
            "type": "barpolar"
           }
          ],
          "carpet": [
           {
            "aaxis": {
             "endlinecolor": "rgb(36,36,36)",
             "gridcolor": "white",
             "linecolor": "white",
             "minorgridcolor": "white",
             "startlinecolor": "rgb(36,36,36)"
            },
            "baxis": {
             "endlinecolor": "rgb(36,36,36)",
             "gridcolor": "white",
             "linecolor": "white",
             "minorgridcolor": "white",
             "startlinecolor": "rgb(36,36,36)"
            },
            "type": "carpet"
           }
          ],
          "choropleth": [
           {
            "colorbar": {
             "outlinewidth": 1,
             "tickcolor": "rgb(36,36,36)",
             "ticks": "outside"
            },
            "type": "choropleth"
           }
          ],
          "contour": [
           {
            "colorbar": {
             "outlinewidth": 1,
             "tickcolor": "rgb(36,36,36)",
             "ticks": "outside"
            },
            "colorscale": [
             [
              0,
              "#440154"
             ],
             [
              0.1111111111111111,
              "#482878"
             ],
             [
              0.2222222222222222,
              "#3e4989"
             ],
             [
              0.3333333333333333,
              "#31688e"
             ],
             [
              0.4444444444444444,
              "#26828e"
             ],
             [
              0.5555555555555556,
              "#1f9e89"
             ],
             [
              0.6666666666666666,
              "#35b779"
             ],
             [
              0.7777777777777778,
              "#6ece58"
             ],
             [
              0.8888888888888888,
              "#b5de2b"
             ],
             [
              1,
              "#fde725"
             ]
            ],
            "type": "contour"
           }
          ],
          "contourcarpet": [
           {
            "colorbar": {
             "outlinewidth": 1,
             "tickcolor": "rgb(36,36,36)",
             "ticks": "outside"
            },
            "type": "contourcarpet"
           }
          ],
          "heatmap": [
           {
            "colorbar": {
             "outlinewidth": 1,
             "tickcolor": "rgb(36,36,36)",
             "ticks": "outside"
            },
            "colorscale": [
             [
              0,
              "#440154"
             ],
             [
              0.1111111111111111,
              "#482878"
             ],
             [
              0.2222222222222222,
              "#3e4989"
             ],
             [
              0.3333333333333333,
              "#31688e"
             ],
             [
              0.4444444444444444,
              "#26828e"
             ],
             [
              0.5555555555555556,
              "#1f9e89"
             ],
             [
              0.6666666666666666,
              "#35b779"
             ],
             [
              0.7777777777777778,
              "#6ece58"
             ],
             [
              0.8888888888888888,
              "#b5de2b"
             ],
             [
              1,
              "#fde725"
             ]
            ],
            "type": "heatmap"
           }
          ],
          "heatmapgl": [
           {
            "colorbar": {
             "outlinewidth": 1,
             "tickcolor": "rgb(36,36,36)",
             "ticks": "outside"
            },
            "colorscale": [
             [
              0,
              "#440154"
             ],
             [
              0.1111111111111111,
              "#482878"
             ],
             [
              0.2222222222222222,
              "#3e4989"
             ],
             [
              0.3333333333333333,
              "#31688e"
             ],
             [
              0.4444444444444444,
              "#26828e"
             ],
             [
              0.5555555555555556,
              "#1f9e89"
             ],
             [
              0.6666666666666666,
              "#35b779"
             ],
             [
              0.7777777777777778,
              "#6ece58"
             ],
             [
              0.8888888888888888,
              "#b5de2b"
             ],
             [
              1,
              "#fde725"
             ]
            ],
            "type": "heatmapgl"
           }
          ],
          "histogram": [
           {
            "marker": {
             "line": {
              "color": "white",
              "width": 0.6
             }
            },
            "type": "histogram"
           }
          ],
          "histogram2d": [
           {
            "colorbar": {
             "outlinewidth": 1,
             "tickcolor": "rgb(36,36,36)",
             "ticks": "outside"
            },
            "colorscale": [
             [
              0,
              "#440154"
             ],
             [
              0.1111111111111111,
              "#482878"
             ],
             [
              0.2222222222222222,
              "#3e4989"
             ],
             [
              0.3333333333333333,
              "#31688e"
             ],
             [
              0.4444444444444444,
              "#26828e"
             ],
             [
              0.5555555555555556,
              "#1f9e89"
             ],
             [
              0.6666666666666666,
              "#35b779"
             ],
             [
              0.7777777777777778,
              "#6ece58"
             ],
             [
              0.8888888888888888,
              "#b5de2b"
             ],
             [
              1,
              "#fde725"
             ]
            ],
            "type": "histogram2d"
           }
          ],
          "histogram2dcontour": [
           {
            "colorbar": {
             "outlinewidth": 1,
             "tickcolor": "rgb(36,36,36)",
             "ticks": "outside"
            },
            "colorscale": [
             [
              0,
              "#440154"
             ],
             [
              0.1111111111111111,
              "#482878"
             ],
             [
              0.2222222222222222,
              "#3e4989"
             ],
             [
              0.3333333333333333,
              "#31688e"
             ],
             [
              0.4444444444444444,
              "#26828e"
             ],
             [
              0.5555555555555556,
              "#1f9e89"
             ],
             [
              0.6666666666666666,
              "#35b779"
             ],
             [
              0.7777777777777778,
              "#6ece58"
             ],
             [
              0.8888888888888888,
              "#b5de2b"
             ],
             [
              1,
              "#fde725"
             ]
            ],
            "type": "histogram2dcontour"
           }
          ],
          "mesh3d": [
           {
            "colorbar": {
             "outlinewidth": 1,
             "tickcolor": "rgb(36,36,36)",
             "ticks": "outside"
            },
            "type": "mesh3d"
           }
          ],
          "parcoords": [
           {
            "line": {
             "colorbar": {
              "outlinewidth": 1,
              "tickcolor": "rgb(36,36,36)",
              "ticks": "outside"
             }
            },
            "type": "parcoords"
           }
          ],
          "pie": [
           {
            "automargin": true,
            "type": "pie"
           }
          ],
          "scatter": [
           {
            "marker": {
             "colorbar": {
              "outlinewidth": 1,
              "tickcolor": "rgb(36,36,36)",
              "ticks": "outside"
             }
            },
            "type": "scatter"
           }
          ],
          "scatter3d": [
           {
            "line": {
             "colorbar": {
              "outlinewidth": 1,
              "tickcolor": "rgb(36,36,36)",
              "ticks": "outside"
             }
            },
            "marker": {
             "colorbar": {
              "outlinewidth": 1,
              "tickcolor": "rgb(36,36,36)",
              "ticks": "outside"
             }
            },
            "type": "scatter3d"
           }
          ],
          "scattercarpet": [
           {
            "marker": {
             "colorbar": {
              "outlinewidth": 1,
              "tickcolor": "rgb(36,36,36)",
              "ticks": "outside"
             }
            },
            "type": "scattercarpet"
           }
          ],
          "scattergeo": [
           {
            "marker": {
             "colorbar": {
              "outlinewidth": 1,
              "tickcolor": "rgb(36,36,36)",
              "ticks": "outside"
             }
            },
            "type": "scattergeo"
           }
          ],
          "scattergl": [
           {
            "marker": {
             "colorbar": {
              "outlinewidth": 1,
              "tickcolor": "rgb(36,36,36)",
              "ticks": "outside"
             }
            },
            "type": "scattergl"
           }
          ],
          "scattermapbox": [
           {
            "marker": {
             "colorbar": {
              "outlinewidth": 1,
              "tickcolor": "rgb(36,36,36)",
              "ticks": "outside"
             }
            },
            "type": "scattermapbox"
           }
          ],
          "scatterpolar": [
           {
            "marker": {
             "colorbar": {
              "outlinewidth": 1,
              "tickcolor": "rgb(36,36,36)",
              "ticks": "outside"
             }
            },
            "type": "scatterpolar"
           }
          ],
          "scatterpolargl": [
           {
            "marker": {
             "colorbar": {
              "outlinewidth": 1,
              "tickcolor": "rgb(36,36,36)",
              "ticks": "outside"
             }
            },
            "type": "scatterpolargl"
           }
          ],
          "scatterternary": [
           {
            "marker": {
             "colorbar": {
              "outlinewidth": 1,
              "tickcolor": "rgb(36,36,36)",
              "ticks": "outside"
             }
            },
            "type": "scatterternary"
           }
          ],
          "surface": [
           {
            "colorbar": {
             "outlinewidth": 1,
             "tickcolor": "rgb(36,36,36)",
             "ticks": "outside"
            },
            "colorscale": [
             [
              0,
              "#440154"
             ],
             [
              0.1111111111111111,
              "#482878"
             ],
             [
              0.2222222222222222,
              "#3e4989"
             ],
             [
              0.3333333333333333,
              "#31688e"
             ],
             [
              0.4444444444444444,
              "#26828e"
             ],
             [
              0.5555555555555556,
              "#1f9e89"
             ],
             [
              0.6666666666666666,
              "#35b779"
             ],
             [
              0.7777777777777778,
              "#6ece58"
             ],
             [
              0.8888888888888888,
              "#b5de2b"
             ],
             [
              1,
              "#fde725"
             ]
            ],
            "type": "surface"
           }
          ],
          "table": [
           {
            "cells": {
             "fill": {
              "color": "rgb(237,237,237)"
             },
             "line": {
              "color": "white"
             }
            },
            "header": {
             "fill": {
              "color": "rgb(217,217,217)"
             },
             "line": {
              "color": "white"
             }
            },
            "type": "table"
           }
          ]
         },
         "layout": {
          "annotationdefaults": {
           "arrowhead": 0,
           "arrowwidth": 1
          },
          "autotypenumbers": "strict",
          "coloraxis": {
           "colorbar": {
            "outlinewidth": 1,
            "tickcolor": "rgb(36,36,36)",
            "ticks": "outside"
           }
          },
          "colorscale": {
           "diverging": [
            [
             0,
             "rgb(103,0,31)"
            ],
            [
             0.1,
             "rgb(178,24,43)"
            ],
            [
             0.2,
             "rgb(214,96,77)"
            ],
            [
             0.3,
             "rgb(244,165,130)"
            ],
            [
             0.4,
             "rgb(253,219,199)"
            ],
            [
             0.5,
             "rgb(247,247,247)"
            ],
            [
             0.6,
             "rgb(209,229,240)"
            ],
            [
             0.7,
             "rgb(146,197,222)"
            ],
            [
             0.8,
             "rgb(67,147,195)"
            ],
            [
             0.9,
             "rgb(33,102,172)"
            ],
            [
             1,
             "rgb(5,48,97)"
            ]
           ],
           "sequential": [
            [
             0,
             "#440154"
            ],
            [
             0.1111111111111111,
             "#482878"
            ],
            [
             0.2222222222222222,
             "#3e4989"
            ],
            [
             0.3333333333333333,
             "#31688e"
            ],
            [
             0.4444444444444444,
             "#26828e"
            ],
            [
             0.5555555555555556,
             "#1f9e89"
            ],
            [
             0.6666666666666666,
             "#35b779"
            ],
            [
             0.7777777777777778,
             "#6ece58"
            ],
            [
             0.8888888888888888,
             "#b5de2b"
            ],
            [
             1,
             "#fde725"
            ]
           ],
           "sequentialminus": [
            [
             0,
             "#440154"
            ],
            [
             0.1111111111111111,
             "#482878"
            ],
            [
             0.2222222222222222,
             "#3e4989"
            ],
            [
             0.3333333333333333,
             "#31688e"
            ],
            [
             0.4444444444444444,
             "#26828e"
            ],
            [
             0.5555555555555556,
             "#1f9e89"
            ],
            [
             0.6666666666666666,
             "#35b779"
            ],
            [
             0.7777777777777778,
             "#6ece58"
            ],
            [
             0.8888888888888888,
             "#b5de2b"
            ],
            [
             1,
             "#fde725"
            ]
           ]
          },
          "colorway": [
           "#1F77B4",
           "#FF7F0E",
           "#2CA02C",
           "#D62728",
           "#9467BD",
           "#8C564B",
           "#E377C2",
           "#7F7F7F",
           "#BCBD22",
           "#17BECF"
          ],
          "font": {
           "color": "rgb(36,36,36)"
          },
          "geo": {
           "bgcolor": "white",
           "lakecolor": "white",
           "landcolor": "white",
           "showlakes": true,
           "showland": true,
           "subunitcolor": "white"
          },
          "hoverlabel": {
           "align": "left"
          },
          "hovermode": "closest",
          "mapbox": {
           "style": "light"
          },
          "margin": {
           "b": 0,
           "l": 20,
           "r": 20,
           "t": 40
          },
          "paper_bgcolor": "white",
          "plot_bgcolor": "white",
          "polar": {
           "angularaxis": {
            "gridcolor": "rgb(232,232,232)",
            "linecolor": "rgb(36,36,36)",
            "showgrid": false,
            "showline": true,
            "ticks": "outside"
           },
           "bgcolor": "white",
           "radialaxis": {
            "gridcolor": "rgb(232,232,232)",
            "linecolor": "rgb(36,36,36)",
            "showgrid": false,
            "showline": true,
            "ticks": "outside"
           }
          },
          "scene": {
           "xaxis": {
            "backgroundcolor": "white",
            "gridcolor": "rgb(232,232,232)",
            "gridwidth": 2,
            "linecolor": "rgb(36,36,36)",
            "showbackground": true,
            "showgrid": false,
            "showline": true,
            "ticks": "outside",
            "zeroline": false,
            "zerolinecolor": "rgb(36,36,36)"
           },
           "yaxis": {
            "backgroundcolor": "white",
            "gridcolor": "rgb(232,232,232)",
            "gridwidth": 2,
            "linecolor": "rgb(36,36,36)",
            "showbackground": true,
            "showgrid": false,
            "showline": true,
            "ticks": "outside",
            "zeroline": false,
            "zerolinecolor": "rgb(36,36,36)"
           },
           "zaxis": {
            "backgroundcolor": "white",
            "gridcolor": "rgb(232,232,232)",
            "gridwidth": 2,
            "linecolor": "rgb(36,36,36)",
            "showbackground": true,
            "showgrid": false,
            "showline": true,
            "ticks": "outside",
            "zeroline": false,
            "zerolinecolor": "rgb(36,36,36)"
           }
          },
          "shapedefaults": {
           "fillcolor": "black",
           "line": {
            "width": 0
           },
           "opacity": 0.3
          },
          "ternary": {
           "aaxis": {
            "gridcolor": "rgb(232,232,232)",
            "linecolor": "rgb(36,36,36)",
            "showgrid": false,
            "showline": true,
            "ticks": "outside"
           },
           "baxis": {
            "gridcolor": "rgb(232,232,232)",
            "linecolor": "rgb(36,36,36)",
            "showgrid": false,
            "showline": true,
            "ticks": "outside"
           },
           "bgcolor": "white",
           "caxis": {
            "gridcolor": "rgb(232,232,232)",
            "linecolor": "rgb(36,36,36)",
            "showgrid": false,
            "showline": true,
            "ticks": "outside"
           }
          },
          "title": {
           "x": 0.05
          },
          "xaxis": {
           "automargin": true,
           "gridcolor": "rgb(232,232,232)",
           "linecolor": "rgb(36,36,36)",
           "showgrid": false,
           "showline": true,
           "ticks": "outside",
           "title": {
            "standoff": 15
           },
           "zeroline": false,
           "zerolinecolor": "rgb(36,36,36)"
          },
          "yaxis": {
           "automargin": true,
           "gridcolor": "rgb(232,232,232)",
           "linecolor": "rgb(36,36,36)",
           "showgrid": false,
           "showline": true,
           "ticks": "outside",
           "title": {
            "standoff": 15
           },
           "zeroline": false,
           "zerolinecolor": "rgb(36,36,36)"
          }
         }
        },
        "title": {
         "text": "$\\text{(3) Fitted Model Over Noisy Data}$"
        },
        "xaxis": {
         "title": {
          "text": "x - Explanatory Variable"
         }
        },
        "yaxis": {
         "title": {
          "text": "y - Response"
         }
        }
       }
      },
      "text/html": [
       "<div>                            <div id=\"91d9be56-194a-437e-ac9b-e89621227d93\" class=\"plotly-graph-div\" style=\"height:400px; width:100%;\"></div>            <script type=\"text/javascript\">                require([\"plotly\"], function(Plotly) {                    window.PLOTLYENV=window.PLOTLYENV || {};                                    if (document.getElementById(\"91d9be56-194a-437e-ac9b-e89621227d93\")) {                    Plotly.newPlot(                        \"91d9be56-194a-437e-ac9b-e89621227d93\",                        [{\"line\":{\"color\":\"black\",\"dash\":\"dash\",\"width\":1},\"marker\":{\"color\":\"black\",\"opacity\":0.7},\"name\":\"Real Model\",\"showlegend\":true,\"x\":[0.0,11.11111111111111,22.22222222222222,33.33333333333333,44.44444444444444,55.55555555555556,66.66666666666666,77.77777777777777,88.88888888888889,100.0],\"y\":[1.0,23.22222222222222,45.44444444444444,67.66666666666666,89.88888888888889,112.11111111111111,134.33333333333331,156.55555555555554,178.77777777777777,201.0],\"type\":\"scatter\"},{\"line\":{\"width\":1},\"mode\":\"markers\",\"name\":\"Observed Points\",\"x\":[0.0,11.11111111111111,22.22222222222222,33.33333333333333,44.44444444444444,55.55555555555556,66.66666666666666,77.77777777777777,88.88888888888889,100.0],\"y\":[37.1946286140212,96.8820308171569,67.9193179629644,121.4737312958295,69.59590396802949,52.18294525991498,141.74930267367432,161.7608554656538,145.31875676634843,156.83984885097487],\"type\":\"scatter\"},{\"marker\":{\"color\":\"blue\"},\"mode\":\"markers\",\"name\":\"Predicted Responses\",\"x\":[0.0,11.11111111111111,22.22222222222222,33.33333333333333,44.44444444444444,55.55555555555556,66.66666666666666,77.77777777777777,88.88888888888889,100.0],\"y\":[52.49667289338975,64.18446384318243,75.8722547929751,87.56004574276777,99.24783669256044,110.93562764235313,122.62341859214578,134.31120954193847,145.99900049173115,157.6867914415238],\"type\":\"scatter\"},{\"line\":{\"color\":\"blue\",\"width\":1},\"mode\":\"lines\",\"name\":\"Fitted Model\",\"x\":[0.0,11.11111111111111,22.22222222222222,33.33333333333333,44.44444444444444,55.55555555555556,66.66666666666666,77.77777777777777,88.88888888888889,100.0],\"y\":[52.49667289338975,64.18446384318243,75.8722547929751,87.56004574276777,99.24783669256044,110.93562764235313,122.62341859214578,134.31120954193847,145.99900049173115,157.6867914415238],\"type\":\"scatter\"}],                        {\"height\":400,\"title\":{\"text\":\"$\\\\text{(3) Fitted Model Over Noisy Data}$\"},\"xaxis\":{\"title\":{\"text\":\"x - Explanatory Variable\"}},\"yaxis\":{\"title\":{\"text\":\"y - Response\"}},\"template\":{\"data\":{\"barpolar\":[{\"marker\":{\"line\":{\"color\":\"white\",\"width\":0.5},\"pattern\":{\"fillmode\":\"overlay\",\"size\":10,\"solidity\":0.2}},\"type\":\"barpolar\"}],\"bar\":[{\"error_x\":{\"color\":\"rgb(36,36,36)\"},\"error_y\":{\"color\":\"rgb(36,36,36)\"},\"marker\":{\"line\":{\"color\":\"white\",\"width\":0.5},\"pattern\":{\"fillmode\":\"overlay\",\"size\":10,\"solidity\":0.2}},\"type\":\"bar\"}],\"carpet\":[{\"aaxis\":{\"endlinecolor\":\"rgb(36,36,36)\",\"gridcolor\":\"white\",\"linecolor\":\"white\",\"minorgridcolor\":\"white\",\"startlinecolor\":\"rgb(36,36,36)\"},\"baxis\":{\"endlinecolor\":\"rgb(36,36,36)\",\"gridcolor\":\"white\",\"linecolor\":\"white\",\"minorgridcolor\":\"white\",\"startlinecolor\":\"rgb(36,36,36)\"},\"type\":\"carpet\"}],\"choropleth\":[{\"colorbar\":{\"outlinewidth\":1,\"tickcolor\":\"rgb(36,36,36)\",\"ticks\":\"outside\"},\"type\":\"choropleth\"}],\"contourcarpet\":[{\"colorbar\":{\"outlinewidth\":1,\"tickcolor\":\"rgb(36,36,36)\",\"ticks\":\"outside\"},\"type\":\"contourcarpet\"}],\"contour\":[{\"colorbar\":{\"outlinewidth\":1,\"tickcolor\":\"rgb(36,36,36)\",\"ticks\":\"outside\"},\"colorscale\":[[0.0,\"#440154\"],[0.1111111111111111,\"#482878\"],[0.2222222222222222,\"#3e4989\"],[0.3333333333333333,\"#31688e\"],[0.4444444444444444,\"#26828e\"],[0.5555555555555556,\"#1f9e89\"],[0.6666666666666666,\"#35b779\"],[0.7777777777777778,\"#6ece58\"],[0.8888888888888888,\"#b5de2b\"],[1.0,\"#fde725\"]],\"type\":\"contour\"}],\"heatmapgl\":[{\"colorbar\":{\"outlinewidth\":1,\"tickcolor\":\"rgb(36,36,36)\",\"ticks\":\"outside\"},\"colorscale\":[[0.0,\"#440154\"],[0.1111111111111111,\"#482878\"],[0.2222222222222222,\"#3e4989\"],[0.3333333333333333,\"#31688e\"],[0.4444444444444444,\"#26828e\"],[0.5555555555555556,\"#1f9e89\"],[0.6666666666666666,\"#35b779\"],[0.7777777777777778,\"#6ece58\"],[0.8888888888888888,\"#b5de2b\"],[1.0,\"#fde725\"]],\"type\":\"heatmapgl\"}],\"heatmap\":[{\"colorbar\":{\"outlinewidth\":1,\"tickcolor\":\"rgb(36,36,36)\",\"ticks\":\"outside\"},\"colorscale\":[[0.0,\"#440154\"],[0.1111111111111111,\"#482878\"],[0.2222222222222222,\"#3e4989\"],[0.3333333333333333,\"#31688e\"],[0.4444444444444444,\"#26828e\"],[0.5555555555555556,\"#1f9e89\"],[0.6666666666666666,\"#35b779\"],[0.7777777777777778,\"#6ece58\"],[0.8888888888888888,\"#b5de2b\"],[1.0,\"#fde725\"]],\"type\":\"heatmap\"}],\"histogram2dcontour\":[{\"colorbar\":{\"outlinewidth\":1,\"tickcolor\":\"rgb(36,36,36)\",\"ticks\":\"outside\"},\"colorscale\":[[0.0,\"#440154\"],[0.1111111111111111,\"#482878\"],[0.2222222222222222,\"#3e4989\"],[0.3333333333333333,\"#31688e\"],[0.4444444444444444,\"#26828e\"],[0.5555555555555556,\"#1f9e89\"],[0.6666666666666666,\"#35b779\"],[0.7777777777777778,\"#6ece58\"],[0.8888888888888888,\"#b5de2b\"],[1.0,\"#fde725\"]],\"type\":\"histogram2dcontour\"}],\"histogram2d\":[{\"colorbar\":{\"outlinewidth\":1,\"tickcolor\":\"rgb(36,36,36)\",\"ticks\":\"outside\"},\"colorscale\":[[0.0,\"#440154\"],[0.1111111111111111,\"#482878\"],[0.2222222222222222,\"#3e4989\"],[0.3333333333333333,\"#31688e\"],[0.4444444444444444,\"#26828e\"],[0.5555555555555556,\"#1f9e89\"],[0.6666666666666666,\"#35b779\"],[0.7777777777777778,\"#6ece58\"],[0.8888888888888888,\"#b5de2b\"],[1.0,\"#fde725\"]],\"type\":\"histogram2d\"}],\"histogram\":[{\"marker\":{\"line\":{\"color\":\"white\",\"width\":0.6}},\"type\":\"histogram\"}],\"mesh3d\":[{\"colorbar\":{\"outlinewidth\":1,\"tickcolor\":\"rgb(36,36,36)\",\"ticks\":\"outside\"},\"type\":\"mesh3d\"}],\"parcoords\":[{\"line\":{\"colorbar\":{\"outlinewidth\":1,\"tickcolor\":\"rgb(36,36,36)\",\"ticks\":\"outside\"}},\"type\":\"parcoords\"}],\"pie\":[{\"automargin\":true,\"type\":\"pie\"}],\"scatter3d\":[{\"line\":{\"colorbar\":{\"outlinewidth\":1,\"tickcolor\":\"rgb(36,36,36)\",\"ticks\":\"outside\"}},\"marker\":{\"colorbar\":{\"outlinewidth\":1,\"tickcolor\":\"rgb(36,36,36)\",\"ticks\":\"outside\"}},\"type\":\"scatter3d\"}],\"scattercarpet\":[{\"marker\":{\"colorbar\":{\"outlinewidth\":1,\"tickcolor\":\"rgb(36,36,36)\",\"ticks\":\"outside\"}},\"type\":\"scattercarpet\"}],\"scattergeo\":[{\"marker\":{\"colorbar\":{\"outlinewidth\":1,\"tickcolor\":\"rgb(36,36,36)\",\"ticks\":\"outside\"}},\"type\":\"scattergeo\"}],\"scattergl\":[{\"marker\":{\"colorbar\":{\"outlinewidth\":1,\"tickcolor\":\"rgb(36,36,36)\",\"ticks\":\"outside\"}},\"type\":\"scattergl\"}],\"scattermapbox\":[{\"marker\":{\"colorbar\":{\"outlinewidth\":1,\"tickcolor\":\"rgb(36,36,36)\",\"ticks\":\"outside\"}},\"type\":\"scattermapbox\"}],\"scatterpolargl\":[{\"marker\":{\"colorbar\":{\"outlinewidth\":1,\"tickcolor\":\"rgb(36,36,36)\",\"ticks\":\"outside\"}},\"type\":\"scatterpolargl\"}],\"scatterpolar\":[{\"marker\":{\"colorbar\":{\"outlinewidth\":1,\"tickcolor\":\"rgb(36,36,36)\",\"ticks\":\"outside\"}},\"type\":\"scatterpolar\"}],\"scatter\":[{\"marker\":{\"colorbar\":{\"outlinewidth\":1,\"tickcolor\":\"rgb(36,36,36)\",\"ticks\":\"outside\"}},\"type\":\"scatter\"}],\"scatterternary\":[{\"marker\":{\"colorbar\":{\"outlinewidth\":1,\"tickcolor\":\"rgb(36,36,36)\",\"ticks\":\"outside\"}},\"type\":\"scatterternary\"}],\"surface\":[{\"colorbar\":{\"outlinewidth\":1,\"tickcolor\":\"rgb(36,36,36)\",\"ticks\":\"outside\"},\"colorscale\":[[0.0,\"#440154\"],[0.1111111111111111,\"#482878\"],[0.2222222222222222,\"#3e4989\"],[0.3333333333333333,\"#31688e\"],[0.4444444444444444,\"#26828e\"],[0.5555555555555556,\"#1f9e89\"],[0.6666666666666666,\"#35b779\"],[0.7777777777777778,\"#6ece58\"],[0.8888888888888888,\"#b5de2b\"],[1.0,\"#fde725\"]],\"type\":\"surface\"}],\"table\":[{\"cells\":{\"fill\":{\"color\":\"rgb(237,237,237)\"},\"line\":{\"color\":\"white\"}},\"header\":{\"fill\":{\"color\":\"rgb(217,217,217)\"},\"line\":{\"color\":\"white\"}},\"type\":\"table\"}]},\"layout\":{\"annotationdefaults\":{\"arrowhead\":0,\"arrowwidth\":1},\"autotypenumbers\":\"strict\",\"coloraxis\":{\"colorbar\":{\"outlinewidth\":1,\"tickcolor\":\"rgb(36,36,36)\",\"ticks\":\"outside\"}},\"colorscale\":{\"diverging\":[[0.0,\"rgb(103,0,31)\"],[0.1,\"rgb(178,24,43)\"],[0.2,\"rgb(214,96,77)\"],[0.3,\"rgb(244,165,130)\"],[0.4,\"rgb(253,219,199)\"],[0.5,\"rgb(247,247,247)\"],[0.6,\"rgb(209,229,240)\"],[0.7,\"rgb(146,197,222)\"],[0.8,\"rgb(67,147,195)\"],[0.9,\"rgb(33,102,172)\"],[1.0,\"rgb(5,48,97)\"]],\"sequential\":[[0.0,\"#440154\"],[0.1111111111111111,\"#482878\"],[0.2222222222222222,\"#3e4989\"],[0.3333333333333333,\"#31688e\"],[0.4444444444444444,\"#26828e\"],[0.5555555555555556,\"#1f9e89\"],[0.6666666666666666,\"#35b779\"],[0.7777777777777778,\"#6ece58\"],[0.8888888888888888,\"#b5de2b\"],[1.0,\"#fde725\"]],\"sequentialminus\":[[0.0,\"#440154\"],[0.1111111111111111,\"#482878\"],[0.2222222222222222,\"#3e4989\"],[0.3333333333333333,\"#31688e\"],[0.4444444444444444,\"#26828e\"],[0.5555555555555556,\"#1f9e89\"],[0.6666666666666666,\"#35b779\"],[0.7777777777777778,\"#6ece58\"],[0.8888888888888888,\"#b5de2b\"],[1.0,\"#fde725\"]]},\"colorway\":[\"#1F77B4\",\"#FF7F0E\",\"#2CA02C\",\"#D62728\",\"#9467BD\",\"#8C564B\",\"#E377C2\",\"#7F7F7F\",\"#BCBD22\",\"#17BECF\"],\"font\":{\"color\":\"rgb(36,36,36)\"},\"geo\":{\"bgcolor\":\"white\",\"lakecolor\":\"white\",\"landcolor\":\"white\",\"showlakes\":true,\"showland\":true,\"subunitcolor\":\"white\"},\"hoverlabel\":{\"align\":\"left\"},\"hovermode\":\"closest\",\"mapbox\":{\"style\":\"light\"},\"paper_bgcolor\":\"white\",\"plot_bgcolor\":\"white\",\"polar\":{\"angularaxis\":{\"gridcolor\":\"rgb(232,232,232)\",\"linecolor\":\"rgb(36,36,36)\",\"showgrid\":false,\"showline\":true,\"ticks\":\"outside\"},\"bgcolor\":\"white\",\"radialaxis\":{\"gridcolor\":\"rgb(232,232,232)\",\"linecolor\":\"rgb(36,36,36)\",\"showgrid\":false,\"showline\":true,\"ticks\":\"outside\"}},\"scene\":{\"xaxis\":{\"backgroundcolor\":\"white\",\"gridcolor\":\"rgb(232,232,232)\",\"gridwidth\":2,\"linecolor\":\"rgb(36,36,36)\",\"showbackground\":true,\"showgrid\":false,\"showline\":true,\"ticks\":\"outside\",\"zeroline\":false,\"zerolinecolor\":\"rgb(36,36,36)\"},\"yaxis\":{\"backgroundcolor\":\"white\",\"gridcolor\":\"rgb(232,232,232)\",\"gridwidth\":2,\"linecolor\":\"rgb(36,36,36)\",\"showbackground\":true,\"showgrid\":false,\"showline\":true,\"ticks\":\"outside\",\"zeroline\":false,\"zerolinecolor\":\"rgb(36,36,36)\"},\"zaxis\":{\"backgroundcolor\":\"white\",\"gridcolor\":\"rgb(232,232,232)\",\"gridwidth\":2,\"linecolor\":\"rgb(36,36,36)\",\"showbackground\":true,\"showgrid\":false,\"showline\":true,\"ticks\":\"outside\",\"zeroline\":false,\"zerolinecolor\":\"rgb(36,36,36)\"}},\"shapedefaults\":{\"fillcolor\":\"black\",\"line\":{\"width\":0},\"opacity\":0.3},\"ternary\":{\"aaxis\":{\"gridcolor\":\"rgb(232,232,232)\",\"linecolor\":\"rgb(36,36,36)\",\"showgrid\":false,\"showline\":true,\"ticks\":\"outside\"},\"baxis\":{\"gridcolor\":\"rgb(232,232,232)\",\"linecolor\":\"rgb(36,36,36)\",\"showgrid\":false,\"showline\":true,\"ticks\":\"outside\"},\"bgcolor\":\"white\",\"caxis\":{\"gridcolor\":\"rgb(232,232,232)\",\"linecolor\":\"rgb(36,36,36)\",\"showgrid\":false,\"showline\":true,\"ticks\":\"outside\"}},\"title\":{\"x\":0.05},\"xaxis\":{\"automargin\":true,\"gridcolor\":\"rgb(232,232,232)\",\"linecolor\":\"rgb(36,36,36)\",\"showgrid\":false,\"showline\":true,\"ticks\":\"outside\",\"title\":{\"standoff\":15},\"zeroline\":false,\"zerolinecolor\":\"rgb(36,36,36)\"},\"yaxis\":{\"automargin\":true,\"gridcolor\":\"rgb(232,232,232)\",\"linecolor\":\"rgb(36,36,36)\",\"showgrid\":false,\"showline\":true,\"ticks\":\"outside\",\"title\":{\"standoff\":15},\"zeroline\":false,\"zerolinecolor\":\"rgb(36,36,36)\"},\"margin\":{\"b\":0,\"l\":20,\"r\":20,\"t\":40}}}},                        {\"responsive\": true}                    ).then(function(){\n",
       "                            \n",
       "var gd = document.getElementById('91d9be56-194a-437e-ac9b-e89621227d93');\n",
       "var x = new MutationObserver(function (mutations, observer) {{\n",
       "        var display = window.getComputedStyle(gd).display;\n",
       "        if (!display || display === 'none') {{\n",
       "            console.log([gd, 'removed!']);\n",
       "            Plotly.purge(gd);\n",
       "            observer.disconnect();\n",
       "        }}\n",
       "}});\n",
       "\n",
       "// Listen for the removal of the full notebook cells\n",
       "var notebookContainer = gd.closest('#notebook-container');\n",
       "if (notebookContainer) {{\n",
       "    x.observe(notebookContainer, {childList: true});\n",
       "}}\n",
       "\n",
       "// Listen for the clearing of the current output cell\n",
       "var outputEl = gd.closest('.output');\n",
       "if (outputEl) {{\n",
       "    x.observe(outputEl, {childList: true});\n",
       "}}\n",
       "\n",
       "                        })                };                });            </script>        </div>"
      ]
     },
     "metadata": {},
     "output_type": "display_data"
    }
   ],
   "source": [
    "y_hat = model.predict(x.reshape(-1,1))\n",
    "\n",
    "fig.data = [fig.data[0], fig.data[1]]\n",
    "fig.update_layout(title=r\"$\\text{(3) Fitted Model Over Noisy Data}$\")\n",
    "fig.add_traces([go.Scatter(x=x, y=y_hat, mode=\"markers\", name=\"Predicted Responses\", marker=dict(color=\"blue\")),\n",
    "                go.Scatter(x=x, y=y_hat, mode=\"lines\", name=\"Fitted Model\", line=dict(color=\"blue\", width=1))])\n",
    "fig.show()\n"
   ]
  },
  {
   "cell_type": "markdown",
   "metadata": {
    "pycharm": {
     "name": "#%% md\n"
    }
   },
   "source": [
    "Let us better understand what took place. Schematically, we started with some model\n",
    "$$ Y=w_1X+w_0 \\quad s.t. w_1=2,w_0=1 $$\n",
    "\n",
    "and obtained a dataset from this model \n",
    "$$ Y=w_1X + w_0 + \\mathcal{N}\\left(0,\\sigma^2\\right) $$ \n",
    "\n",
    "Then, using the dataset we estimated the model parameters to obtain $\\widehat{w_1},\\widehat{w_0}$. However, we should look\n",
    "at these steps from two different points of view: the \"observer\" and the \"all-knowing\".\n",
    "- The \"observer\" is us whenever we work with data. We somehow obtained samples/observations that we assume to be generated\n",
    "from some \"true\" function/model $f$. As in reality data is noisy, when we assume something about the \"true\" function we \n",
    "also make assumptions about the noise. Then, as we do not know $f$ we try to learn it based on the observations.\n",
    "- The \"all-knowing\", unlike the \"observer\", knows exactly how $f$ looks and for each sample what is the noise.  \n",
    "\n",
    "In the graph above the <span style=\"color:Black\">**Real Model**</span> is only known to the \"all-knowing\". We, as the \n",
    "\"observer\" only witness the <span style=\"color:red\">**Observed Points**</span>. We **assumed** the data came from a linear\n",
    "model with Gaussian Noise and therefore fitted the OLS estimators $\\widehat{w}_1, \\widehat{w}_0$. These estimators give\n",
    "us the <span style=\"color:blue\">**Fitted Model**</span> and a <span style=\"color:blue\">**Predicted Response**</span> to \n",
    "each observation."
   ]
  },
  {
   "cell_type": "markdown",
   "metadata": {
    "pycharm": {
     "name": "#%% md\n"
    }
   },
   "source": [
    "Using these estimators of the model coefficients we can do two things:\n",
    "- **Inference**: We can study the estimated model. What are the statistical properties of our estimators? How confident are\n",
    "we in the estimation? Are the features associated with the helpful/relevant for predicting/explaining the response? Etc.\n",
    "- **Prediction**: We can use this estimated model to predict the responses of new data-points. How accurate are our predictions? How does the training set (and its size) influence this accuracy? \n",
    "\n",
    "In the scope of this course we are mainly interested in using the fitted model for prediction, with only slightly \n",
    "investigating the properties of our fitted model."
   ]
  },
  {
   "cell_type": "markdown",
   "metadata": {
    "pycharm": {
     "name": "#%% md\n"
    }
   },
   "source": [
    "## Multivatiate Linaer Regression\n",
    "Lastly, using a more complicated model, we fit a model and answer some inference and prediction questions. \n",
    "To gain a better understanding, please look at the graph below and answer the question before reading the code.\n"
   ]
  },
  {
   "cell_type": "code",
   "execution_count": 26,
   "metadata": {
    "pycharm": {
     "is_executing": false,
     "name": "#%%\n"
    },
    "scrolled": true
   },
   "outputs": [
    {
     "data": {
      "text/html": [
       "<div>\n",
       "<style scoped>\n",
       "    .dataframe tbody tr th:only-of-type {\n",
       "        vertical-align: middle;\n",
       "    }\n",
       "\n",
       "    .dataframe tbody tr th {\n",
       "        vertical-align: top;\n",
       "    }\n",
       "\n",
       "    .dataframe thead th {\n",
       "        text-align: right;\n",
       "    }\n",
       "</style>\n",
       "<table border=\"1\" class=\"dataframe\">\n",
       "  <thead>\n",
       "    <tr style=\"text-align: right;\">\n",
       "      <th></th>\n",
       "      <th>Coefficient</th>\n",
       "      <th>Estimated Value</th>\n",
       "    </tr>\n",
       "  </thead>\n",
       "  <tbody>\n",
       "    <tr>\n",
       "      <th>0</th>\n",
       "      <td>$w_0$</td>\n",
       "      <td>14.690830</td>\n",
       "    </tr>\n",
       "    <tr>\n",
       "      <th>1</th>\n",
       "      <td>$w_1$</td>\n",
       "      <td>6.189547</td>\n",
       "    </tr>\n",
       "    <tr>\n",
       "      <th>2</th>\n",
       "      <td>$w_2$</td>\n",
       "      <td>0.059037</td>\n",
       "    </tr>\n",
       "  </tbody>\n",
       "</table>\n",
       "</div>"
      ],
      "text/plain": [
       "  Coefficient  Estimated Value\n",
       "0       $w_0$        14.690830\n",
       "1       $w_1$         6.189547\n",
       "2       $w_2$         0.059037"
      ]
     },
     "execution_count": 26,
     "metadata": {},
     "output_type": "execute_result"
    }
   ],
   "source": [
    "response = lambda x1, x2: 5*x1 + .1*x2 + 3\n",
    "\n",
    "min_x1, min_x2, max_x1, max_x2 = -10, -10, 10, 10\n",
    "xv1, xv2 = np.meshgrid(np.linspace(min_x1, max_x1, 10), np.linspace(min_x2, max_x2, 10))\n",
    "surface = response(xv1, xv2)\n",
    "\n",
    "x = np.random.uniform((min_x1, min_x2), (max_x1, max_x2), (100, 2))\n",
    "y_ = response(x[:,0], x[:,1])\n",
    "y = y_ + np.random.normal(0, 30, len(x))\n",
    "\n",
    "model = LinearRegression().fit(x, y)\n",
    "y_hat = model.predict(x)\n",
    "\n",
    "DataFrame({\"Coefficient\": [rf\"$w_{{0}}$\".format(i) for i in range(len(model.coef_)+1)],\n",
    "           \"Estimated Value\": np.concatenate([[model.intercept_], model.coef_])})\n"
   ]
  },
  {
   "cell_type": "code",
   "execution_count": 29,
   "metadata": {
    "pycharm": {
     "is_executing": false,
     "name": "#%%\n"
    }
   },
   "outputs": [
    {
     "data": {
      "application/vnd.plotly.v1+json": {
       "config": {
        "plotlyServerURL": "https://plot.ly"
       },
       "data": [
        {
         "opacity": 0.5,
         "showscale": false,
         "type": "surface",
         "x": [
          [
           -10,
           -7.777777777777778,
           -5.555555555555555,
           -3.333333333333333,
           -1.1111111111111107,
           1.1111111111111107,
           3.333333333333334,
           5.555555555555557,
           7.777777777777779,
           10
          ],
          [
           -10,
           -7.777777777777778,
           -5.555555555555555,
           -3.333333333333333,
           -1.1111111111111107,
           1.1111111111111107,
           3.333333333333334,
           5.555555555555557,
           7.777777777777779,
           10
          ],
          [
           -10,
           -7.777777777777778,
           -5.555555555555555,
           -3.333333333333333,
           -1.1111111111111107,
           1.1111111111111107,
           3.333333333333334,
           5.555555555555557,
           7.777777777777779,
           10
          ],
          [
           -10,
           -7.777777777777778,
           -5.555555555555555,
           -3.333333333333333,
           -1.1111111111111107,
           1.1111111111111107,
           3.333333333333334,
           5.555555555555557,
           7.777777777777779,
           10
          ],
          [
           -10,
           -7.777777777777778,
           -5.555555555555555,
           -3.333333333333333,
           -1.1111111111111107,
           1.1111111111111107,
           3.333333333333334,
           5.555555555555557,
           7.777777777777779,
           10
          ],
          [
           -10,
           -7.777777777777778,
           -5.555555555555555,
           -3.333333333333333,
           -1.1111111111111107,
           1.1111111111111107,
           3.333333333333334,
           5.555555555555557,
           7.777777777777779,
           10
          ],
          [
           -10,
           -7.777777777777778,
           -5.555555555555555,
           -3.333333333333333,
           -1.1111111111111107,
           1.1111111111111107,
           3.333333333333334,
           5.555555555555557,
           7.777777777777779,
           10
          ],
          [
           -10,
           -7.777777777777778,
           -5.555555555555555,
           -3.333333333333333,
           -1.1111111111111107,
           1.1111111111111107,
           3.333333333333334,
           5.555555555555557,
           7.777777777777779,
           10
          ],
          [
           -10,
           -7.777777777777778,
           -5.555555555555555,
           -3.333333333333333,
           -1.1111111111111107,
           1.1111111111111107,
           3.333333333333334,
           5.555555555555557,
           7.777777777777779,
           10
          ],
          [
           -10,
           -7.777777777777778,
           -5.555555555555555,
           -3.333333333333333,
           -1.1111111111111107,
           1.1111111111111107,
           3.333333333333334,
           5.555555555555557,
           7.777777777777779,
           10
          ]
         ],
         "y": [
          [
           -10,
           -10,
           -10,
           -10,
           -10,
           -10,
           -10,
           -10,
           -10,
           -10
          ],
          [
           -7.777777777777778,
           -7.777777777777778,
           -7.777777777777778,
           -7.777777777777778,
           -7.777777777777778,
           -7.777777777777778,
           -7.777777777777778,
           -7.777777777777778,
           -7.777777777777778,
           -7.777777777777778
          ],
          [
           -5.555555555555555,
           -5.555555555555555,
           -5.555555555555555,
           -5.555555555555555,
           -5.555555555555555,
           -5.555555555555555,
           -5.555555555555555,
           -5.555555555555555,
           -5.555555555555555,
           -5.555555555555555
          ],
          [
           -3.333333333333333,
           -3.333333333333333,
           -3.333333333333333,
           -3.333333333333333,
           -3.333333333333333,
           -3.333333333333333,
           -3.333333333333333,
           -3.333333333333333,
           -3.333333333333333,
           -3.333333333333333
          ],
          [
           -1.1111111111111107,
           -1.1111111111111107,
           -1.1111111111111107,
           -1.1111111111111107,
           -1.1111111111111107,
           -1.1111111111111107,
           -1.1111111111111107,
           -1.1111111111111107,
           -1.1111111111111107,
           -1.1111111111111107
          ],
          [
           1.1111111111111107,
           1.1111111111111107,
           1.1111111111111107,
           1.1111111111111107,
           1.1111111111111107,
           1.1111111111111107,
           1.1111111111111107,
           1.1111111111111107,
           1.1111111111111107,
           1.1111111111111107
          ],
          [
           3.333333333333334,
           3.333333333333334,
           3.333333333333334,
           3.333333333333334,
           3.333333333333334,
           3.333333333333334,
           3.333333333333334,
           3.333333333333334,
           3.333333333333334,
           3.333333333333334
          ],
          [
           5.555555555555557,
           5.555555555555557,
           5.555555555555557,
           5.555555555555557,
           5.555555555555557,
           5.555555555555557,
           5.555555555555557,
           5.555555555555557,
           5.555555555555557,
           5.555555555555557
          ],
          [
           7.777777777777779,
           7.777777777777779,
           7.777777777777779,
           7.777777777777779,
           7.777777777777779,
           7.777777777777779,
           7.777777777777779,
           7.777777777777779,
           7.777777777777779,
           7.777777777777779
          ],
          [
           10,
           10,
           10,
           10,
           10,
           10,
           10,
           10,
           10,
           10
          ]
         ],
         "z": [
          [
           -48,
           -36.888888888888886,
           -25.77777777777778,
           -14.666666666666664,
           -3.5555555555555536,
           7.555555555555554,
           18.66666666666667,
           29.777777777777786,
           40.88888888888889,
           52
          ],
          [
           -47.77777777777778,
           -36.666666666666664,
           -25.555555555555557,
           -14.444444444444443,
           -3.3333333333333313,
           7.777777777777776,
           18.888888888888893,
           30.000000000000007,
           41.111111111111114,
           52.22222222222222
          ],
          [
           -47.55555555555556,
           -36.44444444444444,
           -25.333333333333336,
           -14.222222222222221,
           -3.111111111111109,
           7.999999999999998,
           19.111111111111114,
           30.22222222222223,
           41.333333333333336,
           52.44444444444444
          ],
          [
           -47.333333333333336,
           -36.22222222222222,
           -25.11111111111111,
           -13.999999999999996,
           -2.8888888888888866,
           8.222222222222221,
           19.33333333333334,
           30.444444444444454,
           41.55555555555556,
           52.666666666666664
          ],
          [
           -47.111111111111114,
           -36,
           -24.88888888888889,
           -13.777777777777775,
           -2.6666666666666643,
           8.444444444444443,
           19.55555555555556,
           30.666666666666675,
           41.77777777777778,
           52.888888888888886
          ],
          [
           -46.888888888888886,
           -35.77777777777777,
           -24.666666666666668,
           -13.555555555555554,
           -2.444444444444443,
           8.666666666666664,
           19.777777777777782,
           30.888888888888896,
           42.00000000000001,
           53.111111111111114
          ],
          [
           -46.666666666666664,
           -35.55555555555555,
           -24.444444444444446,
           -13.333333333333332,
           -2.2222222222222205,
           8.888888888888886,
           20.000000000000004,
           31.111111111111118,
           42.22222222222223,
           53.333333333333336
          ],
          [
           -46.44444444444444,
           -35.33333333333333,
           -24.22222222222222,
           -13.111111111111107,
           -1.9999999999999982,
           9.111111111111109,
           20.22222222222223,
           31.333333333333343,
           42.44444444444445,
           53.55555555555556
          ],
          [
           -46.22222222222222,
           -35.11111111111111,
           -24,
           -12.888888888888886,
           -1.777777777777776,
           9.333333333333332,
           20.44444444444445,
           31.555555555555564,
           42.66666666666667,
           53.77777777777778
          ],
          [
           -46,
           -34.888888888888886,
           -23.77777777777778,
           -12.666666666666664,
           -1.5555555555555536,
           9.555555555555554,
           20.66666666666667,
           31.777777777777786,
           42.88888888888889,
           54
          ]
         ]
        },
        {
         "marker": {
          "color": "black",
          "size": 2
         },
         "mode": "markers",
         "name": "Real (noise-less) Points",
         "type": "scatter3d",
         "x": [
          -7.212878591162168,
          -2.341251203378894,
          -9.965537265282691,
          -6.0236772984722275,
          -9.982415950540883,
          8.985069871543732,
          -4.1161854936314075,
          7.4707973765942555,
          -2.433586625992521,
          7.77414962018868,
          -4.966929041077906,
          -7.101253885079359,
          -4.474266159074299,
          0.4665067934481222,
          5.715688128876248,
          2.7116642947616256,
          9.698229952677949,
          3.856018255230694,
          2.309938761435644,
          8.797257559477195,
          8.302335713657747,
          -9.019654825429377,
          -1.614841857045823,
          -9.152587096534582,
          -2.2032125575564576,
          -6.875498071274928,
          -3.9063264108053053,
          3.8896804470689172,
          -5.902328119287466,
          -4.763785663162388,
          -8.751382916996098,
          -5.14777602911108,
          3.0244968497574725,
          1.051070012718828,
          -9.588881563146327,
          7.653243540293889,
          -7.450341640795399,
          -2.183731668860787,
          -2.4303928724695982,
          5.547748657263774,
          -8.53463855746779,
          4.086768085432153,
          -8.349488341613558,
          1.9388554133330143,
          -4.355075617220683,
          -9.975266301901716,
          -4.211220433634352,
          -5.864486484407663,
          9.117759885649377,
          -1.2595766408804536,
          -2.72401297545803,
          6.160135342453877,
          5.545282688674993,
          1.1383754262391594,
          7.329524407599315,
          3.6475453401134157,
          -3.891774053072785,
          -6.426228092125747,
          2.75690988025962,
          3.772548826760554,
          -8.153508528997651,
          3.2499265344178276,
          -7.623528108870374,
          7.3049158416216216,
          4.912856947784977,
          8.357384084807222,
          3.724563538539453,
          3.5211129582553795,
          8.555954797800403,
          7.5605203102259,
          -4.529699842981023,
          -3.637377576608345,
          -6.724755624398915,
          -8.513486995694429,
          4.521761209039951,
          -4.749473112091391,
          -5.755464923401876,
          -1.7694993156645609,
          -1.2549080347788095,
          5.2925874340962125,
          -9.042162485148197,
          -6.5876382353133405,
          2.6484111319674675,
          -0.11445518724451631,
          2.365885008799964,
          7.166416383040083,
          -1.4069445008251247,
          3.848638524440087,
          -9.41311153116379,
          -5.3912030616380235,
          3.3182156601746833,
          2.955166305893469,
          -4.98661187161378,
          3.1412517388026,
          7.959069686049144,
          -1.5804208596871412,
          6.5481103919634265,
          -5.344681736227268,
          -2.8022999808867732,
          -8.471984622593162
         ],
         "y": [
          8.759619241331201,
          1.586331477823684,
          3.54572270252428,
          3.8912756836501536,
          -9.570516587500467,
          -9.1065580937749,
          -0.3642781301112805,
          4.402194361160252,
          -4.82095754754587,
          2.3871796300870134,
          -9.680146493287554,
          -7.369930715301763,
          -8.575753705923637,
          -8.714637972298249,
          3.2764451047287686,
          6.46569975321362,
          5.01148092603637,
          3.931411146159201,
          -0.9747319136995198,
          7.3242715770807045,
          3.0543560024378618,
          4.530265277553639,
          -4.920891540583696,
          -2.053499752232357,
          7.043525122885626,
          -3.4249855610037017,
          5.272934873919372,
          -7.964506268106504,
          5.836176926029907,
          -9.992998964070608,
          -4.334488575817499,
          8.73323518179295,
          -6.2100388690568975,
          -3.6342272221422345,
          -7.869720715709699,
          -4.526806404157943,
          -4.861186422714074,
          1.7902771654147642,
          7.737659147559427,
          -2.808561008158774,
          -6.043186129694944,
          8.630298656122545,
          2.791178327571995,
          -5.9933659027942765,
          -1.4589862137375533,
          3.2990629266619145,
          8.108891647971415,
          -3.1973943280642425,
          -6.967447522770065,
          -0.9553585130579414,
          8.778299525389002,
          -7.19338144374942,
          8.769734162231245,
          2.204810147005782,
          6.1002959694757735,
          3.3592595820551256,
          -3.7312023672102423,
          -5.744618368259511,
          -3.211843675809954,
          3.5152797412148367,
          -8.102905951581917,
          3.2492797053453586,
          7.027718627546562,
          8.897279526745944,
          -8.949313623174543,
          9.951950062308644,
          9.933417646286262,
          -2.4674667233439624,
          5.669376480096663,
          0.405569342581245,
          6.408576057131722,
          8.257176681228785,
          2.3525630857729105,
          1.7733298274787792,
          4.8669680750507105,
          5.2237369937146205,
          -4.505494774510002,
          -0.8245265474572463,
          -0.874307965858435,
          -5.767980714295524,
          7.00358801091096,
          7.311749124168724,
          6.3747935838276,
          -4.3740086778010205,
          -9.874467019562461,
          -5.292286170656961,
          9.688428493063931,
          -5.074105792270225,
          3.299396707255122,
          5.307905965489532,
          -6.961444540995279,
          1.8977658927306784,
          -2.85492071104668,
          1.8673781969913499,
          6.926369726676583,
          -8.371847340127236,
          6.060860142870073,
          6.9024970614014585,
          1.3351744060944526,
          9.64014343062711
         ],
         "z": [
          -32.188431031677716,
          -8.547622869112102,
          -46.47311405616103,
          -26.729258923996124,
          -47.86913141145446,
          47.01469354834117,
          -17.617355281168162,
          40.7942063190873,
          -9.650028884717193,
          42.109466063952105,
          -22.802659854718282,
          -33.243262496926974,
          -20.228906165963856,
          4.461070170010786,
          31.906085154854118,
          17.20489144912949,
          51.99229785599338,
          22.67323239076939,
          14.452220615808269,
          47.71871495509405,
          44.81711416853252,
          -41.645247599391524,
          -5.566298439287484,
          -42.968285457896144,
          -7.311710275493727,
          -31.719988912475003,
          -16.00433856663459,
          21.65195160853394,
          -25.92802290383434,
          -21.818228212218997,
          -41.190363442562244,
          -21.865556627376105,
          17.501480361881672,
          7.891927341379916,
          -45.73137988730261,
          40.81353706105365,
          -34.7378268462484,
          -7.739630627762459,
          -8.378198447592048,
          30.457887185502994,
          -40.27751140030844,
          24.296870292773022,
          -38.46832387531059,
          12.094940476385643,
          -18.921276707477173,
          -46.54642521684238,
          -17.24521300337462,
          -26.64217185484474,
          47.89205467596988,
          -3.393419055708062,
          -9.742234924751251,
          33.08133856789445,
          31.60338685959809,
          8.912358145896375,
          40.25765163494415,
          21.57365265877259,
          -16.831990502084953,
          -29.70560229745469,
          16.463365033717103,
          22.214272107924256,
          -38.57783324014645,
          19.574560642623673,
          -34.41486868159721,
          40.414307160782705,
          26.669353376607432,
          45.78211543026698,
          22.616159457325892,
          20.3588181189425,
          46.34671163701168,
          40.843158485387626,
          -19.007641609191943,
          -14.361170214918847,
          -30.388521813417285,
          -39.390101995724265,
          26.095502852704826,
          -20.224991861085492,
          -26.227874094460375,
          -5.929949233068529,
          -3.3619709704798915,
          28.88613909905151,
          -41.510453624649884,
          -29.20701626414983,
          16.879535018220096,
          1.9903231959973164,
          13.841978342043573,
          38.30285329813472,
          -3.0658796548192306,
          21.735782042973412,
          -43.735617985093434,
          -23.425224711641164,
          18.89493384677389,
          17.965608118740413,
          -22.21855142917357,
          18.892996513712134,
          43.48798540291338,
          -5.739289032448429,
          36.34663797410414,
          -23.033158974996194,
          -10.87798246382442,
          -38.3959087699031
         ]
        },
        {
         "marker": {
          "color": "red",
          "size": 2
         },
         "mode": "markers",
         "name": "Observed Points",
         "type": "scatter3d",
         "x": [
          -7.212878591162168,
          -2.341251203378894,
          -9.965537265282691,
          -6.0236772984722275,
          -9.982415950540883,
          8.985069871543732,
          -4.1161854936314075,
          7.4707973765942555,
          -2.433586625992521,
          7.77414962018868,
          -4.966929041077906,
          -7.101253885079359,
          -4.474266159074299,
          0.4665067934481222,
          5.715688128876248,
          2.7116642947616256,
          9.698229952677949,
          3.856018255230694,
          2.309938761435644,
          8.797257559477195,
          8.302335713657747,
          -9.019654825429377,
          -1.614841857045823,
          -9.152587096534582,
          -2.2032125575564576,
          -6.875498071274928,
          -3.9063264108053053,
          3.8896804470689172,
          -5.902328119287466,
          -4.763785663162388,
          -8.751382916996098,
          -5.14777602911108,
          3.0244968497574725,
          1.051070012718828,
          -9.588881563146327,
          7.653243540293889,
          -7.450341640795399,
          -2.183731668860787,
          -2.4303928724695982,
          5.547748657263774,
          -8.53463855746779,
          4.086768085432153,
          -8.349488341613558,
          1.9388554133330143,
          -4.355075617220683,
          -9.975266301901716,
          -4.211220433634352,
          -5.864486484407663,
          9.117759885649377,
          -1.2595766408804536,
          -2.72401297545803,
          6.160135342453877,
          5.545282688674993,
          1.1383754262391594,
          7.329524407599315,
          3.6475453401134157,
          -3.891774053072785,
          -6.426228092125747,
          2.75690988025962,
          3.772548826760554,
          -8.153508528997651,
          3.2499265344178276,
          -7.623528108870374,
          7.3049158416216216,
          4.912856947784977,
          8.357384084807222,
          3.724563538539453,
          3.5211129582553795,
          8.555954797800403,
          7.5605203102259,
          -4.529699842981023,
          -3.637377576608345,
          -6.724755624398915,
          -8.513486995694429,
          4.521761209039951,
          -4.749473112091391,
          -5.755464923401876,
          -1.7694993156645609,
          -1.2549080347788095,
          5.2925874340962125,
          -9.042162485148197,
          -6.5876382353133405,
          2.6484111319674675,
          -0.11445518724451631,
          2.365885008799964,
          7.166416383040083,
          -1.4069445008251247,
          3.848638524440087,
          -9.41311153116379,
          -5.3912030616380235,
          3.3182156601746833,
          2.955166305893469,
          -4.98661187161378,
          3.1412517388026,
          7.959069686049144,
          -1.5804208596871412,
          6.5481103919634265,
          -5.344681736227268,
          -2.8022999808867732,
          -8.471984622593162
         ],
         "y": [
          8.759619241331201,
          1.586331477823684,
          3.54572270252428,
          3.8912756836501536,
          -9.570516587500467,
          -9.1065580937749,
          -0.3642781301112805,
          4.402194361160252,
          -4.82095754754587,
          2.3871796300870134,
          -9.680146493287554,
          -7.369930715301763,
          -8.575753705923637,
          -8.714637972298249,
          3.2764451047287686,
          6.46569975321362,
          5.01148092603637,
          3.931411146159201,
          -0.9747319136995198,
          7.3242715770807045,
          3.0543560024378618,
          4.530265277553639,
          -4.920891540583696,
          -2.053499752232357,
          7.043525122885626,
          -3.4249855610037017,
          5.272934873919372,
          -7.964506268106504,
          5.836176926029907,
          -9.992998964070608,
          -4.334488575817499,
          8.73323518179295,
          -6.2100388690568975,
          -3.6342272221422345,
          -7.869720715709699,
          -4.526806404157943,
          -4.861186422714074,
          1.7902771654147642,
          7.737659147559427,
          -2.808561008158774,
          -6.043186129694944,
          8.630298656122545,
          2.791178327571995,
          -5.9933659027942765,
          -1.4589862137375533,
          3.2990629266619145,
          8.108891647971415,
          -3.1973943280642425,
          -6.967447522770065,
          -0.9553585130579414,
          8.778299525389002,
          -7.19338144374942,
          8.769734162231245,
          2.204810147005782,
          6.1002959694757735,
          3.3592595820551256,
          -3.7312023672102423,
          -5.744618368259511,
          -3.211843675809954,
          3.5152797412148367,
          -8.102905951581917,
          3.2492797053453586,
          7.027718627546562,
          8.897279526745944,
          -8.949313623174543,
          9.951950062308644,
          9.933417646286262,
          -2.4674667233439624,
          5.669376480096663,
          0.405569342581245,
          6.408576057131722,
          8.257176681228785,
          2.3525630857729105,
          1.7733298274787792,
          4.8669680750507105,
          5.2237369937146205,
          -4.505494774510002,
          -0.8245265474572463,
          -0.874307965858435,
          -5.767980714295524,
          7.00358801091096,
          7.311749124168724,
          6.3747935838276,
          -4.3740086778010205,
          -9.874467019562461,
          -5.292286170656961,
          9.688428493063931,
          -5.074105792270225,
          3.299396707255122,
          5.307905965489532,
          -6.961444540995279,
          1.8977658927306784,
          -2.85492071104668,
          1.8673781969913499,
          6.926369726676583,
          -8.371847340127236,
          6.060860142870073,
          6.9024970614014585,
          1.3351744060944526,
          9.64014343062711
         ],
         "z": [
          -50.040483502508444,
          -14.68277902253218,
          -85.48191569791828,
          -1.9320898934123107,
          -34.35909054319326,
          71.60242278281859,
          1.8272305855551636,
          87.42749348408647,
          26.53064259070598,
          5.3175596592110566,
          -13.78596904908191,
          -69.18749968608074,
          -9.460473723171797,
          5.063602541145723,
          17.558587074708843,
          48.55878064565323,
          96.2908929345943,
          57.76167942287434,
          -15.172221979189242,
          56.83615835508956,
          87.69362594898209,
          -14.424697777592911,
          -27.70223433237141,
          -28.746005358373385,
          29.936407101182187,
          -10.99774562300955,
          -3.2413365440303092,
          51.26531642985577,
          28.31665587787281,
          -58.13778514395531,
          11.526220066230302,
          -27.557886988014946,
          90.71138650529815,
          30.68616189093961,
          -54.323444669017476,
          81.98341520624447,
          1.1388148251396757,
          21.468673853864395,
          -59.47537629444803,
          27.862464417504373,
          -50.67057879885031,
          23.794062357428867,
          -93.68632780188392,
          68.0996572052758,
          -15.441770704447165,
          -41.920495068234935,
          -13.698969769115044,
          -41.20879105996124,
          5.490258270736263,
          -23.242124151399647,
          -14.395783563640357,
          41.142120981595184,
          1.637872177005601,
          -25.739890744736698,
          39.29039808493713,
          79.06585316360616,
          5.473483812267091,
          -35.94041507576355,
          30.375055948773863,
          -16.853685805181083,
          -90.84517638493978,
          76.00869872039902,
          -33.574315016265935,
          81.84155259535113,
          70.6069953277129,
          59.12698255479035,
          67.42505088489006,
          102.39208133643623,
          30.48572812641083,
          69.8256290871372,
          35.07679917894656,
          -12.005216880360946,
          -24.09483931380285,
          -28.967506014714345,
          61.76647408784496,
          -32.830251786071535,
          13.305285813357628,
          1.6965941264684297,
          -16.388369317620054,
          -8.536227324761317,
          -62.06041473879705,
          3.2128746867268276,
          116.62795408709967,
          12.57677606495781,
          4.4769994546174186,
          104.66599526343337,
          16.50590240553779,
          58.70677959117848,
          -66.92357008067383,
          -77.26283133689867,
          41.63546804513703,
          78.83314263976388,
          22.26253427983355,
          -21.43532474785873,
          29.78341881187456,
          1.990893264015818,
          77.69875029944987,
          -11.440812402742342,
          31.206707237528587,
          -32.78737386455893
         ]
        },
        {
         "marker": {
          "color": "blue",
          "size": 2
         },
         "mode": "markers",
         "name": "Predicted Points",
         "type": "scatter3d",
         "x": [
          -7.212878591162168,
          -2.341251203378894,
          -9.965537265282691,
          -6.0236772984722275,
          -9.982415950540883,
          8.985069871543732,
          -4.1161854936314075,
          7.4707973765942555,
          -2.433586625992521,
          7.77414962018868,
          -4.966929041077906,
          -7.101253885079359,
          -4.474266159074299,
          0.4665067934481222,
          5.715688128876248,
          2.7116642947616256,
          9.698229952677949,
          3.856018255230694,
          2.309938761435644,
          8.797257559477195,
          8.302335713657747,
          -9.019654825429377,
          -1.614841857045823,
          -9.152587096534582,
          -2.2032125575564576,
          -6.875498071274928,
          -3.9063264108053053,
          3.8896804470689172,
          -5.902328119287466,
          -4.763785663162388,
          -8.751382916996098,
          -5.14777602911108,
          3.0244968497574725,
          1.051070012718828,
          -9.588881563146327,
          7.653243540293889,
          -7.450341640795399,
          -2.183731668860787,
          -2.4303928724695982,
          5.547748657263774,
          -8.53463855746779,
          4.086768085432153,
          -8.349488341613558,
          1.9388554133330143,
          -4.355075617220683,
          -9.975266301901716,
          -4.211220433634352,
          -5.864486484407663,
          9.117759885649377,
          -1.2595766408804536,
          -2.72401297545803,
          6.160135342453877,
          5.545282688674993,
          1.1383754262391594,
          7.329524407599315,
          3.6475453401134157,
          -3.891774053072785,
          -6.426228092125747,
          2.75690988025962,
          3.772548826760554,
          -8.153508528997651,
          3.2499265344178276,
          -7.623528108870374,
          7.3049158416216216,
          4.912856947784977,
          8.357384084807222,
          3.724563538539453,
          3.5211129582553795,
          8.555954797800403,
          7.5605203102259,
          -4.529699842981023,
          -3.637377576608345,
          -6.724755624398915,
          -8.513486995694429,
          4.521761209039951,
          -4.749473112091391,
          -5.755464923401876,
          -1.7694993156645609,
          -1.2549080347788095,
          5.2925874340962125,
          -9.042162485148197,
          -6.5876382353133405,
          2.6484111319674675,
          -0.11445518724451631,
          2.365885008799964,
          7.166416383040083,
          -1.4069445008251247,
          3.848638524440087,
          -9.41311153116379,
          -5.3912030616380235,
          3.3182156601746833,
          2.955166305893469,
          -4.98661187161378,
          3.1412517388026,
          7.959069686049144,
          -1.5804208596871412,
          6.5481103919634265,
          -5.344681736227268,
          -2.8022999808867732,
          -8.471984622593162
         ],
         "y": [
          8.759619241331201,
          1.586331477823684,
          3.54572270252428,
          3.8912756836501536,
          -9.570516587500467,
          -9.1065580937749,
          -0.3642781301112805,
          4.402194361160252,
          -4.82095754754587,
          2.3871796300870134,
          -9.680146493287554,
          -7.369930715301763,
          -8.575753705923637,
          -8.714637972298249,
          3.2764451047287686,
          6.46569975321362,
          5.01148092603637,
          3.931411146159201,
          -0.9747319136995198,
          7.3242715770807045,
          3.0543560024378618,
          4.530265277553639,
          -4.920891540583696,
          -2.053499752232357,
          7.043525122885626,
          -3.4249855610037017,
          5.272934873919372,
          -7.964506268106504,
          5.836176926029907,
          -9.992998964070608,
          -4.334488575817499,
          8.73323518179295,
          -6.2100388690568975,
          -3.6342272221422345,
          -7.869720715709699,
          -4.526806404157943,
          -4.861186422714074,
          1.7902771654147642,
          7.737659147559427,
          -2.808561008158774,
          -6.043186129694944,
          8.630298656122545,
          2.791178327571995,
          -5.9933659027942765,
          -1.4589862137375533,
          3.2990629266619145,
          8.108891647971415,
          -3.1973943280642425,
          -6.967447522770065,
          -0.9553585130579414,
          8.778299525389002,
          -7.19338144374942,
          8.769734162231245,
          2.204810147005782,
          6.1002959694757735,
          3.3592595820551256,
          -3.7312023672102423,
          -5.744618368259511,
          -3.211843675809954,
          3.5152797412148367,
          -8.102905951581917,
          3.2492797053453586,
          7.027718627546562,
          8.897279526745944,
          -8.949313623174543,
          9.951950062308644,
          9.933417646286262,
          -2.4674667233439624,
          5.669376480096663,
          0.405569342581245,
          6.408576057131722,
          8.257176681228785,
          2.3525630857729105,
          1.7733298274787792,
          4.8669680750507105,
          5.2237369937146205,
          -4.505494774510002,
          -0.8245265474572463,
          -0.874307965858435,
          -5.767980714295524,
          7.00358801091096,
          7.311749124168724,
          6.3747935838276,
          -4.3740086778010205,
          -9.874467019562461,
          -5.292286170656961,
          9.688428493063931,
          -5.074105792270225,
          3.299396707255122,
          5.307905965489532,
          -6.961444540995279,
          1.8977658927306784,
          -2.85492071104668,
          1.8673781969913499,
          6.926369726676583,
          -8.371847340127236,
          6.060860142870073,
          6.9024970614014585,
          1.3351744060944526,
          9.64014343062711
         ],
         "z": [
          -29.43647253984447,
          0.29319931609040495,
          -46.78199713359338,
          -22.363270525583733,
          -47.660818497623964,
          69.76671016489578,
          -10.807998327948134,
          61.1915729158022,
          -0.6565854015691528,
          62.95022434031246,
          -16.62370073710837,
          -29.697814496011173,
          -13.509140274898613,
          17.063804861887462,
          50.26178098832543,
          31.856521042693096,
          75.01434143748584,
          38.78993516867823,
          28.93075765482345,
          69.57427218276189,
          66.2588452125353,
          -40.86928874678901,
          4.405173660767263,
          -42.08076825252394,
          1.4697750099743594,
          -28.067588669444188,
          -9.176258798537315,
          38.295983670193436,
          -21.49735202022693,
          -15.384805356663172,
          -39.73216015390365,
          -16.65598161085306,
          33.04446882797251,
          20.98192089949906,
          -45.124608327842935,
          61.79368608371688,
          -31.710399446727873,
          1.2802142613512295,
          0.10461179652847186,
          48.86306826180872,
          -38.491488065441175,
          40.49558256308406,
          -36.82393339653591,
          26.337632377143855,
          -12.351248711004686,
          -46.85677763538884,
          -10.895986773027847,
          -21.796448904606446,
          70.71428892958593,
          6.83821942719051,
          -1.6513267142351253,
          52.39459536875681,
          49.531358615705074,
          21.867023985200987,
          60.41740895922011,
          37.465803945067925,
          -9.61776803901892,
          -25.42375650754335,
          31.565232749636614,
          38.24872989290924,
          -36.25406669235487,
          34.99823087441159,
          -32.08045395272005,
          60.43022000491615,
          44.57084175681899,
          67.00678636956671,
          38.330633520164795,
          36.339249479241055,
          67.98301662394279,
          61.51096645344121,
          -12.96761230271558,
          -7.335405280911733,
          -26.793469248849892,
          -37.899101940280346,
          42.96581515719252,
          -14.397859131359937,
          -21.198881848324508,
          3.6897532522091545,
          6.871901003838142,
          47.109019240150175,
          -40.862582169205936,
          -25.651996839717224,
          31.459645770049878,
          13.72417349395237,
          28.751621464783355,
          58.7352546887863,
          6.554461745407776,
          38.212594789985246,
          -43.37727477005048,
          -18.36490744443636,
          34.81809398642527,
          33.09400870454279,
          -16.342584278762363,
          34.243999152847486,
          64.36277813608733,
          4.41448823139428,
          55.578482289279435,
          -17.982820862982283,
          -2.5753112704596433,
          -37.17778407251154
         ]
        }
       ],
       "layout": {
        "scene": {
         "camera": {
          "eye": {
           "x": -1,
           "y": -2,
           "z": 0.5
          }
         },
         "xaxis": {
          "title": {
           "text": "Feature 1"
          }
         },
         "yaxis": {
          "title": {
           "text": "Feature 2"
          }
         },
         "zaxis": {
          "title": {
           "text": "Response"
          }
         }
        },
        "template": {
         "data": {
          "bar": [
           {
            "error_x": {
             "color": "rgb(36,36,36)"
            },
            "error_y": {
             "color": "rgb(36,36,36)"
            },
            "marker": {
             "line": {
              "color": "white",
              "width": 0.5
             },
             "pattern": {
              "fillmode": "overlay",
              "size": 10,
              "solidity": 0.2
             }
            },
            "type": "bar"
           }
          ],
          "barpolar": [
           {
            "marker": {
             "line": {
              "color": "white",
              "width": 0.5
             },
             "pattern": {
              "fillmode": "overlay",
              "size": 10,
              "solidity": 0.2
             }
            },
            "type": "barpolar"
           }
          ],
          "carpet": [
           {
            "aaxis": {
             "endlinecolor": "rgb(36,36,36)",
             "gridcolor": "white",
             "linecolor": "white",
             "minorgridcolor": "white",
             "startlinecolor": "rgb(36,36,36)"
            },
            "baxis": {
             "endlinecolor": "rgb(36,36,36)",
             "gridcolor": "white",
             "linecolor": "white",
             "minorgridcolor": "white",
             "startlinecolor": "rgb(36,36,36)"
            },
            "type": "carpet"
           }
          ],
          "choropleth": [
           {
            "colorbar": {
             "outlinewidth": 1,
             "tickcolor": "rgb(36,36,36)",
             "ticks": "outside"
            },
            "type": "choropleth"
           }
          ],
          "contour": [
           {
            "colorbar": {
             "outlinewidth": 1,
             "tickcolor": "rgb(36,36,36)",
             "ticks": "outside"
            },
            "colorscale": [
             [
              0,
              "#440154"
             ],
             [
              0.1111111111111111,
              "#482878"
             ],
             [
              0.2222222222222222,
              "#3e4989"
             ],
             [
              0.3333333333333333,
              "#31688e"
             ],
             [
              0.4444444444444444,
              "#26828e"
             ],
             [
              0.5555555555555556,
              "#1f9e89"
             ],
             [
              0.6666666666666666,
              "#35b779"
             ],
             [
              0.7777777777777778,
              "#6ece58"
             ],
             [
              0.8888888888888888,
              "#b5de2b"
             ],
             [
              1,
              "#fde725"
             ]
            ],
            "type": "contour"
           }
          ],
          "contourcarpet": [
           {
            "colorbar": {
             "outlinewidth": 1,
             "tickcolor": "rgb(36,36,36)",
             "ticks": "outside"
            },
            "type": "contourcarpet"
           }
          ],
          "heatmap": [
           {
            "colorbar": {
             "outlinewidth": 1,
             "tickcolor": "rgb(36,36,36)",
             "ticks": "outside"
            },
            "colorscale": [
             [
              0,
              "#440154"
             ],
             [
              0.1111111111111111,
              "#482878"
             ],
             [
              0.2222222222222222,
              "#3e4989"
             ],
             [
              0.3333333333333333,
              "#31688e"
             ],
             [
              0.4444444444444444,
              "#26828e"
             ],
             [
              0.5555555555555556,
              "#1f9e89"
             ],
             [
              0.6666666666666666,
              "#35b779"
             ],
             [
              0.7777777777777778,
              "#6ece58"
             ],
             [
              0.8888888888888888,
              "#b5de2b"
             ],
             [
              1,
              "#fde725"
             ]
            ],
            "type": "heatmap"
           }
          ],
          "heatmapgl": [
           {
            "colorbar": {
             "outlinewidth": 1,
             "tickcolor": "rgb(36,36,36)",
             "ticks": "outside"
            },
            "colorscale": [
             [
              0,
              "#440154"
             ],
             [
              0.1111111111111111,
              "#482878"
             ],
             [
              0.2222222222222222,
              "#3e4989"
             ],
             [
              0.3333333333333333,
              "#31688e"
             ],
             [
              0.4444444444444444,
              "#26828e"
             ],
             [
              0.5555555555555556,
              "#1f9e89"
             ],
             [
              0.6666666666666666,
              "#35b779"
             ],
             [
              0.7777777777777778,
              "#6ece58"
             ],
             [
              0.8888888888888888,
              "#b5de2b"
             ],
             [
              1,
              "#fde725"
             ]
            ],
            "type": "heatmapgl"
           }
          ],
          "histogram": [
           {
            "marker": {
             "line": {
              "color": "white",
              "width": 0.6
             }
            },
            "type": "histogram"
           }
          ],
          "histogram2d": [
           {
            "colorbar": {
             "outlinewidth": 1,
             "tickcolor": "rgb(36,36,36)",
             "ticks": "outside"
            },
            "colorscale": [
             [
              0,
              "#440154"
             ],
             [
              0.1111111111111111,
              "#482878"
             ],
             [
              0.2222222222222222,
              "#3e4989"
             ],
             [
              0.3333333333333333,
              "#31688e"
             ],
             [
              0.4444444444444444,
              "#26828e"
             ],
             [
              0.5555555555555556,
              "#1f9e89"
             ],
             [
              0.6666666666666666,
              "#35b779"
             ],
             [
              0.7777777777777778,
              "#6ece58"
             ],
             [
              0.8888888888888888,
              "#b5de2b"
             ],
             [
              1,
              "#fde725"
             ]
            ],
            "type": "histogram2d"
           }
          ],
          "histogram2dcontour": [
           {
            "colorbar": {
             "outlinewidth": 1,
             "tickcolor": "rgb(36,36,36)",
             "ticks": "outside"
            },
            "colorscale": [
             [
              0,
              "#440154"
             ],
             [
              0.1111111111111111,
              "#482878"
             ],
             [
              0.2222222222222222,
              "#3e4989"
             ],
             [
              0.3333333333333333,
              "#31688e"
             ],
             [
              0.4444444444444444,
              "#26828e"
             ],
             [
              0.5555555555555556,
              "#1f9e89"
             ],
             [
              0.6666666666666666,
              "#35b779"
             ],
             [
              0.7777777777777778,
              "#6ece58"
             ],
             [
              0.8888888888888888,
              "#b5de2b"
             ],
             [
              1,
              "#fde725"
             ]
            ],
            "type": "histogram2dcontour"
           }
          ],
          "mesh3d": [
           {
            "colorbar": {
             "outlinewidth": 1,
             "tickcolor": "rgb(36,36,36)",
             "ticks": "outside"
            },
            "type": "mesh3d"
           }
          ],
          "parcoords": [
           {
            "line": {
             "colorbar": {
              "outlinewidth": 1,
              "tickcolor": "rgb(36,36,36)",
              "ticks": "outside"
             }
            },
            "type": "parcoords"
           }
          ],
          "pie": [
           {
            "automargin": true,
            "type": "pie"
           }
          ],
          "scatter": [
           {
            "marker": {
             "colorbar": {
              "outlinewidth": 1,
              "tickcolor": "rgb(36,36,36)",
              "ticks": "outside"
             }
            },
            "type": "scatter"
           }
          ],
          "scatter3d": [
           {
            "line": {
             "colorbar": {
              "outlinewidth": 1,
              "tickcolor": "rgb(36,36,36)",
              "ticks": "outside"
             }
            },
            "marker": {
             "colorbar": {
              "outlinewidth": 1,
              "tickcolor": "rgb(36,36,36)",
              "ticks": "outside"
             }
            },
            "type": "scatter3d"
           }
          ],
          "scattercarpet": [
           {
            "marker": {
             "colorbar": {
              "outlinewidth": 1,
              "tickcolor": "rgb(36,36,36)",
              "ticks": "outside"
             }
            },
            "type": "scattercarpet"
           }
          ],
          "scattergeo": [
           {
            "marker": {
             "colorbar": {
              "outlinewidth": 1,
              "tickcolor": "rgb(36,36,36)",
              "ticks": "outside"
             }
            },
            "type": "scattergeo"
           }
          ],
          "scattergl": [
           {
            "marker": {
             "colorbar": {
              "outlinewidth": 1,
              "tickcolor": "rgb(36,36,36)",
              "ticks": "outside"
             }
            },
            "type": "scattergl"
           }
          ],
          "scattermapbox": [
           {
            "marker": {
             "colorbar": {
              "outlinewidth": 1,
              "tickcolor": "rgb(36,36,36)",
              "ticks": "outside"
             }
            },
            "type": "scattermapbox"
           }
          ],
          "scatterpolar": [
           {
            "marker": {
             "colorbar": {
              "outlinewidth": 1,
              "tickcolor": "rgb(36,36,36)",
              "ticks": "outside"
             }
            },
            "type": "scatterpolar"
           }
          ],
          "scatterpolargl": [
           {
            "marker": {
             "colorbar": {
              "outlinewidth": 1,
              "tickcolor": "rgb(36,36,36)",
              "ticks": "outside"
             }
            },
            "type": "scatterpolargl"
           }
          ],
          "scatterternary": [
           {
            "marker": {
             "colorbar": {
              "outlinewidth": 1,
              "tickcolor": "rgb(36,36,36)",
              "ticks": "outside"
             }
            },
            "type": "scatterternary"
           }
          ],
          "surface": [
           {
            "colorbar": {
             "outlinewidth": 1,
             "tickcolor": "rgb(36,36,36)",
             "ticks": "outside"
            },
            "colorscale": [
             [
              0,
              "#440154"
             ],
             [
              0.1111111111111111,
              "#482878"
             ],
             [
              0.2222222222222222,
              "#3e4989"
             ],
             [
              0.3333333333333333,
              "#31688e"
             ],
             [
              0.4444444444444444,
              "#26828e"
             ],
             [
              0.5555555555555556,
              "#1f9e89"
             ],
             [
              0.6666666666666666,
              "#35b779"
             ],
             [
              0.7777777777777778,
              "#6ece58"
             ],
             [
              0.8888888888888888,
              "#b5de2b"
             ],
             [
              1,
              "#fde725"
             ]
            ],
            "type": "surface"
           }
          ],
          "table": [
           {
            "cells": {
             "fill": {
              "color": "rgb(237,237,237)"
             },
             "line": {
              "color": "white"
             }
            },
            "header": {
             "fill": {
              "color": "rgb(217,217,217)"
             },
             "line": {
              "color": "white"
             }
            },
            "type": "table"
           }
          ]
         },
         "layout": {
          "annotationdefaults": {
           "arrowhead": 0,
           "arrowwidth": 1
          },
          "autotypenumbers": "strict",
          "coloraxis": {
           "colorbar": {
            "outlinewidth": 1,
            "tickcolor": "rgb(36,36,36)",
            "ticks": "outside"
           }
          },
          "colorscale": {
           "diverging": [
            [
             0,
             "rgb(103,0,31)"
            ],
            [
             0.1,
             "rgb(178,24,43)"
            ],
            [
             0.2,
             "rgb(214,96,77)"
            ],
            [
             0.3,
             "rgb(244,165,130)"
            ],
            [
             0.4,
             "rgb(253,219,199)"
            ],
            [
             0.5,
             "rgb(247,247,247)"
            ],
            [
             0.6,
             "rgb(209,229,240)"
            ],
            [
             0.7,
             "rgb(146,197,222)"
            ],
            [
             0.8,
             "rgb(67,147,195)"
            ],
            [
             0.9,
             "rgb(33,102,172)"
            ],
            [
             1,
             "rgb(5,48,97)"
            ]
           ],
           "sequential": [
            [
             0,
             "#440154"
            ],
            [
             0.1111111111111111,
             "#482878"
            ],
            [
             0.2222222222222222,
             "#3e4989"
            ],
            [
             0.3333333333333333,
             "#31688e"
            ],
            [
             0.4444444444444444,
             "#26828e"
            ],
            [
             0.5555555555555556,
             "#1f9e89"
            ],
            [
             0.6666666666666666,
             "#35b779"
            ],
            [
             0.7777777777777778,
             "#6ece58"
            ],
            [
             0.8888888888888888,
             "#b5de2b"
            ],
            [
             1,
             "#fde725"
            ]
           ],
           "sequentialminus": [
            [
             0,
             "#440154"
            ],
            [
             0.1111111111111111,
             "#482878"
            ],
            [
             0.2222222222222222,
             "#3e4989"
            ],
            [
             0.3333333333333333,
             "#31688e"
            ],
            [
             0.4444444444444444,
             "#26828e"
            ],
            [
             0.5555555555555556,
             "#1f9e89"
            ],
            [
             0.6666666666666666,
             "#35b779"
            ],
            [
             0.7777777777777778,
             "#6ece58"
            ],
            [
             0.8888888888888888,
             "#b5de2b"
            ],
            [
             1,
             "#fde725"
            ]
           ]
          },
          "colorway": [
           "#1F77B4",
           "#FF7F0E",
           "#2CA02C",
           "#D62728",
           "#9467BD",
           "#8C564B",
           "#E377C2",
           "#7F7F7F",
           "#BCBD22",
           "#17BECF"
          ],
          "font": {
           "color": "rgb(36,36,36)"
          },
          "geo": {
           "bgcolor": "white",
           "lakecolor": "white",
           "landcolor": "white",
           "showlakes": true,
           "showland": true,
           "subunitcolor": "white"
          },
          "hoverlabel": {
           "align": "left"
          },
          "hovermode": "closest",
          "mapbox": {
           "style": "light"
          },
          "margin": {
           "b": 0,
           "l": 20,
           "r": 20,
           "t": 40
          },
          "paper_bgcolor": "white",
          "plot_bgcolor": "white",
          "polar": {
           "angularaxis": {
            "gridcolor": "rgb(232,232,232)",
            "linecolor": "rgb(36,36,36)",
            "showgrid": false,
            "showline": true,
            "ticks": "outside"
           },
           "bgcolor": "white",
           "radialaxis": {
            "gridcolor": "rgb(232,232,232)",
            "linecolor": "rgb(36,36,36)",
            "showgrid": false,
            "showline": true,
            "ticks": "outside"
           }
          },
          "scene": {
           "xaxis": {
            "backgroundcolor": "white",
            "gridcolor": "rgb(232,232,232)",
            "gridwidth": 2,
            "linecolor": "rgb(36,36,36)",
            "showbackground": true,
            "showgrid": false,
            "showline": true,
            "ticks": "outside",
            "zeroline": false,
            "zerolinecolor": "rgb(36,36,36)"
           },
           "yaxis": {
            "backgroundcolor": "white",
            "gridcolor": "rgb(232,232,232)",
            "gridwidth": 2,
            "linecolor": "rgb(36,36,36)",
            "showbackground": true,
            "showgrid": false,
            "showline": true,
            "ticks": "outside",
            "zeroline": false,
            "zerolinecolor": "rgb(36,36,36)"
           },
           "zaxis": {
            "backgroundcolor": "white",
            "gridcolor": "rgb(232,232,232)",
            "gridwidth": 2,
            "linecolor": "rgb(36,36,36)",
            "showbackground": true,
            "showgrid": false,
            "showline": true,
            "ticks": "outside",
            "zeroline": false,
            "zerolinecolor": "rgb(36,36,36)"
           }
          },
          "shapedefaults": {
           "fillcolor": "black",
           "line": {
            "width": 0
           },
           "opacity": 0.3
          },
          "ternary": {
           "aaxis": {
            "gridcolor": "rgb(232,232,232)",
            "linecolor": "rgb(36,36,36)",
            "showgrid": false,
            "showline": true,
            "ticks": "outside"
           },
           "baxis": {
            "gridcolor": "rgb(232,232,232)",
            "linecolor": "rgb(36,36,36)",
            "showgrid": false,
            "showline": true,
            "ticks": "outside"
           },
           "bgcolor": "white",
           "caxis": {
            "gridcolor": "rgb(232,232,232)",
            "linecolor": "rgb(36,36,36)",
            "showgrid": false,
            "showline": true,
            "ticks": "outside"
           }
          },
          "title": {
           "x": 0.05
          },
          "xaxis": {
           "automargin": true,
           "gridcolor": "rgb(232,232,232)",
           "linecolor": "rgb(36,36,36)",
           "showgrid": false,
           "showline": true,
           "ticks": "outside",
           "title": {
            "standoff": 15
           },
           "zeroline": false,
           "zerolinecolor": "rgb(36,36,36)"
          },
          "yaxis": {
           "automargin": true,
           "gridcolor": "rgb(232,232,232)",
           "linecolor": "rgb(36,36,36)",
           "showgrid": false,
           "showline": true,
           "ticks": "outside",
           "title": {
            "standoff": 15
           },
           "zeroline": false,
           "zerolinecolor": "rgb(36,36,36)"
          }
         }
        },
        "title": {
         "text": "$\\text{(4) Bivariate Linear Regression}$"
        }
       }
      },
      "text/html": [
       "<div>                            <div id=\"ffd1ceff-6b1e-467f-97c7-63021751184d\" class=\"plotly-graph-div\" style=\"height:525px; width:100%;\"></div>            <script type=\"text/javascript\">                require([\"plotly\"], function(Plotly) {                    window.PLOTLYENV=window.PLOTLYENV || {};                                    if (document.getElementById(\"ffd1ceff-6b1e-467f-97c7-63021751184d\")) {                    Plotly.newPlot(                        \"ffd1ceff-6b1e-467f-97c7-63021751184d\",                        [{\"opacity\":0.5,\"showscale\":false,\"x\":[[-10.0,-7.777777777777778,-5.555555555555555,-3.333333333333333,-1.1111111111111107,1.1111111111111107,3.333333333333334,5.555555555555557,7.777777777777779,10.0],[-10.0,-7.777777777777778,-5.555555555555555,-3.333333333333333,-1.1111111111111107,1.1111111111111107,3.333333333333334,5.555555555555557,7.777777777777779,10.0],[-10.0,-7.777777777777778,-5.555555555555555,-3.333333333333333,-1.1111111111111107,1.1111111111111107,3.333333333333334,5.555555555555557,7.777777777777779,10.0],[-10.0,-7.777777777777778,-5.555555555555555,-3.333333333333333,-1.1111111111111107,1.1111111111111107,3.333333333333334,5.555555555555557,7.777777777777779,10.0],[-10.0,-7.777777777777778,-5.555555555555555,-3.333333333333333,-1.1111111111111107,1.1111111111111107,3.333333333333334,5.555555555555557,7.777777777777779,10.0],[-10.0,-7.777777777777778,-5.555555555555555,-3.333333333333333,-1.1111111111111107,1.1111111111111107,3.333333333333334,5.555555555555557,7.777777777777779,10.0],[-10.0,-7.777777777777778,-5.555555555555555,-3.333333333333333,-1.1111111111111107,1.1111111111111107,3.333333333333334,5.555555555555557,7.777777777777779,10.0],[-10.0,-7.777777777777778,-5.555555555555555,-3.333333333333333,-1.1111111111111107,1.1111111111111107,3.333333333333334,5.555555555555557,7.777777777777779,10.0],[-10.0,-7.777777777777778,-5.555555555555555,-3.333333333333333,-1.1111111111111107,1.1111111111111107,3.333333333333334,5.555555555555557,7.777777777777779,10.0],[-10.0,-7.777777777777778,-5.555555555555555,-3.333333333333333,-1.1111111111111107,1.1111111111111107,3.333333333333334,5.555555555555557,7.777777777777779,10.0]],\"y\":[[-10.0,-10.0,-10.0,-10.0,-10.0,-10.0,-10.0,-10.0,-10.0,-10.0],[-7.777777777777778,-7.777777777777778,-7.777777777777778,-7.777777777777778,-7.777777777777778,-7.777777777777778,-7.777777777777778,-7.777777777777778,-7.777777777777778,-7.777777777777778],[-5.555555555555555,-5.555555555555555,-5.555555555555555,-5.555555555555555,-5.555555555555555,-5.555555555555555,-5.555555555555555,-5.555555555555555,-5.555555555555555,-5.555555555555555],[-3.333333333333333,-3.333333333333333,-3.333333333333333,-3.333333333333333,-3.333333333333333,-3.333333333333333,-3.333333333333333,-3.333333333333333,-3.333333333333333,-3.333333333333333],[-1.1111111111111107,-1.1111111111111107,-1.1111111111111107,-1.1111111111111107,-1.1111111111111107,-1.1111111111111107,-1.1111111111111107,-1.1111111111111107,-1.1111111111111107,-1.1111111111111107],[1.1111111111111107,1.1111111111111107,1.1111111111111107,1.1111111111111107,1.1111111111111107,1.1111111111111107,1.1111111111111107,1.1111111111111107,1.1111111111111107,1.1111111111111107],[3.333333333333334,3.333333333333334,3.333333333333334,3.333333333333334,3.333333333333334,3.333333333333334,3.333333333333334,3.333333333333334,3.333333333333334,3.333333333333334],[5.555555555555557,5.555555555555557,5.555555555555557,5.555555555555557,5.555555555555557,5.555555555555557,5.555555555555557,5.555555555555557,5.555555555555557,5.555555555555557],[7.777777777777779,7.777777777777779,7.777777777777779,7.777777777777779,7.777777777777779,7.777777777777779,7.777777777777779,7.777777777777779,7.777777777777779,7.777777777777779],[10.0,10.0,10.0,10.0,10.0,10.0,10.0,10.0,10.0,10.0]],\"z\":[[-48.0,-36.888888888888886,-25.77777777777778,-14.666666666666664,-3.5555555555555536,7.555555555555554,18.66666666666667,29.777777777777786,40.88888888888889,52.0],[-47.77777777777778,-36.666666666666664,-25.555555555555557,-14.444444444444443,-3.3333333333333313,7.777777777777776,18.888888888888893,30.000000000000007,41.111111111111114,52.22222222222222],[-47.55555555555556,-36.44444444444444,-25.333333333333336,-14.222222222222221,-3.111111111111109,7.999999999999998,19.111111111111114,30.22222222222223,41.333333333333336,52.44444444444444],[-47.333333333333336,-36.22222222222222,-25.11111111111111,-13.999999999999996,-2.8888888888888866,8.222222222222221,19.33333333333334,30.444444444444454,41.55555555555556,52.666666666666664],[-47.111111111111114,-36.0,-24.88888888888889,-13.777777777777775,-2.6666666666666643,8.444444444444443,19.55555555555556,30.666666666666675,41.77777777777778,52.888888888888886],[-46.888888888888886,-35.77777777777777,-24.666666666666668,-13.555555555555554,-2.444444444444443,8.666666666666664,19.777777777777782,30.888888888888896,42.00000000000001,53.111111111111114],[-46.666666666666664,-35.55555555555555,-24.444444444444446,-13.333333333333332,-2.2222222222222205,8.888888888888886,20.000000000000004,31.111111111111118,42.22222222222223,53.333333333333336],[-46.44444444444444,-35.33333333333333,-24.22222222222222,-13.111111111111107,-1.9999999999999982,9.111111111111109,20.22222222222223,31.333333333333343,42.44444444444445,53.55555555555556],[-46.22222222222222,-35.11111111111111,-24.0,-12.888888888888886,-1.777777777777776,9.333333333333332,20.44444444444445,31.555555555555564,42.66666666666667,53.77777777777778],[-46.0,-34.888888888888886,-23.77777777777778,-12.666666666666664,-1.5555555555555536,9.555555555555554,20.66666666666667,31.777777777777786,42.88888888888889,54.0]],\"type\":\"surface\"},{\"marker\":{\"color\":\"black\",\"size\":2},\"mode\":\"markers\",\"name\":\"Real (noise-less) Points\",\"x\":[-7.212878591162168,-2.341251203378894,-9.965537265282691,-6.0236772984722275,-9.982415950540883,8.985069871543732,-4.1161854936314075,7.4707973765942555,-2.433586625992521,7.77414962018868,-4.966929041077906,-7.101253885079359,-4.474266159074299,0.4665067934481222,5.715688128876248,2.7116642947616256,9.698229952677949,3.856018255230694,2.309938761435644,8.797257559477195,8.302335713657747,-9.019654825429377,-1.614841857045823,-9.152587096534582,-2.2032125575564576,-6.875498071274928,-3.9063264108053053,3.8896804470689172,-5.902328119287466,-4.763785663162388,-8.751382916996098,-5.14777602911108,3.0244968497574725,1.051070012718828,-9.588881563146327,7.653243540293889,-7.450341640795399,-2.183731668860787,-2.4303928724695982,5.547748657263774,-8.53463855746779,4.086768085432153,-8.349488341613558,1.9388554133330143,-4.355075617220683,-9.975266301901716,-4.211220433634352,-5.864486484407663,9.117759885649377,-1.2595766408804536,-2.72401297545803,6.160135342453877,5.545282688674993,1.1383754262391594,7.329524407599315,3.6475453401134157,-3.891774053072785,-6.426228092125747,2.75690988025962,3.772548826760554,-8.153508528997651,3.2499265344178276,-7.623528108870374,7.3049158416216216,4.912856947784977,8.357384084807222,3.724563538539453,3.5211129582553795,8.555954797800403,7.5605203102259,-4.529699842981023,-3.637377576608345,-6.724755624398915,-8.513486995694429,4.521761209039951,-4.749473112091391,-5.755464923401876,-1.7694993156645609,-1.2549080347788095,5.2925874340962125,-9.042162485148197,-6.5876382353133405,2.6484111319674675,-0.11445518724451631,2.365885008799964,7.166416383040083,-1.4069445008251247,3.848638524440087,-9.41311153116379,-5.3912030616380235,3.3182156601746833,2.955166305893469,-4.98661187161378,3.1412517388026,7.959069686049144,-1.5804208596871412,6.5481103919634265,-5.344681736227268,-2.8022999808867732,-8.471984622593162],\"y\":[8.759619241331201,1.586331477823684,3.54572270252428,3.8912756836501536,-9.570516587500467,-9.1065580937749,-0.3642781301112805,4.402194361160252,-4.82095754754587,2.3871796300870134,-9.680146493287554,-7.369930715301763,-8.575753705923637,-8.714637972298249,3.2764451047287686,6.46569975321362,5.01148092603637,3.931411146159201,-0.9747319136995198,7.3242715770807045,3.0543560024378618,4.530265277553639,-4.920891540583696,-2.053499752232357,7.043525122885626,-3.4249855610037017,5.272934873919372,-7.964506268106504,5.836176926029907,-9.992998964070608,-4.334488575817499,8.73323518179295,-6.2100388690568975,-3.6342272221422345,-7.869720715709699,-4.526806404157943,-4.861186422714074,1.7902771654147642,7.737659147559427,-2.808561008158774,-6.043186129694944,8.630298656122545,2.791178327571995,-5.9933659027942765,-1.4589862137375533,3.2990629266619145,8.108891647971415,-3.1973943280642425,-6.967447522770065,-0.9553585130579414,8.778299525389002,-7.19338144374942,8.769734162231245,2.204810147005782,6.1002959694757735,3.3592595820551256,-3.7312023672102423,-5.744618368259511,-3.211843675809954,3.5152797412148367,-8.102905951581917,3.2492797053453586,7.027718627546562,8.897279526745944,-8.949313623174543,9.951950062308644,9.933417646286262,-2.4674667233439624,5.669376480096663,0.405569342581245,6.408576057131722,8.257176681228785,2.3525630857729105,1.7733298274787792,4.8669680750507105,5.2237369937146205,-4.505494774510002,-0.8245265474572463,-0.874307965858435,-5.767980714295524,7.00358801091096,7.311749124168724,6.3747935838276,-4.3740086778010205,-9.874467019562461,-5.292286170656961,9.688428493063931,-5.074105792270225,3.299396707255122,5.307905965489532,-6.961444540995279,1.8977658927306784,-2.85492071104668,1.8673781969913499,6.926369726676583,-8.371847340127236,6.060860142870073,6.9024970614014585,1.3351744060944526,9.64014343062711],\"z\":[-32.188431031677716,-8.547622869112102,-46.47311405616103,-26.729258923996124,-47.86913141145446,47.01469354834117,-17.617355281168162,40.7942063190873,-9.650028884717193,42.109466063952105,-22.802659854718282,-33.243262496926974,-20.228906165963856,4.461070170010786,31.906085154854118,17.20489144912949,51.99229785599338,22.67323239076939,14.452220615808269,47.71871495509405,44.81711416853252,-41.645247599391524,-5.566298439287484,-42.968285457896144,-7.311710275493727,-31.719988912475003,-16.00433856663459,21.65195160853394,-25.92802290383434,-21.818228212218997,-41.190363442562244,-21.865556627376105,17.501480361881672,7.891927341379916,-45.73137988730261,40.81353706105365,-34.7378268462484,-7.739630627762459,-8.378198447592048,30.457887185502994,-40.27751140030844,24.296870292773022,-38.46832387531059,12.094940476385643,-18.921276707477173,-46.54642521684238,-17.24521300337462,-26.64217185484474,47.89205467596988,-3.393419055708062,-9.742234924751251,33.08133856789445,31.60338685959809,8.912358145896375,40.25765163494415,21.57365265877259,-16.831990502084953,-29.70560229745469,16.463365033717103,22.214272107924256,-38.57783324014645,19.574560642623673,-34.41486868159721,40.414307160782705,26.669353376607432,45.78211543026698,22.616159457325892,20.3588181189425,46.34671163701168,40.843158485387626,-19.007641609191943,-14.361170214918847,-30.388521813417285,-39.390101995724265,26.095502852704826,-20.224991861085492,-26.227874094460375,-5.929949233068529,-3.3619709704798915,28.88613909905151,-41.510453624649884,-29.20701626414983,16.879535018220096,1.9903231959973164,13.841978342043573,38.30285329813472,-3.0658796548192306,21.735782042973412,-43.735617985093434,-23.425224711641164,18.89493384677389,17.965608118740413,-22.21855142917357,18.892996513712134,43.48798540291338,-5.739289032448429,36.34663797410414,-23.033158974996194,-10.87798246382442,-38.3959087699031],\"type\":\"scatter3d\"},{\"marker\":{\"color\":\"red\",\"size\":2},\"mode\":\"markers\",\"name\":\"Observed Points\",\"x\":[-7.212878591162168,-2.341251203378894,-9.965537265282691,-6.0236772984722275,-9.982415950540883,8.985069871543732,-4.1161854936314075,7.4707973765942555,-2.433586625992521,7.77414962018868,-4.966929041077906,-7.101253885079359,-4.474266159074299,0.4665067934481222,5.715688128876248,2.7116642947616256,9.698229952677949,3.856018255230694,2.309938761435644,8.797257559477195,8.302335713657747,-9.019654825429377,-1.614841857045823,-9.152587096534582,-2.2032125575564576,-6.875498071274928,-3.9063264108053053,3.8896804470689172,-5.902328119287466,-4.763785663162388,-8.751382916996098,-5.14777602911108,3.0244968497574725,1.051070012718828,-9.588881563146327,7.653243540293889,-7.450341640795399,-2.183731668860787,-2.4303928724695982,5.547748657263774,-8.53463855746779,4.086768085432153,-8.349488341613558,1.9388554133330143,-4.355075617220683,-9.975266301901716,-4.211220433634352,-5.864486484407663,9.117759885649377,-1.2595766408804536,-2.72401297545803,6.160135342453877,5.545282688674993,1.1383754262391594,7.329524407599315,3.6475453401134157,-3.891774053072785,-6.426228092125747,2.75690988025962,3.772548826760554,-8.153508528997651,3.2499265344178276,-7.623528108870374,7.3049158416216216,4.912856947784977,8.357384084807222,3.724563538539453,3.5211129582553795,8.555954797800403,7.5605203102259,-4.529699842981023,-3.637377576608345,-6.724755624398915,-8.513486995694429,4.521761209039951,-4.749473112091391,-5.755464923401876,-1.7694993156645609,-1.2549080347788095,5.2925874340962125,-9.042162485148197,-6.5876382353133405,2.6484111319674675,-0.11445518724451631,2.365885008799964,7.166416383040083,-1.4069445008251247,3.848638524440087,-9.41311153116379,-5.3912030616380235,3.3182156601746833,2.955166305893469,-4.98661187161378,3.1412517388026,7.959069686049144,-1.5804208596871412,6.5481103919634265,-5.344681736227268,-2.8022999808867732,-8.471984622593162],\"y\":[8.759619241331201,1.586331477823684,3.54572270252428,3.8912756836501536,-9.570516587500467,-9.1065580937749,-0.3642781301112805,4.402194361160252,-4.82095754754587,2.3871796300870134,-9.680146493287554,-7.369930715301763,-8.575753705923637,-8.714637972298249,3.2764451047287686,6.46569975321362,5.01148092603637,3.931411146159201,-0.9747319136995198,7.3242715770807045,3.0543560024378618,4.530265277553639,-4.920891540583696,-2.053499752232357,7.043525122885626,-3.4249855610037017,5.272934873919372,-7.964506268106504,5.836176926029907,-9.992998964070608,-4.334488575817499,8.73323518179295,-6.2100388690568975,-3.6342272221422345,-7.869720715709699,-4.526806404157943,-4.861186422714074,1.7902771654147642,7.737659147559427,-2.808561008158774,-6.043186129694944,8.630298656122545,2.791178327571995,-5.9933659027942765,-1.4589862137375533,3.2990629266619145,8.108891647971415,-3.1973943280642425,-6.967447522770065,-0.9553585130579414,8.778299525389002,-7.19338144374942,8.769734162231245,2.204810147005782,6.1002959694757735,3.3592595820551256,-3.7312023672102423,-5.744618368259511,-3.211843675809954,3.5152797412148367,-8.102905951581917,3.2492797053453586,7.027718627546562,8.897279526745944,-8.949313623174543,9.951950062308644,9.933417646286262,-2.4674667233439624,5.669376480096663,0.405569342581245,6.408576057131722,8.257176681228785,2.3525630857729105,1.7733298274787792,4.8669680750507105,5.2237369937146205,-4.505494774510002,-0.8245265474572463,-0.874307965858435,-5.767980714295524,7.00358801091096,7.311749124168724,6.3747935838276,-4.3740086778010205,-9.874467019562461,-5.292286170656961,9.688428493063931,-5.074105792270225,3.299396707255122,5.307905965489532,-6.961444540995279,1.8977658927306784,-2.85492071104668,1.8673781969913499,6.926369726676583,-8.371847340127236,6.060860142870073,6.9024970614014585,1.3351744060944526,9.64014343062711],\"z\":[-50.040483502508444,-14.68277902253218,-85.48191569791828,-1.9320898934123107,-34.35909054319326,71.60242278281859,1.8272305855551636,87.42749348408647,26.53064259070598,5.3175596592110566,-13.78596904908191,-69.18749968608074,-9.460473723171797,5.063602541145723,17.558587074708843,48.55878064565323,96.2908929345943,57.76167942287434,-15.172221979189242,56.83615835508956,87.69362594898209,-14.424697777592911,-27.70223433237141,-28.746005358373385,29.936407101182187,-10.99774562300955,-3.2413365440303092,51.26531642985577,28.31665587787281,-58.13778514395531,11.526220066230302,-27.557886988014946,90.71138650529815,30.68616189093961,-54.323444669017476,81.98341520624447,1.1388148251396757,21.468673853864395,-59.47537629444803,27.862464417504373,-50.67057879885031,23.794062357428867,-93.68632780188392,68.0996572052758,-15.441770704447165,-41.920495068234935,-13.698969769115044,-41.20879105996124,5.490258270736263,-23.242124151399647,-14.395783563640357,41.142120981595184,1.637872177005601,-25.739890744736698,39.29039808493713,79.06585316360616,5.473483812267091,-35.94041507576355,30.375055948773863,-16.853685805181083,-90.84517638493978,76.00869872039902,-33.574315016265935,81.84155259535113,70.6069953277129,59.12698255479035,67.42505088489006,102.39208133643623,30.48572812641083,69.8256290871372,35.07679917894656,-12.005216880360946,-24.09483931380285,-28.967506014714345,61.76647408784496,-32.830251786071535,13.305285813357628,1.6965941264684297,-16.388369317620054,-8.536227324761317,-62.06041473879705,3.2128746867268276,116.62795408709967,12.57677606495781,4.4769994546174186,104.66599526343337,16.50590240553779,58.70677959117848,-66.92357008067383,-77.26283133689867,41.63546804513703,78.83314263976388,22.26253427983355,-21.43532474785873,29.78341881187456,1.990893264015818,77.69875029944987,-11.440812402742342,31.206707237528587,-32.78737386455893],\"type\":\"scatter3d\"},{\"marker\":{\"color\":\"blue\",\"size\":2},\"mode\":\"markers\",\"name\":\"Predicted Points\",\"x\":[-7.212878591162168,-2.341251203378894,-9.965537265282691,-6.0236772984722275,-9.982415950540883,8.985069871543732,-4.1161854936314075,7.4707973765942555,-2.433586625992521,7.77414962018868,-4.966929041077906,-7.101253885079359,-4.474266159074299,0.4665067934481222,5.715688128876248,2.7116642947616256,9.698229952677949,3.856018255230694,2.309938761435644,8.797257559477195,8.302335713657747,-9.019654825429377,-1.614841857045823,-9.152587096534582,-2.2032125575564576,-6.875498071274928,-3.9063264108053053,3.8896804470689172,-5.902328119287466,-4.763785663162388,-8.751382916996098,-5.14777602911108,3.0244968497574725,1.051070012718828,-9.588881563146327,7.653243540293889,-7.450341640795399,-2.183731668860787,-2.4303928724695982,5.547748657263774,-8.53463855746779,4.086768085432153,-8.349488341613558,1.9388554133330143,-4.355075617220683,-9.975266301901716,-4.211220433634352,-5.864486484407663,9.117759885649377,-1.2595766408804536,-2.72401297545803,6.160135342453877,5.545282688674993,1.1383754262391594,7.329524407599315,3.6475453401134157,-3.891774053072785,-6.426228092125747,2.75690988025962,3.772548826760554,-8.153508528997651,3.2499265344178276,-7.623528108870374,7.3049158416216216,4.912856947784977,8.357384084807222,3.724563538539453,3.5211129582553795,8.555954797800403,7.5605203102259,-4.529699842981023,-3.637377576608345,-6.724755624398915,-8.513486995694429,4.521761209039951,-4.749473112091391,-5.755464923401876,-1.7694993156645609,-1.2549080347788095,5.2925874340962125,-9.042162485148197,-6.5876382353133405,2.6484111319674675,-0.11445518724451631,2.365885008799964,7.166416383040083,-1.4069445008251247,3.848638524440087,-9.41311153116379,-5.3912030616380235,3.3182156601746833,2.955166305893469,-4.98661187161378,3.1412517388026,7.959069686049144,-1.5804208596871412,6.5481103919634265,-5.344681736227268,-2.8022999808867732,-8.471984622593162],\"y\":[8.759619241331201,1.586331477823684,3.54572270252428,3.8912756836501536,-9.570516587500467,-9.1065580937749,-0.3642781301112805,4.402194361160252,-4.82095754754587,2.3871796300870134,-9.680146493287554,-7.369930715301763,-8.575753705923637,-8.714637972298249,3.2764451047287686,6.46569975321362,5.01148092603637,3.931411146159201,-0.9747319136995198,7.3242715770807045,3.0543560024378618,4.530265277553639,-4.920891540583696,-2.053499752232357,7.043525122885626,-3.4249855610037017,5.272934873919372,-7.964506268106504,5.836176926029907,-9.992998964070608,-4.334488575817499,8.73323518179295,-6.2100388690568975,-3.6342272221422345,-7.869720715709699,-4.526806404157943,-4.861186422714074,1.7902771654147642,7.737659147559427,-2.808561008158774,-6.043186129694944,8.630298656122545,2.791178327571995,-5.9933659027942765,-1.4589862137375533,3.2990629266619145,8.108891647971415,-3.1973943280642425,-6.967447522770065,-0.9553585130579414,8.778299525389002,-7.19338144374942,8.769734162231245,2.204810147005782,6.1002959694757735,3.3592595820551256,-3.7312023672102423,-5.744618368259511,-3.211843675809954,3.5152797412148367,-8.102905951581917,3.2492797053453586,7.027718627546562,8.897279526745944,-8.949313623174543,9.951950062308644,9.933417646286262,-2.4674667233439624,5.669376480096663,0.405569342581245,6.408576057131722,8.257176681228785,2.3525630857729105,1.7733298274787792,4.8669680750507105,5.2237369937146205,-4.505494774510002,-0.8245265474572463,-0.874307965858435,-5.767980714295524,7.00358801091096,7.311749124168724,6.3747935838276,-4.3740086778010205,-9.874467019562461,-5.292286170656961,9.688428493063931,-5.074105792270225,3.299396707255122,5.307905965489532,-6.961444540995279,1.8977658927306784,-2.85492071104668,1.8673781969913499,6.926369726676583,-8.371847340127236,6.060860142870073,6.9024970614014585,1.3351744060944526,9.64014343062711],\"z\":[-29.43647253984447,0.29319931609040495,-46.78199713359338,-22.363270525583733,-47.660818497623964,69.76671016489578,-10.807998327948134,61.1915729158022,-0.6565854015691528,62.95022434031246,-16.62370073710837,-29.697814496011173,-13.509140274898613,17.063804861887462,50.26178098832543,31.856521042693096,75.01434143748584,38.78993516867823,28.93075765482345,69.57427218276189,66.2588452125353,-40.86928874678901,4.405173660767263,-42.08076825252394,1.4697750099743594,-28.067588669444188,-9.176258798537315,38.295983670193436,-21.49735202022693,-15.384805356663172,-39.73216015390365,-16.65598161085306,33.04446882797251,20.98192089949906,-45.124608327842935,61.79368608371688,-31.710399446727873,1.2802142613512295,0.10461179652847186,48.86306826180872,-38.491488065441175,40.49558256308406,-36.82393339653591,26.337632377143855,-12.351248711004686,-46.85677763538884,-10.895986773027847,-21.796448904606446,70.71428892958593,6.83821942719051,-1.6513267142351253,52.39459536875681,49.531358615705074,21.867023985200987,60.41740895922011,37.465803945067925,-9.61776803901892,-25.42375650754335,31.565232749636614,38.24872989290924,-36.25406669235487,34.99823087441159,-32.08045395272005,60.43022000491615,44.57084175681899,67.00678636956671,38.330633520164795,36.339249479241055,67.98301662394279,61.51096645344121,-12.96761230271558,-7.335405280911733,-26.793469248849892,-37.899101940280346,42.96581515719252,-14.397859131359937,-21.198881848324508,3.6897532522091545,6.871901003838142,47.109019240150175,-40.862582169205936,-25.651996839717224,31.459645770049878,13.72417349395237,28.751621464783355,58.7352546887863,6.554461745407776,38.212594789985246,-43.37727477005048,-18.36490744443636,34.81809398642527,33.09400870454279,-16.342584278762363,34.243999152847486,64.36277813608733,4.41448823139428,55.578482289279435,-17.982820862982283,-2.5753112704596433,-37.17778407251154],\"type\":\"scatter3d\"}],                        {\"scene\":{\"camera\":{\"eye\":{\"x\":-1,\"y\":-2,\"z\":0.5}},\"xaxis\":{\"title\":{\"text\":\"Feature 1\"}},\"yaxis\":{\"title\":{\"text\":\"Feature 2\"}},\"zaxis\":{\"title\":{\"text\":\"Response\"}}},\"title\":{\"text\":\"$\\\\text{(4) Bivariate Linear Regression}$\"},\"template\":{\"data\":{\"barpolar\":[{\"marker\":{\"line\":{\"color\":\"white\",\"width\":0.5},\"pattern\":{\"fillmode\":\"overlay\",\"size\":10,\"solidity\":0.2}},\"type\":\"barpolar\"}],\"bar\":[{\"error_x\":{\"color\":\"rgb(36,36,36)\"},\"error_y\":{\"color\":\"rgb(36,36,36)\"},\"marker\":{\"line\":{\"color\":\"white\",\"width\":0.5},\"pattern\":{\"fillmode\":\"overlay\",\"size\":10,\"solidity\":0.2}},\"type\":\"bar\"}],\"carpet\":[{\"aaxis\":{\"endlinecolor\":\"rgb(36,36,36)\",\"gridcolor\":\"white\",\"linecolor\":\"white\",\"minorgridcolor\":\"white\",\"startlinecolor\":\"rgb(36,36,36)\"},\"baxis\":{\"endlinecolor\":\"rgb(36,36,36)\",\"gridcolor\":\"white\",\"linecolor\":\"white\",\"minorgridcolor\":\"white\",\"startlinecolor\":\"rgb(36,36,36)\"},\"type\":\"carpet\"}],\"choropleth\":[{\"colorbar\":{\"outlinewidth\":1,\"tickcolor\":\"rgb(36,36,36)\",\"ticks\":\"outside\"},\"type\":\"choropleth\"}],\"contourcarpet\":[{\"colorbar\":{\"outlinewidth\":1,\"tickcolor\":\"rgb(36,36,36)\",\"ticks\":\"outside\"},\"type\":\"contourcarpet\"}],\"contour\":[{\"colorbar\":{\"outlinewidth\":1,\"tickcolor\":\"rgb(36,36,36)\",\"ticks\":\"outside\"},\"colorscale\":[[0.0,\"#440154\"],[0.1111111111111111,\"#482878\"],[0.2222222222222222,\"#3e4989\"],[0.3333333333333333,\"#31688e\"],[0.4444444444444444,\"#26828e\"],[0.5555555555555556,\"#1f9e89\"],[0.6666666666666666,\"#35b779\"],[0.7777777777777778,\"#6ece58\"],[0.8888888888888888,\"#b5de2b\"],[1.0,\"#fde725\"]],\"type\":\"contour\"}],\"heatmapgl\":[{\"colorbar\":{\"outlinewidth\":1,\"tickcolor\":\"rgb(36,36,36)\",\"ticks\":\"outside\"},\"colorscale\":[[0.0,\"#440154\"],[0.1111111111111111,\"#482878\"],[0.2222222222222222,\"#3e4989\"],[0.3333333333333333,\"#31688e\"],[0.4444444444444444,\"#26828e\"],[0.5555555555555556,\"#1f9e89\"],[0.6666666666666666,\"#35b779\"],[0.7777777777777778,\"#6ece58\"],[0.8888888888888888,\"#b5de2b\"],[1.0,\"#fde725\"]],\"type\":\"heatmapgl\"}],\"heatmap\":[{\"colorbar\":{\"outlinewidth\":1,\"tickcolor\":\"rgb(36,36,36)\",\"ticks\":\"outside\"},\"colorscale\":[[0.0,\"#440154\"],[0.1111111111111111,\"#482878\"],[0.2222222222222222,\"#3e4989\"],[0.3333333333333333,\"#31688e\"],[0.4444444444444444,\"#26828e\"],[0.5555555555555556,\"#1f9e89\"],[0.6666666666666666,\"#35b779\"],[0.7777777777777778,\"#6ece58\"],[0.8888888888888888,\"#b5de2b\"],[1.0,\"#fde725\"]],\"type\":\"heatmap\"}],\"histogram2dcontour\":[{\"colorbar\":{\"outlinewidth\":1,\"tickcolor\":\"rgb(36,36,36)\",\"ticks\":\"outside\"},\"colorscale\":[[0.0,\"#440154\"],[0.1111111111111111,\"#482878\"],[0.2222222222222222,\"#3e4989\"],[0.3333333333333333,\"#31688e\"],[0.4444444444444444,\"#26828e\"],[0.5555555555555556,\"#1f9e89\"],[0.6666666666666666,\"#35b779\"],[0.7777777777777778,\"#6ece58\"],[0.8888888888888888,\"#b5de2b\"],[1.0,\"#fde725\"]],\"type\":\"histogram2dcontour\"}],\"histogram2d\":[{\"colorbar\":{\"outlinewidth\":1,\"tickcolor\":\"rgb(36,36,36)\",\"ticks\":\"outside\"},\"colorscale\":[[0.0,\"#440154\"],[0.1111111111111111,\"#482878\"],[0.2222222222222222,\"#3e4989\"],[0.3333333333333333,\"#31688e\"],[0.4444444444444444,\"#26828e\"],[0.5555555555555556,\"#1f9e89\"],[0.6666666666666666,\"#35b779\"],[0.7777777777777778,\"#6ece58\"],[0.8888888888888888,\"#b5de2b\"],[1.0,\"#fde725\"]],\"type\":\"histogram2d\"}],\"histogram\":[{\"marker\":{\"line\":{\"color\":\"white\",\"width\":0.6}},\"type\":\"histogram\"}],\"mesh3d\":[{\"colorbar\":{\"outlinewidth\":1,\"tickcolor\":\"rgb(36,36,36)\",\"ticks\":\"outside\"},\"type\":\"mesh3d\"}],\"parcoords\":[{\"line\":{\"colorbar\":{\"outlinewidth\":1,\"tickcolor\":\"rgb(36,36,36)\",\"ticks\":\"outside\"}},\"type\":\"parcoords\"}],\"pie\":[{\"automargin\":true,\"type\":\"pie\"}],\"scatter3d\":[{\"line\":{\"colorbar\":{\"outlinewidth\":1,\"tickcolor\":\"rgb(36,36,36)\",\"ticks\":\"outside\"}},\"marker\":{\"colorbar\":{\"outlinewidth\":1,\"tickcolor\":\"rgb(36,36,36)\",\"ticks\":\"outside\"}},\"type\":\"scatter3d\"}],\"scattercarpet\":[{\"marker\":{\"colorbar\":{\"outlinewidth\":1,\"tickcolor\":\"rgb(36,36,36)\",\"ticks\":\"outside\"}},\"type\":\"scattercarpet\"}],\"scattergeo\":[{\"marker\":{\"colorbar\":{\"outlinewidth\":1,\"tickcolor\":\"rgb(36,36,36)\",\"ticks\":\"outside\"}},\"type\":\"scattergeo\"}],\"scattergl\":[{\"marker\":{\"colorbar\":{\"outlinewidth\":1,\"tickcolor\":\"rgb(36,36,36)\",\"ticks\":\"outside\"}},\"type\":\"scattergl\"}],\"scattermapbox\":[{\"marker\":{\"colorbar\":{\"outlinewidth\":1,\"tickcolor\":\"rgb(36,36,36)\",\"ticks\":\"outside\"}},\"type\":\"scattermapbox\"}],\"scatterpolargl\":[{\"marker\":{\"colorbar\":{\"outlinewidth\":1,\"tickcolor\":\"rgb(36,36,36)\",\"ticks\":\"outside\"}},\"type\":\"scatterpolargl\"}],\"scatterpolar\":[{\"marker\":{\"colorbar\":{\"outlinewidth\":1,\"tickcolor\":\"rgb(36,36,36)\",\"ticks\":\"outside\"}},\"type\":\"scatterpolar\"}],\"scatter\":[{\"marker\":{\"colorbar\":{\"outlinewidth\":1,\"tickcolor\":\"rgb(36,36,36)\",\"ticks\":\"outside\"}},\"type\":\"scatter\"}],\"scatterternary\":[{\"marker\":{\"colorbar\":{\"outlinewidth\":1,\"tickcolor\":\"rgb(36,36,36)\",\"ticks\":\"outside\"}},\"type\":\"scatterternary\"}],\"surface\":[{\"colorbar\":{\"outlinewidth\":1,\"tickcolor\":\"rgb(36,36,36)\",\"ticks\":\"outside\"},\"colorscale\":[[0.0,\"#440154\"],[0.1111111111111111,\"#482878\"],[0.2222222222222222,\"#3e4989\"],[0.3333333333333333,\"#31688e\"],[0.4444444444444444,\"#26828e\"],[0.5555555555555556,\"#1f9e89\"],[0.6666666666666666,\"#35b779\"],[0.7777777777777778,\"#6ece58\"],[0.8888888888888888,\"#b5de2b\"],[1.0,\"#fde725\"]],\"type\":\"surface\"}],\"table\":[{\"cells\":{\"fill\":{\"color\":\"rgb(237,237,237)\"},\"line\":{\"color\":\"white\"}},\"header\":{\"fill\":{\"color\":\"rgb(217,217,217)\"},\"line\":{\"color\":\"white\"}},\"type\":\"table\"}]},\"layout\":{\"annotationdefaults\":{\"arrowhead\":0,\"arrowwidth\":1},\"autotypenumbers\":\"strict\",\"coloraxis\":{\"colorbar\":{\"outlinewidth\":1,\"tickcolor\":\"rgb(36,36,36)\",\"ticks\":\"outside\"}},\"colorscale\":{\"diverging\":[[0.0,\"rgb(103,0,31)\"],[0.1,\"rgb(178,24,43)\"],[0.2,\"rgb(214,96,77)\"],[0.3,\"rgb(244,165,130)\"],[0.4,\"rgb(253,219,199)\"],[0.5,\"rgb(247,247,247)\"],[0.6,\"rgb(209,229,240)\"],[0.7,\"rgb(146,197,222)\"],[0.8,\"rgb(67,147,195)\"],[0.9,\"rgb(33,102,172)\"],[1.0,\"rgb(5,48,97)\"]],\"sequential\":[[0.0,\"#440154\"],[0.1111111111111111,\"#482878\"],[0.2222222222222222,\"#3e4989\"],[0.3333333333333333,\"#31688e\"],[0.4444444444444444,\"#26828e\"],[0.5555555555555556,\"#1f9e89\"],[0.6666666666666666,\"#35b779\"],[0.7777777777777778,\"#6ece58\"],[0.8888888888888888,\"#b5de2b\"],[1.0,\"#fde725\"]],\"sequentialminus\":[[0.0,\"#440154\"],[0.1111111111111111,\"#482878\"],[0.2222222222222222,\"#3e4989\"],[0.3333333333333333,\"#31688e\"],[0.4444444444444444,\"#26828e\"],[0.5555555555555556,\"#1f9e89\"],[0.6666666666666666,\"#35b779\"],[0.7777777777777778,\"#6ece58\"],[0.8888888888888888,\"#b5de2b\"],[1.0,\"#fde725\"]]},\"colorway\":[\"#1F77B4\",\"#FF7F0E\",\"#2CA02C\",\"#D62728\",\"#9467BD\",\"#8C564B\",\"#E377C2\",\"#7F7F7F\",\"#BCBD22\",\"#17BECF\"],\"font\":{\"color\":\"rgb(36,36,36)\"},\"geo\":{\"bgcolor\":\"white\",\"lakecolor\":\"white\",\"landcolor\":\"white\",\"showlakes\":true,\"showland\":true,\"subunitcolor\":\"white\"},\"hoverlabel\":{\"align\":\"left\"},\"hovermode\":\"closest\",\"mapbox\":{\"style\":\"light\"},\"paper_bgcolor\":\"white\",\"plot_bgcolor\":\"white\",\"polar\":{\"angularaxis\":{\"gridcolor\":\"rgb(232,232,232)\",\"linecolor\":\"rgb(36,36,36)\",\"showgrid\":false,\"showline\":true,\"ticks\":\"outside\"},\"bgcolor\":\"white\",\"radialaxis\":{\"gridcolor\":\"rgb(232,232,232)\",\"linecolor\":\"rgb(36,36,36)\",\"showgrid\":false,\"showline\":true,\"ticks\":\"outside\"}},\"scene\":{\"xaxis\":{\"backgroundcolor\":\"white\",\"gridcolor\":\"rgb(232,232,232)\",\"gridwidth\":2,\"linecolor\":\"rgb(36,36,36)\",\"showbackground\":true,\"showgrid\":false,\"showline\":true,\"ticks\":\"outside\",\"zeroline\":false,\"zerolinecolor\":\"rgb(36,36,36)\"},\"yaxis\":{\"backgroundcolor\":\"white\",\"gridcolor\":\"rgb(232,232,232)\",\"gridwidth\":2,\"linecolor\":\"rgb(36,36,36)\",\"showbackground\":true,\"showgrid\":false,\"showline\":true,\"ticks\":\"outside\",\"zeroline\":false,\"zerolinecolor\":\"rgb(36,36,36)\"},\"zaxis\":{\"backgroundcolor\":\"white\",\"gridcolor\":\"rgb(232,232,232)\",\"gridwidth\":2,\"linecolor\":\"rgb(36,36,36)\",\"showbackground\":true,\"showgrid\":false,\"showline\":true,\"ticks\":\"outside\",\"zeroline\":false,\"zerolinecolor\":\"rgb(36,36,36)\"}},\"shapedefaults\":{\"fillcolor\":\"black\",\"line\":{\"width\":0},\"opacity\":0.3},\"ternary\":{\"aaxis\":{\"gridcolor\":\"rgb(232,232,232)\",\"linecolor\":\"rgb(36,36,36)\",\"showgrid\":false,\"showline\":true,\"ticks\":\"outside\"},\"baxis\":{\"gridcolor\":\"rgb(232,232,232)\",\"linecolor\":\"rgb(36,36,36)\",\"showgrid\":false,\"showline\":true,\"ticks\":\"outside\"},\"bgcolor\":\"white\",\"caxis\":{\"gridcolor\":\"rgb(232,232,232)\",\"linecolor\":\"rgb(36,36,36)\",\"showgrid\":false,\"showline\":true,\"ticks\":\"outside\"}},\"title\":{\"x\":0.05},\"xaxis\":{\"automargin\":true,\"gridcolor\":\"rgb(232,232,232)\",\"linecolor\":\"rgb(36,36,36)\",\"showgrid\":false,\"showline\":true,\"ticks\":\"outside\",\"title\":{\"standoff\":15},\"zeroline\":false,\"zerolinecolor\":\"rgb(36,36,36)\"},\"yaxis\":{\"automargin\":true,\"gridcolor\":\"rgb(232,232,232)\",\"linecolor\":\"rgb(36,36,36)\",\"showgrid\":false,\"showline\":true,\"ticks\":\"outside\",\"title\":{\"standoff\":15},\"zeroline\":false,\"zerolinecolor\":\"rgb(36,36,36)\"},\"margin\":{\"b\":0,\"l\":20,\"r\":20,\"t\":40}}}},                        {\"responsive\": true}                    ).then(function(){\n",
       "                            \n",
       "var gd = document.getElementById('ffd1ceff-6b1e-467f-97c7-63021751184d');\n",
       "var x = new MutationObserver(function (mutations, observer) {{\n",
       "        var display = window.getComputedStyle(gd).display;\n",
       "        if (!display || display === 'none') {{\n",
       "            console.log([gd, 'removed!']);\n",
       "            Plotly.purge(gd);\n",
       "            observer.disconnect();\n",
       "        }}\n",
       "}});\n",
       "\n",
       "// Listen for the removal of the full notebook cells\n",
       "var notebookContainer = gd.closest('#notebook-container');\n",
       "if (notebookContainer) {{\n",
       "    x.observe(notebookContainer, {childList: true});\n",
       "}}\n",
       "\n",
       "// Listen for the clearing of the current output cell\n",
       "var outputEl = gd.closest('.output');\n",
       "if (outputEl) {{\n",
       "    x.observe(outputEl, {childList: true});\n",
       "}}\n",
       "\n",
       "                        })                };                });            </script>        </div>"
      ]
     },
     "metadata": {},
     "output_type": "display_data"
    }
   ],
   "source": [
    "go.Figure([go.Surface(x=xv1, y=xv2, z=surface, opacity=.5, showscale=False),\n",
    "           go.Scatter3d(name=\"Real (noise-less) Points\", x=x[:,0], y=x[:,1], z=y_,    mode=\"markers\", marker=dict(color=\"black\", size=2)),\n",
    "           go.Scatter3d(name=\"Observed Points\",          x=x[:,0], y=x[:,1], z=y,     mode=\"markers\", marker=dict(color=\"red\", size=2)),\n",
    "           go.Scatter3d(name=\"Predicted Points\",         x=x[:,0], y=x[:,1], z=y_hat, mode=\"markers\", marker=dict(color=\"blue\", size=2))],\n",
    "          layout=go.Layout(\n",
    "              title=r\"$\\text{(4) Bivariate Linear Regression}$\",\n",
    "              scene=dict(xaxis=dict(title=\"Feature 1\"),\n",
    "                         yaxis=dict(title=\"Feature 2\"),\n",
    "                         zaxis=dict(title=\"Response\"),\n",
    "                         camera=dict(eye=dict(x=-1, y=-2, z=.5)))\n",
    "          )).show()"
   ]
  },
  {
   "cell_type": "markdown",
   "metadata": {
    "pycharm": {
     "name": "#%% md\n"
    }
   },
   "source": [
    "# Time To Think...\n",
    "In the scenario above we performed a linear regression over observations with more than two features (i.e multi-variate\n",
    "linear regression). In gradient color we see the subspace from which our data-points are drawn. As we have 2 features, the subspace is a 2D plane.\n",
    "\n",
    "Try rotating the figure above and look at the plane from its different axes (such that it looks like a line rather than a plane). This view allows you to see the fit between the one specific feature and the response, similar to the case of fitting a simple linear regression using that feature. \n",
    "\n",
    "Run the code generating the data and graph with more/less samples and high/lower noise levels. How do these changes influence the quality of the fit? "
   ]
  },
  {
   "cell_type": "code",
   "execution_count": null,
   "metadata": {},
   "outputs": [],
   "source": []
  },
  {
   "cell_type": "code",
   "execution_count": null,
   "metadata": {},
   "outputs": [],
   "source": []
  },
  {
   "cell_type": "code",
   "execution_count": null,
   "metadata": {},
   "outputs": [],
   "source": []
  },
  {
   "cell_type": "code",
   "execution_count": null,
   "metadata": {},
   "outputs": [],
   "source": []
  },
  {
   "cell_type": "code",
   "execution_count": null,
   "metadata": {},
   "outputs": [],
   "source": []
  },
  {
   "cell_type": "code",
   "execution_count": null,
   "metadata": {},
   "outputs": [],
   "source": []
  },
  {
   "cell_type": "code",
   "execution_count": null,
   "metadata": {},
   "outputs": [],
   "source": []
  },
  {
   "cell_type": "code",
   "execution_count": null,
   "metadata": {},
   "outputs": [],
   "source": []
  },
  {
   "cell_type": "code",
   "execution_count": null,
   "metadata": {},
   "outputs": [],
   "source": []
  },
  {
   "cell_type": "code",
   "execution_count": null,
   "metadata": {},
   "outputs": [],
   "source": []
  },
  {
   "cell_type": "code",
   "execution_count": null,
   "metadata": {},
   "outputs": [],
   "source": []
  },
  {
   "cell_type": "code",
   "execution_count": null,
   "metadata": {},
   "outputs": [],
   "source": []
  }
 ],
 "metadata": {
  "kernelspec": {
   "display_name": "Python 3 (ipykernel)",
   "language": "python",
   "name": "python3"
  },
  "language_info": {
   "codemirror_mode": {
    "name": "ipython",
    "version": 3
   },
   "file_extension": ".py",
   "mimetype": "text/x-python",
   "name": "python",
   "nbconvert_exporter": "python",
   "pygments_lexer": "ipython3",
   "version": "3.7.11"
  },
  "pycharm": {
   "stem_cell": {
    "cell_type": "raw",
    "metadata": {
     "collapsed": false
    },
    "source": []
   }
  }
 },
 "nbformat": 4,
 "nbformat_minor": 1
}
